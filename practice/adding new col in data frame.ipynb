{
 "cells": [
  {
   "cell_type": "code",
   "execution_count": 1,
   "id": "bdea22e2-5de5-4504-a298-088650ae3a60",
   "metadata": {},
   "outputs": [],
   "source": [
    "#adding new col in data frame \n",
    "#dataframe[colname]"
   ]
  },
  {
   "cell_type": "code",
   "execution_count": 5,
   "id": "3f373cf1-2aec-4804-bc4c-af5aa0a7846e",
   "metadata": {},
   "outputs": [
    {
     "name": "stdout",
     "output_type": "stream",
     "text": [
      "    htno     name  telugu  english  hindi  maths  science  social\n",
      "0    100   Ramesh      50       60     66     98       66      55\n",
      "1    101   Rajesh      45       67     34     67       66      78\n",
      "2    102   Rossum      56       88     56     99       44      77\n",
      "3    103     Raji      56       78     34     56       88      55\n",
      "4    104   Kalyan      51       63     62     93       67      51\n",
      "5    105  Karthik      48       62     39     68       65      88\n",
      "6    106   Kambli      53       81     59     92       48      73\n",
      "7    107  Praveen      46       88     74     86       78      45\n",
      "8    108   Ganesh      53       62     76     88       76      35\n",
      "9    109     Nags      55       77     44     77       86      58\n",
      "10   110    Biswa      66       48     86     95       48      47\n",
      "11   111   Ritchi      66       68     64     76       98      75\n",
      "12   104   Kalyan      51       63     62     93       67      51\n",
      "13   112  shareef      50       63     99     90       76      67\n",
      "14   113     sonu      60       89     98     87       77      68\n",
      "15   114   Rajesh      45       67     77     55       66      46\n",
      "16   115   Rakesh      67       78     88     78       67      49\n"
     ]
    }
   ],
   "source": [
    "import pandas as pd\n",
    "df=pd.read_csv(\"C:\\\\Users\\\\prash\\\\OneDrive\\\\Desktop\\\\Pandas\\\\examdet.csv\")\n",
    "print(df)"
   ]
  },
  {
   "cell_type": "code",
   "execution_count": 13,
   "id": "a8200dbd-57f4-4064-a717-02471d0b6785",
   "metadata": {},
   "outputs": [
    {
     "name": "stdout",
     "output_type": "stream",
     "text": [
      "adding the col\n",
      "    htno     name  telugu  english  hindi  maths  science  social  total\n",
      "0    100   Ramesh      50       60     66     98       66      55      0\n",
      "1    101   Rajesh      45       67     34     67       66      78      0\n",
      "2    102   Rossum      56       88     56     99       44      77      0\n",
      "3    103     Raji      56       78     34     56       88      55      0\n",
      "4    104   Kalyan      51       63     62     93       67      51      0\n",
      "5    105  Karthik      48       62     39     68       65      88      0\n",
      "6    106   Kambli      53       81     59     92       48      73      0\n",
      "7    107  Praveen      46       88     74     86       78      45      0\n",
      "8    108   Ganesh      53       62     76     88       76      35      0\n",
      "9    109     Nags      55       77     44     77       86      58      0\n",
      "10   110    Biswa      66       48     86     95       48      47      0\n",
      "11   111   Ritchi      66       68     64     76       98      75      0\n",
      "12   104   Kalyan      51       63     62     93       67      51      0\n",
      "13   112  shareef      50       63     99     90       76      67      0\n",
      "14   113     sonu      60       89     98     87       77      68      0\n",
      "15   114   Rajesh      45       67     77     55       66      46      0\n",
      "16   115   Rakesh      67       78     88     78       67      49      0\n"
     ]
    }
   ],
   "source": [
    "print(\"adding the col\")\n",
    "df[\"total\"]=0\n",
    "print(df)"
   ]
  },
  {
   "cell_type": "code",
   "execution_count": 31,
   "id": "94a48679-0994-4b99-a257-d13671e8198c",
   "metadata": {},
   "outputs": [
    {
     "name": "stdout",
     "output_type": "stream",
     "text": [
      "    htno     name  telugu  english  hindi  maths  science  social\n",
      "0    100   Ramesh      50       60     66     98       66      55\n",
      "1    101   Rajesh      45       67     34     67       66      78\n",
      "2    102   Rossum      56       88     56     99       44      77\n",
      "3    103     Raji      56       78     34     56       88      55\n",
      "4    104   Kalyan      51       63     62     93       67      51\n",
      "5    105  Karthik      48       62     39     68       65      88\n",
      "6    106   Kambli      53       81     59     92       48      73\n",
      "7    107  Praveen      46       88     74     86       78      45\n",
      "8    108   Ganesh      53       62     76     88       76      35\n",
      "9    109     Nags      55       77     44     77       86      58\n",
      "10   110    Biswa      66       48     86     95       48      47\n",
      "11   111   Ritchi      66       68     64     76       98      75\n",
      "12   104   Kalyan      51       63     62     93       67      51\n",
      "13   112  shareef      50       63     99     90       76      67\n",
      "14   113     sonu      60       89     98     87       77      68\n",
      "15   114   Rajesh      45       67     77     55       66      46\n",
      "16   115   Rakesh      67       78     88     78       67      49\n",
      "    htno     name  telugu  english  hindi  maths  science  social  total\n",
      "0    100   Ramesh      50       60     66     98       66      55    395\n",
      "1    101   Rajesh      45       67     34     67       66      78    357\n",
      "2    102   Rossum      56       88     56     99       44      77    420\n",
      "3    103     Raji      56       78     34     56       88      55    367\n",
      "4    104   Kalyan      51       63     62     93       67      51    387\n",
      "5    105  Karthik      48       62     39     68       65      88    370\n",
      "6    106   Kambli      53       81     59     92       48      73    406\n",
      "7    107  Praveen      46       88     74     86       78      45    417\n",
      "8    108   Ganesh      53       62     76     88       76      35    390\n",
      "9    109     Nags      55       77     44     77       86      58    397\n",
      "10   110    Biswa      66       48     86     95       48      47    390\n",
      "11   111   Ritchi      66       68     64     76       98      75    447\n",
      "12   104   Kalyan      51       63     62     93       67      51    387\n",
      "13   112  shareef      50       63     99     90       76      67    445\n",
      "14   113     sonu      60       89     98     87       77      68    479\n",
      "15   114   Rajesh      45       67     77     55       66      46    356\n",
      "16   115   Rakesh      67       78     88     78       67      49    427\n"
     ]
    }
   ],
   "source": [
    "import pandas as pd\n",
    "df=pd.read_csv(\"C:\\\\Users\\\\prash\\\\OneDrive\\\\Desktop\\\\Pandas\\\\examdet.csv\")\n",
    "print(df)\n",
    "df[\"total\"]=df[\"telugu\"]+df[\"english\"]+df[\"hindi\"]+df[\"maths\"]+df[\"science\"]+df[\"social\"]\n",
    "print(df)"
   ]
  },
  {
   "cell_type": "code",
   "execution_count": 25,
   "id": "fca0f3f2-8db0-4778-afc8-a2cd48c4ccc9",
   "metadata": {},
   "outputs": [
    {
     "name": "stdout",
     "output_type": "stream",
     "text": [
      "    htno     name  telugu  english  hindi  maths  science  social  total\n",
      "0    100   Ramesh      50       60     66     98       66      55    395\n",
      "1    101   Rajesh      45       67     34     67       66      78    357\n",
      "2    102   Rossum      56       88     56     99       44      77    420\n",
      "3    103     Raji      56       78     34     56       88      55    367\n",
      "4    104   Kalyan      51       63     62     93       67      51    387\n",
      "5    105  Karthik      48       62     39     68       65      88    370\n",
      "6    106   Kambli      53       81     59     92       48      73    406\n",
      "7    107  Praveen      46       88     74     86       78      45    417\n",
      "8    108   Ganesh      53       62     76     88       76      35    390\n",
      "9    109     Nags      55       77     44     77       86      58    397\n",
      "10   110    Biswa      66       48     86     95       48      47    390\n",
      "11   111   Ritchi      66       68     64     76       98      75    447\n",
      "12   104   Kalyan      51       63     62     93       67      51    387\n",
      "13   112  shareef      50       63     99     90       76      67    445\n",
      "14   113     sonu      60       89     98     87       77      68    479\n",
      "15   114   Rajesh      45       67     77     55       66      46    356\n",
      "16   115   Rakesh      67       78     88     78       67      49    427\n"
     ]
    }
   ],
   "source": [
    "df[\"total\"]=df[\"telugu\"]+df[\"english\"]+df[\"hindi\"]+df[\"maths\"]+df[\"science\"]+df[\"social\"]\n",
    "print(df)"
   ]
  },
  {
   "cell_type": "code",
   "execution_count": 33,
   "id": "762953e3-d83c-4bb7-8c2b-4d2915c29e53",
   "metadata": {},
   "outputs": [
    {
     "name": "stdout",
     "output_type": "stream",
     "text": [
      "    htno     name  telugu  english  hindi  maths  science  social  total  \\\n",
      "0    100   Ramesh      50       60     66     98       66      55    395   \n",
      "1    101   Rajesh      45       67     34     67       66      78    357   \n",
      "2    102   Rossum      56       88     56     99       44      77    420   \n",
      "3    103     Raji      56       78     34     56       88      55    367   \n",
      "4    104   Kalyan      51       63     62     93       67      51    387   \n",
      "5    105  Karthik      48       62     39     68       65      88    370   \n",
      "6    106   Kambli      53       81     59     92       48      73    406   \n",
      "7    107  Praveen      46       88     74     86       78      45    417   \n",
      "8    108   Ganesh      53       62     76     88       76      35    390   \n",
      "9    109     Nags      55       77     44     77       86      58    397   \n",
      "10   110    Biswa      66       48     86     95       48      47    390   \n",
      "11   111   Ritchi      66       68     64     76       98      75    447   \n",
      "12   104   Kalyan      51       63     62     93       67      51    387   \n",
      "13   112  shareef      50       63     99     90       76      67    445   \n",
      "14   113     sonu      60       89     98     87       77      68    479   \n",
      "15   114   Rajesh      45       67     77     55       66      46    356   \n",
      "16   115   Rakesh      67       78     88     78       67      49    427   \n",
      "\n",
      "    percentage  \n",
      "0    65.833333  \n",
      "1    59.500000  \n",
      "2    70.000000  \n",
      "3    61.166667  \n",
      "4    64.500000  \n",
      "5    61.666667  \n",
      "6    67.666667  \n",
      "7    69.500000  \n",
      "8    65.000000  \n",
      "9    66.166667  \n",
      "10   65.000000  \n",
      "11   74.500000  \n",
      "12   64.500000  \n",
      "13   74.166667  \n",
      "14   79.833333  \n",
      "15   59.333333  \n",
      "16   71.166667  \n"
     ]
    }
   ],
   "source": [
    "df[\"percentage\"]=(df[\"total\"]/600*100)\n",
    "print(df)"
   ]
  },
  {
   "cell_type": "code",
   "execution_count": null,
   "id": "1db1ffc1-bc60-4f20-b493-a8ae10c7f358",
   "metadata": {},
   "outputs": [],
   "source": []
  }
 ],
 "metadata": {
  "kernelspec": {
   "display_name": "Python [conda env:base] *",
   "language": "python",
   "name": "conda-base-py"
  },
  "language_info": {
   "codemirror_mode": {
    "name": "ipython",
    "version": 3
   },
   "file_extension": ".py",
   "mimetype": "text/x-python",
   "name": "python",
   "nbconvert_exporter": "python",
   "pygments_lexer": "ipython3",
   "version": "3.12.7"
  }
 },
 "nbformat": 4,
 "nbformat_minor": 5
}
