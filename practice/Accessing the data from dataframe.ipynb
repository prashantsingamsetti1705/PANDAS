{
 "cells": [
  {
   "cell_type": "code",
   "execution_count": 3,
   "id": "530c0ce3-40f8-466e-8f8f-11f6414552ee",
   "metadata": {},
   "outputs": [
    {
     "name": "stdout",
     "output_type": "stream",
     "text": [
      "    htno     name  telugu  english  hindi  maths  science  social\n",
      "0    100   Ramesh      50       60     66     98       66      55\n",
      "1    101   Rajesh      45       67     34     67       66      78\n",
      "2    102   Rossum      56       88     56     99       44      77\n",
      "3    103     Raji      56       78     34     56       88      55\n",
      "4    104   Kalyan      51       63     62     93       67      51\n",
      "5    105  Karthik      48       62     39     68       65      88\n",
      "6    106   Kambli      53       81     59     92       48      73\n",
      "7    107  Praveen      46       88     74     86       78      45\n",
      "8    108   Ganesh      53       62     76     88       76      35\n",
      "9    109     Nags      55       77     44     77       86      58\n",
      "10   110    Biswa      66       48     86     95       48      47\n",
      "11   111   Ritchi      66       68     64     76       98      75\n",
      "12   104   Kalyan      51       63     62     93       67      51\n",
      "13   112  shareef      50       63     99     90       76      67\n",
      "14   113     sonu      60       89     98     87       77      68\n",
      "15   114   Rajesh      45       67     77     55       66      46\n",
      "16   115   Rakesh      67       78     88     78       67      49\n"
     ]
    }
   ],
   "source": [
    "#accesssing the data from the dataframe\n",
    "import pandas as pd\n",
    "s=pd.read_csv(\"C:\\\\Users\\\\prash\\\\OneDrive\\\\Desktop\\\\Pandas\\\\examdet.csv\")\n",
    "print(s)"
   ]
  },
  {
   "cell_type": "code",
   "execution_count": 7,
   "id": "5b4c9358-5019-4912-8c58-06e567aba68d",
   "metadata": {},
   "outputs": [
    {
     "name": "stdout",
     "output_type": "stream",
     "text": [
      "   htno     name  telugu  english  hindi  maths  science  social\n",
      "0   100   Ramesh      50       60     66     98       66      55\n",
      "1   101   Rajesh      45       67     34     67       66      78\n",
      "2   102   Rossum      56       88     56     99       44      77\n",
      "3   103     Raji      56       78     34     56       88      55\n",
      "4   104   Kalyan      51       63     62     93       67      51\n",
      "5   105  Karthik      48       62     39     68       65      88\n",
      "6   106   Kambli      53       81     59     92       48      73\n",
      "7   107  Praveen      46       88     74     86       78      45\n",
      "8   108   Ganesh      53       62     76     88       76      35\n",
      "9   109     Nags      55       77     44     77       86      58\n"
     ]
    }
   ],
   "source": [
    "df=s.head(10)\n",
    "print(df)#we will get first 10 head of data"
   ]
  },
  {
   "cell_type": "code",
   "execution_count": 9,
   "id": "524b9638-5f99-49e6-a01f-8fa889920c7f",
   "metadata": {},
   "outputs": [
    {
     "name": "stdout",
     "output_type": "stream",
     "text": [
      "    htno     name  telugu  english  hindi  maths  science  social\n",
      "7    107  Praveen      46       88     74     86       78      45\n",
      "8    108   Ganesh      53       62     76     88       76      35\n",
      "9    109     Nags      55       77     44     77       86      58\n",
      "10   110    Biswa      66       48     86     95       48      47\n",
      "11   111   Ritchi      66       68     64     76       98      75\n",
      "12   104   Kalyan      51       63     62     93       67      51\n",
      "13   112  shareef      50       63     99     90       76      67\n",
      "14   113     sonu      60       89     98     87       77      68\n",
      "15   114   Rajesh      45       67     77     55       66      46\n",
      "16   115   Rakesh      67       78     88     78       67      49\n"
     ]
    }
   ],
   "source": [
    "df=s.tail(10)\n",
    "print(df)#we will get last 10 end of data"
   ]
  },
  {
   "cell_type": "code",
   "execution_count": 19,
   "id": "281f16c4-1210-44e4-a115-345cbc533ee3",
   "metadata": {},
   "outputs": [
    {
     "name": "stdout",
     "output_type": "stream",
     "text": [
      "              htno    name     telugu    english      hindi      maths  \\\n",
      "count    17.000000      17  17.000000  17.000000  17.000000  17.000000   \n",
      "unique         NaN      15        NaN        NaN        NaN        NaN   \n",
      "top            NaN  Rajesh        NaN        NaN        NaN        NaN   \n",
      "freq           NaN       2        NaN        NaN        NaN        NaN   \n",
      "mean    107.294118     NaN  54.000000  70.705882  65.764706  82.235294   \n",
      "std       4.687279     NaN   7.141428  11.671358  20.504662  13.917298   \n",
      "min     100.000000     NaN  45.000000  48.000000  34.000000  55.000000   \n",
      "25%     104.000000     NaN  50.000000  63.000000  56.000000  76.000000   \n",
      "50%     107.000000     NaN  53.000000  67.000000  64.000000  87.000000   \n",
      "75%     111.000000     NaN  56.000000  78.000000  77.000000  93.000000   \n",
      "max     115.000000     NaN  67.000000  89.000000  99.000000  99.000000   \n",
      "\n",
      "          science     social  \n",
      "count   17.000000  17.000000  \n",
      "unique        NaN        NaN  \n",
      "top           NaN        NaN  \n",
      "freq          NaN        NaN  \n",
      "mean    69.588235  59.882353  \n",
      "std     14.339887  14.696438  \n",
      "min     44.000000  35.000000  \n",
      "25%     66.000000  49.000000  \n",
      "50%     67.000000  55.000000  \n",
      "75%     77.000000  73.000000  \n",
      "max     98.000000  88.000000  \n"
     ]
    }
   ],
   "source": [
    "df=s.describe(include=\"all\")\n",
    "print(df)#we will get 10 first head of data"
   ]
  },
  {
   "cell_type": "code",
   "execution_count": 41,
   "id": "8ee7f173-ebb6-4c96-9e45-0704044154f1",
   "metadata": {},
   "outputs": [
    {
     "name": "stdout",
     "output_type": "stream",
     "text": [
      "count         17\n",
      "unique        15\n",
      "top       Rajesh\n",
      "freq           2\n",
      "Name: name, dtype: object\n"
     ]
    }
   ],
   "source": [
    "df=s[\"name\"].describe()\n",
    "print(df)"
   ]
  },
  {
   "cell_type": "code",
   "execution_count": 51,
   "id": "46de8a71-30a1-476f-a9ed-cb5b0a77ca7f",
   "metadata": {},
   "outputs": [
    {
     "name": "stdout",
     "output_type": "stream",
     "text": [
      "<generator object DataFrame.iterrows at 0x000001E7305009D0>\n",
      "(0, htno          100\n",
      "name       Ramesh\n",
      "telugu         50\n",
      "english        60\n",
      "hindi          66\n",
      "maths          98\n",
      "science        66\n",
      "social         55\n",
      "Name: 0, dtype: object)\n",
      "(1, htno          101\n",
      "name       Rajesh\n",
      "telugu         45\n",
      "english        67\n",
      "hindi          34\n",
      "maths          67\n",
      "science        66\n",
      "social         78\n",
      "Name: 1, dtype: object)\n",
      "(2, htno          102\n",
      "name       Rossum\n",
      "telugu         56\n",
      "english        88\n",
      "hindi          56\n",
      "maths          99\n",
      "science        44\n",
      "social         77\n",
      "Name: 2, dtype: object)\n",
      "(3, htno        103\n",
      "name       Raji\n",
      "telugu       56\n",
      "english      78\n",
      "hindi        34\n",
      "maths        56\n",
      "science      88\n",
      "social       55\n",
      "Name: 3, dtype: object)\n",
      "(4, htno          104\n",
      "name       Kalyan\n",
      "telugu         51\n",
      "english        63\n",
      "hindi          62\n",
      "maths          93\n",
      "science        67\n",
      "social         51\n",
      "Name: 4, dtype: object)\n",
      "(5, htno           105\n",
      "name       Karthik\n",
      "telugu          48\n",
      "english         62\n",
      "hindi           39\n",
      "maths           68\n",
      "science         65\n",
      "social          88\n",
      "Name: 5, dtype: object)\n",
      "(6, htno          106\n",
      "name       Kambli\n",
      "telugu         53\n",
      "english        81\n",
      "hindi          59\n",
      "maths          92\n",
      "science        48\n",
      "social         73\n",
      "Name: 6, dtype: object)\n",
      "(7, htno           107\n",
      "name       Praveen\n",
      "telugu          46\n",
      "english         88\n",
      "hindi           74\n",
      "maths           86\n",
      "science         78\n",
      "social          45\n",
      "Name: 7, dtype: object)\n",
      "(8, htno          108\n",
      "name       Ganesh\n",
      "telugu         53\n",
      "english        62\n",
      "hindi          76\n",
      "maths          88\n",
      "science        76\n",
      "social         35\n",
      "Name: 8, dtype: object)\n",
      "(9, htno        109\n",
      "name       Nags\n",
      "telugu       55\n",
      "english      77\n",
      "hindi        44\n",
      "maths        77\n",
      "science      86\n",
      "social       58\n",
      "Name: 9, dtype: object)\n",
      "(10, htno         110\n",
      "name       Biswa\n",
      "telugu        66\n",
      "english       48\n",
      "hindi         86\n",
      "maths         95\n",
      "science       48\n",
      "social        47\n",
      "Name: 10, dtype: object)\n",
      "(11, htno          111\n",
      "name       Ritchi\n",
      "telugu         66\n",
      "english        68\n",
      "hindi          64\n",
      "maths          76\n",
      "science        98\n",
      "social         75\n",
      "Name: 11, dtype: object)\n",
      "(12, htno          104\n",
      "name       Kalyan\n",
      "telugu         51\n",
      "english        63\n",
      "hindi          62\n",
      "maths          93\n",
      "science        67\n",
      "social         51\n",
      "Name: 12, dtype: object)\n",
      "(13, htno           112\n",
      "name       shareef\n",
      "telugu          50\n",
      "english         63\n",
      "hindi           99\n",
      "maths           90\n",
      "science         76\n",
      "social          67\n",
      "Name: 13, dtype: object)\n",
      "(14, htno        113\n",
      "name       sonu\n",
      "telugu       60\n",
      "english      89\n",
      "hindi        98\n",
      "maths        87\n",
      "science      77\n",
      "social       68\n",
      "Name: 14, dtype: object)\n",
      "(15, htno          114\n",
      "name       Rajesh\n",
      "telugu         45\n",
      "english        67\n",
      "hindi          77\n",
      "maths          55\n",
      "science        66\n",
      "social         46\n",
      "Name: 15, dtype: object)\n",
      "(16, htno          115\n",
      "name       Rakesh\n",
      "telugu         67\n",
      "english        78\n",
      "hindi          88\n",
      "maths          78\n",
      "science        67\n",
      "social         49\n",
      "Name: 16, dtype: object)\n"
     ]
    }
   ],
   "source": [
    "df=s.iterrows()\n",
    "print(df)\n",
    "for val in s.iterrows():\n",
    "    print(val)"
   ]
  },
  {
   "cell_type": "code",
   "execution_count": 63,
   "id": "b4b09241-cede-4044-9036-1a493b63d106",
   "metadata": {},
   "outputs": [
    {
     "name": "stdout",
     "output_type": "stream",
     "text": [
      "     name  telugu\n",
      "1  Rajesh      45\n",
      "3    Raji      56\n"
     ]
    }
   ],
   "source": [
    "df=s[1:4:2][[\"name\",\"telugu\"]]\n",
    "print(df)"
   ]
  },
  {
   "cell_type": "code",
   "execution_count": 65,
   "id": "f9d353da-636b-4769-8327-88a55286350b",
   "metadata": {},
   "outputs": [
    {
     "name": "stdout",
     "output_type": "stream",
     "text": [
      "     name  telugu\n",
      "1  Rajesh      45\n",
      "2  Rossum      56\n",
      "3    Raji      56\n"
     ]
    }
   ],
   "source": [
    "df=s[1:4][[\"name\",\"telugu\"]]\n",
    "print(df)"
   ]
  },
  {
   "cell_type": "code",
   "execution_count": null,
   "id": "85ba6716-6d0b-46b4-8175-331e1529c678",
   "metadata": {},
   "outputs": [],
   "source": []
  }
 ],
 "metadata": {
  "kernelspec": {
   "display_name": "Python [conda env:base] *",
   "language": "python",
   "name": "conda-base-py"
  },
  "language_info": {
   "codemirror_mode": {
    "name": "ipython",
    "version": 3
   },
   "file_extension": ".py",
   "mimetype": "text/x-python",
   "name": "python",
   "nbconvert_exporter": "python",
   "pygments_lexer": "ipython3",
   "version": "3.12.7"
  }
 },
 "nbformat": 4,
 "nbformat_minor": 5
}
