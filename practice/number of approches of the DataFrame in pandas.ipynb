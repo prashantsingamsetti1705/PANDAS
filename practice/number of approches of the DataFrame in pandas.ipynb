{
 "cells": [
  {
   "cell_type": "code",
   "execution_count": 1,
   "id": "efeb58d8-9e91-436c-95fa-452fb6bee34d",
   "metadata": {},
   "outputs": [],
   "source": [
    "#the number of approches on dataframes in python the \n",
    "#the syntax is varname=pd.DataFrame([index,coulmns,dtype])\n",
    "#it apply on itarables, like str,range,bytes,byte array,list,tuple,frozen set,dict"
   ]
  },
  {
   "cell_type": "code",
   "execution_count": 27,
   "id": "cc921f5d-3bd3-45b4-89b3-bbbdd7363caa",
   "metadata": {},
   "outputs": [
    {
     "name": "stdout",
     "output_type": "stream",
     "text": [
      "content of the a\n",
      "['25']\n",
      "   id\n",
      "0  25\n"
     ]
    }
   ],
   "source": [
    "import pandas as pd\n",
    "s=[\"25\"]\n",
    "print(\"content of the a\")\n",
    "print(s)\n",
    "b=pd.DataFrame(s,columns=[\"id\"])\n",
    "print(b)"
   ]
  },
  {
   "cell_type": "code",
   "execution_count": 23,
   "id": "8ef3defe-b988-4bab-8295-44bb8dd37ffc",
   "metadata": {},
   "outputs": [
    {
     "name": "stdout",
     "output_type": "stream",
     "text": [
      "content of the a\n",
      "range(10, 15, 2)\n",
      "    0\n",
      "0  10\n",
      "1  12\n",
      "2  14\n"
     ]
    }
   ],
   "source": [
    "import pandas as pd\n",
    "s=range(10,15,2)\n",
    "print(\"content of the a\")\n",
    "print(s)\n",
    "b=pd.DataFrame(s)\n",
    "print(b)"
   ]
  },
  {
   "cell_type": "code",
   "execution_count": 47,
   "id": "eb1e4b20-d15e-487d-a3f0-6ffba3676255",
   "metadata": {},
   "outputs": [
    {
     "name": "stdout",
     "output_type": "stream",
     "text": [
      "content of the a\n",
      "[10, 20, 30, 40, 55]\n",
      "    0\n",
      "0  10\n",
      "1  20\n",
      "2  30\n",
      "3  40\n",
      "4  55\n",
      "**************************************************\n",
      "5\n",
      "(5, 1)\n",
      "2\n"
     ]
    }
   ],
   "source": [
    "import pandas as pd\n",
    "s=[10,20,30,40,55]#lst\n",
    "print(\"content of the a\")\n",
    "print(s)\n",
    "b=pd.DataFrame(s)\n",
    "print(b)\n",
    "print(\"*\"*50)\n",
    "print(b.size)\n",
    "print(b.shape)\n",
    "print(b.ndim)"
   ]
  },
  {
   "cell_type": "code",
   "execution_count": 51,
   "id": "d985d287-9e2b-435d-9f4c-11988c029f76",
   "metadata": {},
   "outputs": [
    {
     "name": "stdout",
     "output_type": "stream",
     "text": [
      "Content of DataFrame\n",
      "        0\n",
      "0     100\n",
      "1  Rossum\n",
      "2   45.67\n",
      "3  Python <class 'pandas.core.frame.DataFrame'>\n"
     ]
    }
   ],
   "source": [
    "#Create an object of DataFrame By using list\n",
    "lst=[100,\"Rossum\",45.67,\"Python\"]\n",
    "df=pd.DataFrame(lst)\n",
    "print(\"Content of DataFrame\")\n",
    "print(df,type(df))"
   ]
  },
  {
   "cell_type": "code",
   "execution_count": 57,
   "id": "ffd033f0-aa99-45b7-b5f6-128c067320b6",
   "metadata": {},
   "outputs": [
    {
     "name": "stdout",
     "output_type": "stream",
     "text": [
      "Content of DataFrame\n",
      "        0\n",
      "0     100\n",
      "1  Rossum\n",
      "2   45.67\n",
      "3  Python <class 'pandas.core.frame.DataFrame'>\n"
     ]
    }
   ],
   "source": [
    "#Create an object of DataFrame By using list\n",
    "lst=[100,\"Rossum\",45.67,\"Python\"]\n",
    "df=pd.DataFrame(lst)\n",
    "print(\"Content of DataFrame\")\n",
    "print(df,type(df))"
   ]
  },
  {
   "cell_type": "code",
   "execution_count": 59,
   "id": "ca93d61a-fbe7-425e-90fa-80b44cb8dfa2",
   "metadata": {},
   "outputs": [
    {
     "name": "stdout",
     "output_type": "stream",
     "text": [
      "Content of DataFrame\n",
      "            0\n",
      "id        100\n",
      "name   Rossum\n",
      "marks   45.67\n",
      "sub    Python <class 'pandas.core.frame.DataFrame'>\n"
     ]
    }
   ],
   "source": [
    "#Create an object of DataFrame By using list\n",
    "lst=[100,\"Rossum\",45.67,\"Python\"]\n",
    "df=pd.DataFrame(lst,index=[\"id\",\"name\",\"marks\",\"sub\"])\n",
    "print(\"Content of DataFrame\")\n",
    "print(df,type(df))"
   ]
  },
  {
   "cell_type": "code",
   "execution_count": 61,
   "id": "4a5d412b-ed01-4709-8ac6-04970341ff88",
   "metadata": {},
   "outputs": [
    {
     "name": "stdout",
     "output_type": "stream",
     "text": [
      "Content of DataFrame\n",
      "       record\n",
      "id        100\n",
      "name   Rossum\n",
      "marks   45.67\n",
      "sub    Python <class 'pandas.core.frame.DataFrame'>\n"
     ]
    }
   ],
   "source": [
    "#Create an object of DataFrame By using list\n",
    "lst=[100,\"Rossum\",45.67,\"Python\"]\n",
    "df=pd.DataFrame(lst,index=[\"id\",\"name\",\"marks\",\"sub\"],columns=[\"record\"])\n",
    "print(\"Content of DataFrame\")\n",
    "print(df,type(df))"
   ]
  },
  {
   "cell_type": "code",
   "execution_count": 83,
   "id": "5d4a3960-69fe-4381-9573-4267e0a441f8",
   "metadata": {},
   "outputs": [
    {
     "name": "stdout",
     "output_type": "stream",
     "text": [
      "Content of DataFrame\n",
      "          id    name  marks     sub\n",
      "record1  100  Rossum  45.67  Python\n",
      "record2  200  Rossum  45.67  Python\n",
      "record3  230  Rossum  45.67  Python <class 'pandas.core.frame.DataFrame'>\n"
     ]
    }
   ],
   "source": [
    "#Create an object of DataFrame By using list\n",
    "lst=[[100,\"Rossum\",45.67,\"Python\"],[200,\"Rossum\",45.67,\"Python\"],[230,\"Rossum\",45.67,\"Python\"]]\n",
    "df=pd.DataFrame(lst,columns=[\"id\",\"name\",\"marks\",\"sub\"],index=[\"record1\",\"record2\",\"record3\"])\n",
    "print(\"Content of DataFrame\")\n",
    "print(df,type(df))"
   ]
  },
  {
   "cell_type": "code",
   "execution_count": 85,
   "id": "5c53b000-d881-4ce4-a7ed-1b114edefb86",
   "metadata": {},
   "outputs": [
    {
     "name": "stdout",
     "output_type": "stream",
     "text": [
      "Content of DataFrame\n",
      "       id    name  marks     sub\n",
      "res1  100  Rossum  45.67  Python\n",
      "res2  200  Rossum  45.67  Python\n",
      "res3  230  Rossum  45.67  Python <class 'pandas.core.frame.DataFrame'>\n"
     ]
    }
   ],
   "source": [
    "#Create an object of DataFrame By using list\n",
    "lst=[[100,\"Rossum\",45.67,\"Python\"],[200,\"Rossum\",45.67,\"Python\"],[230,\"Rossum\",45.67,\"Python\"]]\n",
    "df=pd.DataFrame(lst,columns=[\"id\",\"name\",\"marks\",\"sub\"],index=[\"res\"+str(i) for i in range(1,len(lst)+1)])\n",
    "print(\"Content of DataFrame\")\n",
    "print(df,type(df))"
   ]
  },
  {
   "cell_type": "code",
   "execution_count": 81,
   "id": "d7063c12-715c-40e7-9053-3826e36bcf54",
   "metadata": {},
   "outputs": [
    {
     "name": "stdout",
     "output_type": "stream",
     "text": [
      "Content of DataFrame\n",
      "      col1    col2   col3    col4\n",
      "res1   100  Rossum  45.67  Python\n",
      "res2   200  Rossum  45.67  Python\n",
      "res3   230  Rossum  45.67  Python <class 'pandas.core.frame.DataFrame'>\n"
     ]
    }
   ],
   "source": [
    "#Create an object of DataFrame By using list\n",
    "lst=[[100,\"Rossum\",45.67,\"Python\"],[200,\"Rossum\",45.67,\"Python\"],[230,\"Rossum\",45.67,\"Python\"]]\n",
    "df=pd.DataFrame(lst,columns=[\"col\"+str(i) for i in range(1,len(lst[0])+1)],index=[\"res\"+str(i) for i in range(1,len(lst)+1)])\n",
    "print(\"Content of DataFrame\")\n",
    "print(df,type(df))"
   ]
  },
  {
   "cell_type": "code",
   "execution_count": 87,
   "id": "8e31a6c9-d570-4d6f-9e09-dcaec9363e35",
   "metadata": {},
   "outputs": [
    {
     "name": "stdout",
     "output_type": "stream",
     "text": [
      "Content of DataFrame\n",
      "      col1    col2   col3    col4\n",
      "res1   100  Rossum  45.67  Python\n",
      "res2   200  Rossum  45.67  Python\n",
      "res3   230  Rossum  45.67  Python <class 'pandas.core.frame.DataFrame'>\n"
     ]
    }
   ],
   "source": [
    "#craeting the object dataframe by using the tuple \n",
    "lst=((100,\"Rossum\",45.67,\"Python\"),(200,\"Rossum\",45.67,\"Python\"),(230,\"Rossum\",45.67,\"Python\"))\n",
    "df=pd.DataFrame(lst,columns=[\"col\"+str(i) for i in range(1,len(lst[0])+1)],index=[\"res\"+str(i) for i in range(1,len(lst)+1)])\n",
    "print(\"Content of DataFrame\")\n",
    "print(df,type(df))"
   ]
  },
  {
   "cell_type": "code",
   "execution_count": 89,
   "id": "cd7c6806-4944-420c-80d2-ed7da715109b",
   "metadata": {},
   "outputs": [
    {
     "name": "stdout",
     "output_type": "stream",
     "text": [
      "Content of DataFrame\n",
      "      col1    col2   col3    col4\n",
      "res1   100  Rossum  45.67  Python\n",
      "res2   200  Rossum  45.67  Python\n",
      "res3   230  Rossum  45.67  Python <class 'pandas.core.frame.DataFrame'>\n"
     ]
    }
   ],
   "source": [
    "#craeting the object dataframe by using the tuple \n",
    "lst=([100,\"Rossum\",45.67,\"Python\"],[200,\"Rossum\",45.67,\"Python\"],(230,\"Rossum\",45.67,\"Python\"))\n",
    "df=pd.DataFrame(lst,columns=[\"col\"+str(i) for i in range(1,len(lst[0])+1)],index=[\"res\"+str(i) for i in range(1,len(lst)+1)])\n",
    "print(\"Content of DataFrame\")\n",
    "print(df,type(df))"
   ]
  },
  {
   "cell_type": "code",
   "execution_count": 91,
   "id": "ff57068b-c95e-4f5a-adc6-946c2db15b1e",
   "metadata": {},
   "outputs": [
    {
     "ename": "TypeError",
     "evalue": "'set' object is not subscriptable",
     "output_type": "error",
     "traceback": [
      "\u001b[1;31m---------------------------------------------------------------------------\u001b[0m",
      "\u001b[1;31mTypeError\u001b[0m                                 Traceback (most recent call last)",
      "Cell \u001b[1;32mIn[91], line 3\u001b[0m\n\u001b[0;32m      1\u001b[0m \u001b[38;5;66;03m#craeting the object dataframe by using the tuple \u001b[39;00m\n\u001b[0;32m      2\u001b[0m lst\u001b[38;5;241m=\u001b[39m{(\u001b[38;5;241m100\u001b[39m,\u001b[38;5;124m\"\u001b[39m\u001b[38;5;124mRossum\u001b[39m\u001b[38;5;124m\"\u001b[39m,\u001b[38;5;241m45.67\u001b[39m,\u001b[38;5;124m\"\u001b[39m\u001b[38;5;124mPython\u001b[39m\u001b[38;5;124m\"\u001b[39m),(\u001b[38;5;241m200\u001b[39m,\u001b[38;5;124m\"\u001b[39m\u001b[38;5;124mRossum\u001b[39m\u001b[38;5;124m\"\u001b[39m,\u001b[38;5;241m45.67\u001b[39m,\u001b[38;5;124m\"\u001b[39m\u001b[38;5;124mPython\u001b[39m\u001b[38;5;124m\"\u001b[39m),(\u001b[38;5;241m230\u001b[39m,\u001b[38;5;124m\"\u001b[39m\u001b[38;5;124mRossum\u001b[39m\u001b[38;5;124m\"\u001b[39m,\u001b[38;5;241m45.67\u001b[39m,\u001b[38;5;124m\"\u001b[39m\u001b[38;5;124mPython\u001b[39m\u001b[38;5;124m\"\u001b[39m)}\n\u001b[1;32m----> 3\u001b[0m df\u001b[38;5;241m=\u001b[39mpd\u001b[38;5;241m.\u001b[39mDataFrame(lst,columns\u001b[38;5;241m=\u001b[39m[\u001b[38;5;124m\"\u001b[39m\u001b[38;5;124mcol\u001b[39m\u001b[38;5;124m\"\u001b[39m\u001b[38;5;241m+\u001b[39m\u001b[38;5;28mstr\u001b[39m(i) \u001b[38;5;28;01mfor\u001b[39;00m i \u001b[38;5;129;01min\u001b[39;00m \u001b[38;5;28mrange\u001b[39m(\u001b[38;5;241m1\u001b[39m,\u001b[38;5;28mlen\u001b[39m(lst[\u001b[38;5;241m0\u001b[39m])\u001b[38;5;241m+\u001b[39m\u001b[38;5;241m1\u001b[39m)],index\u001b[38;5;241m=\u001b[39m[\u001b[38;5;124m\"\u001b[39m\u001b[38;5;124mres\u001b[39m\u001b[38;5;124m\"\u001b[39m\u001b[38;5;241m+\u001b[39m\u001b[38;5;28mstr\u001b[39m(i) \u001b[38;5;28;01mfor\u001b[39;00m i \u001b[38;5;129;01min\u001b[39;00m \u001b[38;5;28mrange\u001b[39m(\u001b[38;5;241m1\u001b[39m,\u001b[38;5;28mlen\u001b[39m(lst)\u001b[38;5;241m+\u001b[39m\u001b[38;5;241m1\u001b[39m)])\n\u001b[0;32m      4\u001b[0m \u001b[38;5;28mprint\u001b[39m(\u001b[38;5;124m\"\u001b[39m\u001b[38;5;124mContent of DataFrame\u001b[39m\u001b[38;5;124m\"\u001b[39m)\n\u001b[0;32m      5\u001b[0m \u001b[38;5;28mprint\u001b[39m(df,\u001b[38;5;28mtype\u001b[39m(df))\n",
      "\u001b[1;31mTypeError\u001b[0m: 'set' object is not subscriptable"
     ]
    }
   ],
   "source": [
    "#craeting the object dataframe by using the tuple \n",
    "lst={(100,\"Rossum\",45.67,\"Python\"),(200,\"Rossum\",45.67,\"Python\"),(230,\"Rossum\",45.67,\"Python\")}\n",
    "df=pd.DataFrame(lst,columns=[\"col\"+str(i) for i in range(1,len(lst[0])+1)],index=[\"res\"+str(i) for i in range(1,len(lst)+1)])\n",
    "print(\"Content of DataFrame\")\n",
    "print(df,type(df))#here set is not suppoerted"
   ]
  },
  {
   "cell_type": "code",
   "execution_count": 97,
   "id": "e7aa8084-b69e-4943-a30b-596a2e23564c",
   "metadata": {},
   "outputs": [
    {
     "name": "stdout",
     "output_type": "stream",
     "text": [
      "{'id': [100, 200, 300], 'name': ['prashant', 'anil', 'sai'], 'marks': [20.0, 30.0, 40.0]}\n",
      "    id      name  marks\n",
      "0  100  prashant   20.0\n",
      "1  200      anil   30.0\n",
      "2  300       sai   40.0\n"
     ]
    }
   ],
   "source": [
    "#creating the object dataframe by using the dict\n",
    "lst={\"id\":[100,200,300],\"name\":[\"prashant\",\"anil\",\"sai\"],\"marks\":[20.0,30.0,40.0]}\n",
    "print(lst)\n",
    "df=pd.DataFrame(lst)\n",
    "print(df)"
   ]
  },
  {
   "cell_type": "code",
   "execution_count": 103,
   "id": "ac1b9d10-1c7d-4c9c-b2e7-062891e5a6ea",
   "metadata": {},
   "outputs": [
    {
     "name": "stdout",
     "output_type": "stream",
     "text": [
      "[10, 20, 30, 40]\n",
      "0    10\n",
      "1    20\n",
      "2    30\n",
      "3    40\n",
      "dtype: int64\n",
      "dataframe\n",
      "    0\n",
      "0  10\n",
      "1  20\n",
      "2  30\n",
      "3  40\n"
     ]
    }
   ],
   "source": [
    "#creating the object the dataframe by using series\n",
    "import pandas as pd\n",
    "a=([10,20,30,40])\n",
    "print(a)\n",
    "s=pd.Series(a)\n",
    "print(s)\n",
    "print(\"dataframe\")\n",
    "df=pd.DataFrame(a)\n",
    "print(df)"
   ]
  },
  {
   "cell_type": "code",
   "execution_count": null,
   "id": "bf5f1d3f-4b49-46b8-8212-728d444d38f2",
   "metadata": {},
   "outputs": [],
   "source": []
  }
 ],
 "metadata": {
  "kernelspec": {
   "display_name": "Python [conda env:base] *",
   "language": "python",
   "name": "conda-base-py"
  },
  "language_info": {
   "codemirror_mode": {
    "name": "ipython",
    "version": 3
   },
   "file_extension": ".py",
   "mimetype": "text/x-python",
   "name": "python",
   "nbconvert_exporter": "python",
   "pygments_lexer": "ipython3",
   "version": "3.12.7"
  }
 },
 "nbformat": 4,
 "nbformat_minor": 5
}
