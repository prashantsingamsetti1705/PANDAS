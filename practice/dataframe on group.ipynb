{
 "cells": [
  {
   "cell_type": "code",
   "execution_count": 3,
   "id": "d4a01a06-8674-40e1-ac56-51d2ad839c04",
   "metadata": {},
   "outputs": [
    {
     "name": "stdout",
     "output_type": "stream",
     "text": [
      "    CID        NAME STATE DSG\n",
      "0   100    VISHNAVI    TS  SE\n",
      "1   200     MANJULA    AP  SE\n",
      "2   300     BHUMIKA    TS  TL\n",
      "3   400  LAXIMIDEVI  BANG  TL\n",
      "4   500       SWATI    AP  PM\n",
      "5   600     SHAKSHI  BANG  PM\n",
      "6   700    BHARGAVI    TS  SE\n",
      "7   800       UDAYA    AP  PM\n",
      "8   900       SWETA  BANG  SE\n",
      "9   750      ANJALI    AP  TL\n",
      "10  650    JAYASREE  BANG  PM\n",
      "11  550     SIRISHA    AP  HR\n",
      "12  450     MADHAVI    TS  HR\n",
      "13  350      AKHILA    AP  HR\n",
      "14  150       RADHA  BANG  TL\n",
      "15  950     MOUNIKA    AP  HR\n",
      "16  125     FARHANA    TS  TL\n",
      "17  185      JHANSI    AP  TL\n"
     ]
    }
   ],
   "source": [
    "import pandas as pd\n",
    "import numpy as np\n",
    "a=pd.read_csv(\"C:\\\\Users\\\\prash\\\\OneDrive\\\\Desktop\\\\Pandas\\\\CID,NAME,STATE,DSG.csv\")\n",
    "print(a)"
   ]
  },
  {
   "cell_type": "code",
   "execution_count": 15,
   "id": "391ffc31-2e54-46d7-a701-bb5d8104e0c5",
   "metadata": {},
   "outputs": [
    {
     "name": "stdout",
     "output_type": "stream",
     "text": [
      "group name: AP\n",
      "    CID     NAME STATE DSG\n",
      "1   200  MANJULA    AP  SE\n",
      "4   500    SWATI    AP  PM\n",
      "7   800    UDAYA    AP  PM\n",
      "9   750   ANJALI    AP  TL\n",
      "11  550  SIRISHA    AP  HR\n",
      "13  350   AKHILA    AP  HR\n",
      "15  950  MOUNIKA    AP  HR\n",
      "17  185   JHANSI    AP  TL\n",
      "group name: BANG\n",
      "    CID        NAME STATE DSG\n",
      "3   400  LAXIMIDEVI  BANG  TL\n",
      "5   600     SHAKSHI  BANG  PM\n",
      "8   900       SWETA  BANG  SE\n",
      "10  650    JAYASREE  BANG  PM\n",
      "14  150       RADHA  BANG  TL\n",
      "group name: TS\n",
      "    CID      NAME STATE DSG\n",
      "0   100  VISHNAVI    TS  SE\n",
      "2   300   BHUMIKA    TS  TL\n",
      "6   700  BHARGAVI    TS  SE\n",
      "12  450   MADHAVI    TS  HR\n",
      "16  125   FARHANA    TS  TL\n"
     ]
    }
   ],
   "source": [
    "#now we are grouping by state\n",
    "s=a.groupby(\"STATE\")\n",
    "for groupname,groupby in s:\n",
    "    print(\"group name:\",groupname)\n",
    "    print(groupby)"
   ]
  },
  {
   "cell_type": "code",
   "execution_count": 17,
   "id": "265d4689-8e4e-47b3-8e7f-17bfe3befe43",
   "metadata": {},
   "outputs": [
    {
     "name": "stdout",
     "output_type": "stream",
     "text": [
      "--------------------------------------------------\n",
      "no of groups 3\n"
     ]
    }
   ],
   "source": [
    "    print(\"-\"*50)\n",
    "    print(\"no of groups:\",s.ngroups)"
   ]
  },
  {
   "cell_type": "code",
   "execution_count": 21,
   "id": "974b189c-113e-4378-8818-fee0e21d2e13",
   "metadata": {},
   "outputs": [
    {
     "name": "stdout",
     "output_type": "stream",
     "text": [
      "<pandas.core.groupby.generic.DataFrameGroupBy object at 0x00000243095EEF60>\n",
      "name of the group HR\n",
      "    CID     NAME STATE DSG\n",
      "11  550  SIRISHA    AP  HR\n",
      "12  450  MADHAVI    TS  HR\n",
      "13  350   AKHILA    AP  HR\n",
      "15  950  MOUNIKA    AP  HR\n",
      "name of the group PM\n",
      "    CID      NAME STATE DSG\n",
      "4   500     SWATI    AP  PM\n",
      "5   600   SHAKSHI  BANG  PM\n",
      "7   800     UDAYA    AP  PM\n",
      "10  650  JAYASREE  BANG  PM\n",
      "name of the group SE\n",
      "   CID      NAME STATE DSG\n",
      "0  100  VISHNAVI    TS  SE\n",
      "1  200   MANJULA    AP  SE\n",
      "6  700  BHARGAVI    TS  SE\n",
      "8  900     SWETA  BANG  SE\n",
      "name of the group TL\n",
      "    CID        NAME STATE DSG\n",
      "2   300     BHUMIKA    TS  TL\n",
      "3   400  LAXIMIDEVI  BANG  TL\n",
      "9   750      ANJALI    AP  TL\n",
      "14  150       RADHA  BANG  TL\n",
      "16  125     FARHANA    TS  TL\n",
      "17  185      JHANSI    AP  TL\n"
     ]
    }
   ],
   "source": [
    "s=a.groupby('DSG')\n",
    "print(s)#its give bytes data\n",
    "for groupname,group in s:\n",
    "    print(\"name of the group\",groupname)\n",
    "    print(group)"
   ]
  },
  {
   "cell_type": "code",
   "execution_count": 23,
   "id": "f3dea9d3-1d77-41bd-b11d-c2eba72c4692",
   "metadata": {},
   "outputs": [
    {
     "data": {
      "text/html": [
       "<div>\n",
       "<style scoped>\n",
       "    .dataframe tbody tr th:only-of-type {\n",
       "        vertical-align: middle;\n",
       "    }\n",
       "\n",
       "    .dataframe tbody tr th {\n",
       "        vertical-align: top;\n",
       "    }\n",
       "\n",
       "    .dataframe thead th {\n",
       "        text-align: right;\n",
       "    }\n",
       "</style>\n",
       "<table border=\"1\" class=\"dataframe\">\n",
       "  <thead>\n",
       "    <tr style=\"text-align: right;\">\n",
       "      <th></th>\n",
       "      <th>CID</th>\n",
       "      <th>NAME</th>\n",
       "      <th>STATE</th>\n",
       "    </tr>\n",
       "    <tr>\n",
       "      <th>DSG</th>\n",
       "      <th></th>\n",
       "      <th></th>\n",
       "      <th></th>\n",
       "    </tr>\n",
       "  </thead>\n",
       "  <tbody>\n",
       "    <tr>\n",
       "      <th>HR</th>\n",
       "      <td>4</td>\n",
       "      <td>4</td>\n",
       "      <td>4</td>\n",
       "    </tr>\n",
       "    <tr>\n",
       "      <th>PM</th>\n",
       "      <td>4</td>\n",
       "      <td>4</td>\n",
       "      <td>4</td>\n",
       "    </tr>\n",
       "    <tr>\n",
       "      <th>SE</th>\n",
       "      <td>4</td>\n",
       "      <td>4</td>\n",
       "      <td>4</td>\n",
       "    </tr>\n",
       "    <tr>\n",
       "      <th>TL</th>\n",
       "      <td>6</td>\n",
       "      <td>6</td>\n",
       "      <td>6</td>\n",
       "    </tr>\n",
       "  </tbody>\n",
       "</table>\n",
       "</div>"
      ],
      "text/plain": [
       "     CID  NAME  STATE\n",
       "DSG                  \n",
       "HR     4     4      4\n",
       "PM     4     4      4\n",
       "SE     4     4      4\n",
       "TL     6     6      6"
      ]
     },
     "execution_count": 23,
     "metadata": {},
     "output_type": "execute_result"
    }
   ],
   "source": [
    "s.count()"
   ]
  },
  {
   "cell_type": "code",
   "execution_count": 25,
   "id": "168fd7ae-8fa6-4948-8797-95be48a9dc96",
   "metadata": {},
   "outputs": [
    {
     "data": {
      "text/plain": [
       "DSG\n",
       "HR    4\n",
       "PM    4\n",
       "SE    4\n",
       "TL    6\n",
       "dtype: int64"
      ]
     },
     "execution_count": 25,
     "metadata": {},
     "output_type": "execute_result"
    }
   ],
   "source": [
    "#size()\n",
    "s.size()"
   ]
  },
  {
   "cell_type": "code",
   "execution_count": 29,
   "id": "61b2ba5e-a9c9-4a7a-90af-a4141056de38",
   "metadata": {},
   "outputs": [
    {
     "data": {
      "text/html": [
       "<div>\n",
       "<style scoped>\n",
       "    .dataframe tbody tr th:only-of-type {\n",
       "        vertical-align: middle;\n",
       "    }\n",
       "\n",
       "    .dataframe tbody tr th {\n",
       "        vertical-align: top;\n",
       "    }\n",
       "\n",
       "    .dataframe thead th {\n",
       "        text-align: right;\n",
       "    }\n",
       "</style>\n",
       "<table border=\"1\" class=\"dataframe\">\n",
       "  <thead>\n",
       "    <tr style=\"text-align: right;\">\n",
       "      <th></th>\n",
       "      <th>CID</th>\n",
       "      <th>NAME</th>\n",
       "      <th>STATE</th>\n",
       "    </tr>\n",
       "    <tr>\n",
       "      <th>DSG</th>\n",
       "      <th></th>\n",
       "      <th></th>\n",
       "      <th></th>\n",
       "    </tr>\n",
       "  </thead>\n",
       "  <tbody>\n",
       "    <tr>\n",
       "      <th>HR</th>\n",
       "      <td>550</td>\n",
       "      <td>SIRISHA</td>\n",
       "      <td>AP</td>\n",
       "    </tr>\n",
       "    <tr>\n",
       "      <th>PM</th>\n",
       "      <td>500</td>\n",
       "      <td>SWATI</td>\n",
       "      <td>AP</td>\n",
       "    </tr>\n",
       "    <tr>\n",
       "      <th>SE</th>\n",
       "      <td>100</td>\n",
       "      <td>VISHNAVI</td>\n",
       "      <td>TS</td>\n",
       "    </tr>\n",
       "    <tr>\n",
       "      <th>TL</th>\n",
       "      <td>300</td>\n",
       "      <td>BHUMIKA</td>\n",
       "      <td>TS</td>\n",
       "    </tr>\n",
       "  </tbody>\n",
       "</table>\n",
       "</div>"
      ],
      "text/plain": [
       "     CID      NAME STATE\n",
       "DSG                     \n",
       "HR   550   SIRISHA    AP\n",
       "PM   500     SWATI    AP\n",
       "SE   100  VISHNAVI    TS\n",
       "TL   300   BHUMIKA    TS"
      ]
     },
     "execution_count": 29,
     "metadata": {},
     "output_type": "execute_result"
    }
   ],
   "source": [
    "s.first()# we will get first values"
   ]
  },
  {
   "cell_type": "code",
   "execution_count": 37,
   "id": "a897d784-09e8-4ad7-a025-3864b68aaf72",
   "metadata": {},
   "outputs": [
    {
     "data": {
      "text/html": [
       "<div>\n",
       "<style scoped>\n",
       "    .dataframe tbody tr th:only-of-type {\n",
       "        vertical-align: middle;\n",
       "    }\n",
       "\n",
       "    .dataframe tbody tr th {\n",
       "        vertical-align: top;\n",
       "    }\n",
       "\n",
       "    .dataframe thead th {\n",
       "        text-align: right;\n",
       "    }\n",
       "</style>\n",
       "<table border=\"1\" class=\"dataframe\">\n",
       "  <thead>\n",
       "    <tr style=\"text-align: right;\">\n",
       "      <th></th>\n",
       "      <th>CID</th>\n",
       "      <th>NAME</th>\n",
       "      <th>STATE</th>\n",
       "    </tr>\n",
       "    <tr>\n",
       "      <th>DSG</th>\n",
       "      <th></th>\n",
       "      <th></th>\n",
       "      <th></th>\n",
       "    </tr>\n",
       "  </thead>\n",
       "  <tbody>\n",
       "    <tr>\n",
       "      <th>HR</th>\n",
       "      <td>950</td>\n",
       "      <td>MOUNIKA</td>\n",
       "      <td>AP</td>\n",
       "    </tr>\n",
       "    <tr>\n",
       "      <th>PM</th>\n",
       "      <td>650</td>\n",
       "      <td>JAYASREE</td>\n",
       "      <td>BANG</td>\n",
       "    </tr>\n",
       "    <tr>\n",
       "      <th>SE</th>\n",
       "      <td>900</td>\n",
       "      <td>SWETA</td>\n",
       "      <td>BANG</td>\n",
       "    </tr>\n",
       "    <tr>\n",
       "      <th>TL</th>\n",
       "      <td>185</td>\n",
       "      <td>JHANSI</td>\n",
       "      <td>AP</td>\n",
       "    </tr>\n",
       "  </tbody>\n",
       "</table>\n",
       "</div>"
      ],
      "text/plain": [
       "     CID      NAME STATE\n",
       "DSG                     \n",
       "HR   950   MOUNIKA    AP\n",
       "PM   650  JAYASREE  BANG\n",
       "SE   900     SWETA  BANG\n",
       "TL   185    JHANSI    AP"
      ]
     },
     "execution_count": 37,
     "metadata": {},
     "output_type": "execute_result"
    }
   ],
   "source": [
    "s.last()#its give last values"
   ]
  },
  {
   "cell_type": "code",
   "execution_count": 53,
   "id": "e62daf81-2e77-4716-9e8f-b6c8b140310a",
   "metadata": {},
   "outputs": [
    {
     "data": {
      "text/html": [
       "<div>\n",
       "<style scoped>\n",
       "    .dataframe tbody tr th:only-of-type {\n",
       "        vertical-align: middle;\n",
       "    }\n",
       "\n",
       "    .dataframe tbody tr th {\n",
       "        vertical-align: top;\n",
       "    }\n",
       "\n",
       "    .dataframe thead th {\n",
       "        text-align: right;\n",
       "    }\n",
       "</style>\n",
       "<table border=\"1\" class=\"dataframe\">\n",
       "  <thead>\n",
       "    <tr style=\"text-align: right;\">\n",
       "      <th></th>\n",
       "      <th>CID</th>\n",
       "      <th>NAME</th>\n",
       "      <th>STATE</th>\n",
       "      <th>DSG</th>\n",
       "    </tr>\n",
       "  </thead>\n",
       "  <tbody>\n",
       "    <tr>\n",
       "      <th>2</th>\n",
       "      <td>300</td>\n",
       "      <td>BHUMIKA</td>\n",
       "      <td>TS</td>\n",
       "      <td>TL</td>\n",
       "    </tr>\n",
       "    <tr>\n",
       "      <th>3</th>\n",
       "      <td>400</td>\n",
       "      <td>LAXIMIDEVI</td>\n",
       "      <td>BANG</td>\n",
       "      <td>TL</td>\n",
       "    </tr>\n",
       "    <tr>\n",
       "      <th>9</th>\n",
       "      <td>750</td>\n",
       "      <td>ANJALI</td>\n",
       "      <td>AP</td>\n",
       "      <td>TL</td>\n",
       "    </tr>\n",
       "    <tr>\n",
       "      <th>14</th>\n",
       "      <td>150</td>\n",
       "      <td>RADHA</td>\n",
       "      <td>BANG</td>\n",
       "      <td>TL</td>\n",
       "    </tr>\n",
       "    <tr>\n",
       "      <th>16</th>\n",
       "      <td>125</td>\n",
       "      <td>FARHANA</td>\n",
       "      <td>TS</td>\n",
       "      <td>TL</td>\n",
       "    </tr>\n",
       "    <tr>\n",
       "      <th>17</th>\n",
       "      <td>185</td>\n",
       "      <td>JHANSI</td>\n",
       "      <td>AP</td>\n",
       "      <td>TL</td>\n",
       "    </tr>\n",
       "  </tbody>\n",
       "</table>\n",
       "</div>"
      ],
      "text/plain": [
       "    CID        NAME STATE DSG\n",
       "2   300     BHUMIKA    TS  TL\n",
       "3   400  LAXIMIDEVI  BANG  TL\n",
       "9   750      ANJALI    AP  TL\n",
       "14  150       RADHA  BANG  TL\n",
       "16  125     FARHANA    TS  TL\n",
       "17  185      JHANSI    AP  TL"
      ]
     },
     "execution_count": 53,
     "metadata": {},
     "output_type": "execute_result"
    }
   ],
   "source": [
    "\n",
    "s.get_group(\"TL\")"
   ]
  },
  {
   "cell_type": "code",
   "execution_count": null,
   "id": "e886ed01-2177-48d2-82e1-ab6063843eaf",
   "metadata": {},
   "outputs": [],
   "source": [
    "s.get_group(\"TL\").group"
   ]
  }
 ],
 "metadata": {
  "kernelspec": {
   "display_name": "Python [conda env:base] *",
   "language": "python",
   "name": "conda-base-py"
  },
  "language_info": {
   "codemirror_mode": {
    "name": "ipython",
    "version": 3
   },
   "file_extension": ".py",
   "mimetype": "text/x-python",
   "name": "python",
   "nbconvert_exporter": "python",
   "pygments_lexer": "ipython3",
   "version": "3.12.7"
  }
 },
 "nbformat": 4,
 "nbformat_minor": 5
}
