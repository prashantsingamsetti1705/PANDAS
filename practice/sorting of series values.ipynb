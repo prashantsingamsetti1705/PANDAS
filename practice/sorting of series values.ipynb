{
 "cells": [
  {
   "cell_type": "code",
   "execution_count": null,
   "id": "d4891107-d936-48d3-bffc-f6bc7ee6bcf2",
   "metadata": {},
   "outputs": [
    {
     "name": "stdout",
     "output_type": "stream",
     "text": [
      "0    30\n",
      "1    20\n",
      "2    50\n",
      "3    20\n",
      "4    40\n",
      "dtype: int64\n",
      "1    20\n",
      "3    20\n",
      "0    30\n",
      "4    40\n",
      "2    50\n",
      "dtype: int64\n"
     ]
    }
   ],
   "source": [
    "#sorting the value of the syntax \n",
    "import pandas as pd\n",
    "a=pd.Series([30,20,50,20,40])\n",
    "print(a)\n",
    "#here we are storting the values \n",
    "b=a.sort_values()\n",
    "print(b)"
   ]
  },
  {
   "cell_type": "code",
   "execution_count": 5,
   "id": "2ce66f49-eb93-4166-aaa1-9e984c298142",
   "metadata": {},
   "outputs": [
    {
     "name": "stdout",
     "output_type": "stream",
     "text": [
      "0    30\n",
      "1    20\n",
      "2    50\n",
      "3    20\n",
      "4    40\n",
      "dtype: int64\n"
     ]
    }
   ],
   "source": [
    "print(a)"
   ]
  },
  {
   "cell_type": "code",
   "execution_count": 7,
   "id": "8488cace-212a-4854-818c-9fb6380da9bf",
   "metadata": {},
   "outputs": [
    {
     "name": "stdout",
     "output_type": "stream",
     "text": [
      "1    20\n",
      "3    20\n",
      "0    30\n",
      "4    40\n",
      "2    50\n",
      "dtype: int64\n"
     ]
    }
   ],
   "source": [
    "print(b)"
   ]
  },
  {
   "cell_type": "code",
   "execution_count": 9,
   "id": "f0e6726a-2ece-48d7-afd0-e5c54b101c5b",
   "metadata": {},
   "outputs": [
    {
     "name": "stdout",
     "output_type": "stream",
     "text": [
      "1    20\n",
      "3    20\n",
      "0    30\n",
      "4    40\n",
      "2    50\n",
      "dtype: int64\n"
     ]
    }
   ],
   "source": [
    "#here we are storting the values \n",
    "b=a.sort_values(inplace=False)\n",
    "print(b)"
   ]
  },
  {
   "cell_type": "code",
   "execution_count": 11,
   "id": "d51eaf62-89cd-43a7-a051-10c7caf78234",
   "metadata": {},
   "outputs": [
    {
     "name": "stdout",
     "output_type": "stream",
     "text": [
      "None\n"
     ]
    }
   ],
   "source": [
    "#here we are storting the values \n",
    "b=a.sort_values(inplace=True)\n",
    "print(b)"
   ]
  },
  {
   "cell_type": "code",
   "execution_count": 17,
   "id": "d1192d00-c888-4117-a6bc-df20e3d1e837",
   "metadata": {},
   "outputs": [
    {
     "name": "stdout",
     "output_type": "stream",
     "text": [
      "1    20\n",
      "3    20\n",
      "0    30\n",
      "4    40\n",
      "2    50\n",
      "dtype: int64\n"
     ]
    }
   ],
   "source": [
    "#here we are storting the values \n",
    "b=a.sort_values(ascending=True)\n",
    "print(b)"
   ]
  },
  {
   "cell_type": "code",
   "execution_count": null,
   "id": "1f734bcb-48f2-4a9d-af38-7ceea15c59fd",
   "metadata": {},
   "outputs": [],
   "source": []
  }
 ],
 "metadata": {
  "kernelspec": {
   "display_name": "Python [conda env:base] *",
   "language": "python",
   "name": "conda-base-py"
  },
  "language_info": {
   "codemirror_mode": {
    "name": "ipython",
    "version": 3
   },
   "file_extension": ".py",
   "mimetype": "text/x-python",
   "name": "python",
   "nbconvert_exporter": "python",
   "pygments_lexer": "ipython3",
   "version": "3.12.7"
  }
 },
 "nbformat": 4,
 "nbformat_minor": 5
}
