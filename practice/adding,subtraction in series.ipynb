{
 "cells": [
  {
   "cell_type": "code",
   "execution_count": 3,
   "id": "660bbe3d-758d-4eed-a4e6-03a2462b2b8c",
   "metadata": {},
   "outputs": [
    {
     "name": "stdout",
     "output_type": "stream",
     "text": [
      "1    10\n",
      "2    20\n",
      "3    30\n",
      "4    40\n",
      "5    50\n",
      "6    60\n",
      "dtype: int32\n"
     ]
    }
   ],
   "source": [
    "#here the syntax of te add ,sub operation on the series are syntax is -->seriesobj1.add(seriesobj2,fill_value=0),simillary sub -->seriesobj1.add(seriesobj2,fill_value=0)\n",
    "import numpy as np\n",
    "import pandas as pd\n",
    "a=np.array([10,20,30,40,50,60])\n",
    "b=pd.Series(a,index=[1,2,3,4,5,6])\n",
    "print(b)"
   ]
  },
  {
   "cell_type": "code",
   "execution_count": 7,
   "id": "976382ff-f263-47f7-93bd-d75aa0248e45",
   "metadata": {},
   "outputs": [
    {
     "name": "stdout",
     "output_type": "stream",
     "text": [
      "series-1\n",
      "0    10\n",
      "1    20\n",
      "2    30\n",
      "3    40\n",
      "4    50\n",
      "5    60\n",
      "dtype: int64\n",
      "series-2\n",
      "0    100\n",
      "1    200\n",
      "2    300\n",
      "3    400\n",
      "4    500\n",
      "5    600\n",
      "dtype: int64\n",
      "series-3\n",
      "0    110\n",
      "1    220\n",
      "2    330\n",
      "3    440\n",
      "4    550\n",
      "5    660\n",
      "dtype: int64\n"
     ]
    }
   ],
   "source": [
    "#here we are using the adding the synatax is-----> seriesobj1.add(seriesobj2)\n",
    "import pandas as pd\n",
    "a=pd.Series([10,20,30,40,50,60])\n",
    "b=pd.Series([100,200,300,400,500,600])\n",
    "print(\"series-1\")\n",
    "print(a)\n",
    "print(\"series-2\")\n",
    "print(b)\n",
    "print(\"series-3\")\n",
    "c=a.add(b)\n",
    "print(c)"
   ]
  },
  {
   "cell_type": "code",
   "execution_count": 9,
   "id": "de792391-eaa1-494c-aaf1-1a020c6579e1",
   "metadata": {},
   "outputs": [
    {
     "name": "stdout",
     "output_type": "stream",
     "text": [
      "series-1\n",
      "a    10\n",
      "b    20\n",
      "c    30\n",
      "d    40\n",
      "e    50\n",
      "f    60\n",
      "dtype: int64\n",
      "series-2\n",
      "a    100\n",
      "b    200\n",
      "c    300\n",
      "d    400\n",
      "e    500\n",
      "f    600\n",
      "dtype: int64\n",
      "series-3\n",
      "a    110\n",
      "b    220\n",
      "c    330\n",
      "d    440\n",
      "e    550\n",
      "f    660\n",
      "dtype: int64\n"
     ]
    }
   ],
   "source": [
    "#here we are using the adding the synatax is-----> seriesobj1.add(seriesobj2)\n",
    "import pandas as pd\n",
    "a=pd.Series([10,20,30,40,50,60],index=[\"a\",\"b\",\"c\",\"d\",\"e\",\"f\"])\n",
    "b=pd.Series([100,200,300,400,500,600],index=[\"a\",\"b\",\"c\",\"d\",\"e\",\"f\"])\n",
    "print(\"series-1\")\n",
    "print(a)\n",
    "print(\"series-2\")\n",
    "print(b)\n",
    "print(\"series-3\")\n",
    "c=a.add(b)\n",
    "print(c)"
   ]
  },
  {
   "cell_type": "code",
   "execution_count": 11,
   "id": "2a5d710d-0c6e-4444-b30e-d06ee74f4065",
   "metadata": {},
   "outputs": [
    {
     "name": "stdout",
     "output_type": "stream",
     "text": [
      "series-1\n",
      "a    10\n",
      "b    20\n",
      "c    30\n",
      "f    40\n",
      "e    50\n",
      "f    60\n",
      "dtype: int64\n",
      "series-2\n",
      "a    100\n",
      "b    200\n",
      "c    300\n",
      "h    400\n",
      "e    500\n",
      "g    600\n",
      "dtype: int64\n",
      "series-3\n",
      "a    110.0\n",
      "b    220.0\n",
      "c    330.0\n",
      "e    550.0\n",
      "f      NaN\n",
      "f      NaN\n",
      "g      NaN\n",
      "h      NaN\n",
      "dtype: float64\n"
     ]
    }
   ],
   "source": [
    "#here we are using the adding the synatax is-----> seriesobj1.add(seriesobj2)\n",
    "#here it will we add the only the euqal alabel values if not equal is not equal we will get the NaN\n",
    "import pandas as pd\n",
    "a=pd.Series([10,20,30,40,50,60],index=[\"a\",\"b\",\"c\",\"f\",\"e\",\"f\"])\n",
    "b=pd.Series([100,200,300,400,500,600],index=[\"a\",\"b\",\"c\",\"h\",\"e\",\"g\"])\n",
    "print(\"series-1\")\n",
    "print(a)\n",
    "print(\"series-2\")\n",
    "print(b)\n",
    "print(\"series-3\")\n",
    "c=a.add(b)\n",
    "print(c)"
   ]
  },
  {
   "cell_type": "code",
   "execution_count": 19,
   "id": "93477186-1987-4499-b4eb-8085f104b500",
   "metadata": {},
   "outputs": [
    {
     "name": "stdout",
     "output_type": "stream",
     "text": [
      "series-1\n",
      "a    10\n",
      "b    20\n",
      "c    30\n",
      "f    40\n",
      "e    50\n",
      "f    60\n",
      "dtype: int64\n",
      "series-2\n",
      "a    100\n",
      "b    200\n",
      "c    300\n",
      "h    400\n",
      "e    500\n",
      "g    600\n",
      "dtype: int64\n",
      "series-3\n",
      "a    110.0\n",
      "b    220.0\n",
      "c    330.0\n",
      "e    550.0\n",
      "f     40.0\n",
      "f     60.0\n",
      "g    600.0\n",
      "h    400.0\n",
      "dtype: float64\n"
     ]
    }
   ],
   "source": [
    "#here we are using the adding the synatax is-----> seriesobj1.add(seriesobj2,fill_value=0)\n",
    "#here it will we add the only the euqal alabel values if not equal is not equal we will get the NaN\n",
    "import pandas as pd\n",
    "a=pd.Series([10,20,30,40,50,60],index=[\"a\",\"b\",\"c\",\"f\",\"e\",\"f\"])\n",
    "b=pd.Series([100,200,300,400,500,600],index=[\"a\",\"b\",\"c\",\"h\",\"e\",\"g\"])\n",
    "print(\"series-1\")\n",
    "print(a)\n",
    "print(\"series-2\")\n",
    "print(b)\n",
    "print(\"series-3\")\n",
    "c=a.add(b,fill_value=0)\n",
    "print(c)"
   ]
  },
  {
   "cell_type": "code",
   "execution_count": 21,
   "id": "8a864182-3483-46ca-a260-b20984eaafc0",
   "metadata": {},
   "outputs": [
    {
     "name": "stdout",
     "output_type": "stream",
     "text": [
      "series-1\n",
      "a    10\n",
      "b    20\n",
      "c    30\n",
      "d    40\n",
      "e    50\n",
      "f    60\n",
      "dtype: int64\n",
      "series-2\n",
      "a    100\n",
      "b    200\n",
      "c    300\n",
      "d    400\n",
      "e    500\n",
      "f    600\n",
      "dtype: int64\n",
      "series-3\n",
      "a    -90\n",
      "b   -180\n",
      "c   -270\n",
      "d   -360\n",
      "e   -450\n",
      "f   -540\n",
      "dtype: int64\n"
     ]
    }
   ],
   "source": [
    "#here it is simmillary is add() is like subb syntax-->series.boj1.sub(series.boj2,fill_value=0)\n",
    "#here we are using the adding the synatax is-----> seriesobj1.add(seriesobj2)\n",
    "import pandas as pd\n",
    "a=pd.Series([10,20,30,40,50,60],index=[\"a\",\"b\",\"c\",\"d\",\"e\",\"f\"])\n",
    "b=pd.Series([100,200,300,400,500,600],index=[\"a\",\"b\",\"c\",\"d\",\"e\",\"f\"])\n",
    "print(\"series-1\")\n",
    "print(a)\n",
    "print(\"series-2\")\n",
    "print(b)\n",
    "print(\"series-3\")\n",
    "c=a.sub(b)\n",
    "print(c)"
   ]
  },
  {
   "cell_type": "code",
   "execution_count": 23,
   "id": "5349ef05-80fb-4621-9f2e-e09cdb57f1dc",
   "metadata": {},
   "outputs": [
    {
     "name": "stdout",
     "output_type": "stream",
     "text": [
      "series-1\n",
      "a    10\n",
      "b    20\n",
      "c    30\n",
      "d    40\n",
      "e    50\n",
      "f    60\n",
      "dtype: int64\n",
      "series-2\n",
      "a    100\n",
      "b    200\n",
      "j    300\n",
      "d    400\n",
      "k    500\n",
      "f    600\n",
      "dtype: int64\n",
      "series-3\n",
      "a    -90.0\n",
      "b   -180.0\n",
      "c      NaN\n",
      "d   -360.0\n",
      "e      NaN\n",
      "f   -540.0\n",
      "j      NaN\n",
      "k      NaN\n",
      "dtype: float64\n"
     ]
    }
   ],
   "source": [
    "#here it is simmillary is add() is like subb syntax-->series.boj1.sub(series.boj2,fill_value=0)\n",
    "#here we are using the adding the synatax is-----> seriesobj1.add(seriesobj2)\n",
    "import pandas as pd\n",
    "a=pd.Series([10,20,30,40,50,60],index=[\"a\",\"b\",\"c\",\"d\",\"e\",\"f\"])\n",
    "b=pd.Series([100,200,300,400,500,600],index=[\"a\",\"b\",\"j\",\"d\",\"k\",\"f\"])\n",
    "print(\"series-1\")\n",
    "print(a)\n",
    "print(\"series-2\")\n",
    "print(b)\n",
    "print(\"series-3\")\n",
    "c=a.sub(b)\n",
    "print(c)"
   ]
  },
  {
   "cell_type": "code",
   "execution_count": 29,
   "id": "422c6076-aaa1-4ad5-ba40-ff704ef191a6",
   "metadata": {},
   "outputs": [
    {
     "name": "stdout",
     "output_type": "stream",
     "text": [
      "series-1\n",
      "a    10\n",
      "b    20\n",
      "c    30\n",
      "d    40\n",
      "e    50\n",
      "f    60\n",
      "dtype: int64\n",
      "series-2\n",
      "a    100\n",
      "b    200\n",
      "j    300\n",
      "d    400\n",
      "k    500\n",
      "f    600\n",
      "dtype: int64\n",
      "series-3\n",
      "a    -90.0\n",
      "b   -180.0\n",
      "c     30.0\n",
      "d   -360.0\n",
      "e     50.0\n",
      "f   -540.0\n",
      "j   -300.0\n",
      "k   -500.0\n",
      "dtype: float64\n"
     ]
    }
   ],
   "source": [
    "#here it is simmillary is add() is like subb syntax-->series.boj1.sub(series.boj2,fill_value=0)\n",
    "#here we are using the adding the synatax is-----> seriesobj1.add(seriesobj2)\n",
    "import pandas as pd\n",
    "a=pd.Series([10,20,30,40,50,60],index=[\"a\",\"b\",\"c\",\"d\",\"e\",\"f\"])\n",
    "b=pd.Series([100,200,300,400,500,600],index=[\"a\",\"b\",\"j\",\"d\",\"k\",\"f\"])\n",
    "print(\"series-1\")\n",
    "print(a)\n",
    "print(\"series-2\")\n",
    "print(b)\n",
    "print(\"series-3\")\n",
    "c=a.sub(b,fill_value=0)\n",
    "print(c)"
   ]
  },
  {
   "cell_type": "code",
   "execution_count": null,
   "id": "72836a62-4a37-4884-a220-28eed815549a",
   "metadata": {},
   "outputs": [],
   "source": []
  }
 ],
 "metadata": {
  "kernelspec": {
   "display_name": "Python [conda env:base] *",
   "language": "python",
   "name": "conda-base-py"
  },
  "language_info": {
   "codemirror_mode": {
    "name": "ipython",
    "version": 3
   },
   "file_extension": ".py",
   "mimetype": "text/x-python",
   "name": "python",
   "nbconvert_exporter": "python",
   "pygments_lexer": "ipython3",
   "version": "3.12.7"
  }
 },
 "nbformat": 4,
 "nbformat_minor": 5
}
