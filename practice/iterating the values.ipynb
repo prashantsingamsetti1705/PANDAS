{
 "cells": [
  {
   "cell_type": "code",
   "execution_count": 1,
   "id": "0e6719da-c6c1-4c9b-badb-ad09e3676edb",
   "metadata": {},
   "outputs": [
    {
     "name": "stdout",
     "output_type": "stream",
     "text": [
      "---------------------------------------------------------\n",
      "   First Score  Second Score  Third Score  Fourth Score\n",
      "0        100.0          30.0           52           NaN\n",
      "1         90.0           NaN           40           NaN\n",
      "2          NaN          45.0           80           NaN\n",
      "3         95.0          56.0           98          65.0\n",
      "---------------------------------------------------------\n"
     ]
    }
   ],
   "source": [
    "import numpy as np\n",
    "import pandas as pd\n",
    "dict = {'First Score':[100, 90, np.nan, 95],\n",
    "        'Second Score': [30, np.nan, 45, 56],\n",
    "        'Third Score':[52, 40, 80, 98],\n",
    "        'Fourth Score':[np.nan, np.nan, np.nan, 65]}\n",
    "df=pd.DataFrame(dict)\n",
    "print(\"---------------------------------------------------------\")\n",
    "print(df)\n",
    "print(\"---------------------------------------------------------\")"
   ]
  },
  {
   "cell_type": "code",
   "execution_count": 7,
   "id": "0bd41c9c-c5ec-4c18-a5d8-796de4dfcc42",
   "metadata": {},
   "outputs": [
    {
     "ename": "AttributeError",
     "evalue": "'DataFrame' object has no attribute 'iterrwos'",
     "output_type": "error",
     "traceback": [
      "\u001b[1;31m---------------------------------------------------------------------------\u001b[0m",
      "\u001b[1;31mAttributeError\u001b[0m                            Traceback (most recent call last)",
      "\u001b[1;32m~\\AppData\\Local\\Temp\\ipykernel_28228\\3453130148.py\u001b[0m in \u001b[0;36m?\u001b[1;34m()\u001b[0m\n\u001b[1;32m----> 1\u001b[1;33m \u001b[1;32mfor\u001b[0m \u001b[0mval\u001b[0m \u001b[1;32min\u001b[0m \u001b[0mdf\u001b[0m\u001b[1;33m.\u001b[0m\u001b[0miterrwos\u001b[0m\u001b[1;33m(\u001b[0m\u001b[1;33m)\u001b[0m\u001b[1;33m:\u001b[0m\u001b[1;33m\u001b[0m\u001b[1;33m\u001b[0m\u001b[0m\n\u001b[0m\u001b[0;32m      2\u001b[0m     \u001b[0mprint\u001b[0m\u001b[1;33m(\u001b[0m\u001b[0mval\u001b[0m\u001b[1;33m)\u001b[0m\u001b[1;33m\u001b[0m\u001b[1;33m\u001b[0m\u001b[0m\n",
      "\u001b[1;32m~\\anaconda3\\Lib\\site-packages\\pandas\\core\\generic.py\u001b[0m in \u001b[0;36m?\u001b[1;34m(self, name)\u001b[0m\n\u001b[0;32m   6295\u001b[0m             \u001b[1;32mand\u001b[0m \u001b[0mname\u001b[0m \u001b[1;32mnot\u001b[0m \u001b[1;32min\u001b[0m \u001b[0mself\u001b[0m\u001b[1;33m.\u001b[0m\u001b[0m_accessors\u001b[0m\u001b[1;33m\u001b[0m\u001b[1;33m\u001b[0m\u001b[0m\n\u001b[0;32m   6296\u001b[0m             \u001b[1;32mand\u001b[0m \u001b[0mself\u001b[0m\u001b[1;33m.\u001b[0m\u001b[0m_info_axis\u001b[0m\u001b[1;33m.\u001b[0m\u001b[0m_can_hold_identifiers_and_holds_name\u001b[0m\u001b[1;33m(\u001b[0m\u001b[0mname\u001b[0m\u001b[1;33m)\u001b[0m\u001b[1;33m\u001b[0m\u001b[1;33m\u001b[0m\u001b[0m\n\u001b[0;32m   6297\u001b[0m         \u001b[1;33m)\u001b[0m\u001b[1;33m:\u001b[0m\u001b[1;33m\u001b[0m\u001b[1;33m\u001b[0m\u001b[0m\n\u001b[0;32m   6298\u001b[0m             \u001b[1;32mreturn\u001b[0m \u001b[0mself\u001b[0m\u001b[1;33m[\u001b[0m\u001b[0mname\u001b[0m\u001b[1;33m]\u001b[0m\u001b[1;33m\u001b[0m\u001b[1;33m\u001b[0m\u001b[0m\n\u001b[1;32m-> 6299\u001b[1;33m         \u001b[1;32mreturn\u001b[0m \u001b[0mobject\u001b[0m\u001b[1;33m.\u001b[0m\u001b[0m__getattribute__\u001b[0m\u001b[1;33m(\u001b[0m\u001b[0mself\u001b[0m\u001b[1;33m,\u001b[0m \u001b[0mname\u001b[0m\u001b[1;33m)\u001b[0m\u001b[1;33m\u001b[0m\u001b[1;33m\u001b[0m\u001b[0m\n\u001b[0m",
      "\u001b[1;31mAttributeError\u001b[0m: 'DataFrame' object has no attribute 'iterrwos'"
     ]
    }
   ],
   "source": [
    "for val in df.iterrwos():\n",
    "    print(val)"
   ]
  },
  {
   "cell_type": "code",
   "execution_count": 9,
   "id": "c09146b7-d5ba-4afe-9659-c508899c2e22",
   "metadata": {},
   "outputs": [
    {
     "name": "stdout",
     "output_type": "stream",
     "text": [
      "     0    1    2    3    4\n",
      "0   10   20   30   40   50\n",
      "1   RS   TR   SS   DR   JH\n",
      "2  1.2  2.3  4.5  5.6  6.7\n",
      "Row Index:0\n",
      "\tRecord Values:[10 20 30 40 50]\n",
      "Row Index:1\n",
      "\tRecord Values:['RS' 'TR' 'SS' 'DR' 'JH']\n",
      "Row Index:2\n",
      "\tRecord Values:[1.2 2.3 4.5 5.6 6.7]\n"
     ]
    }
   ],
   "source": [
    "import numpy as np\n",
    "import pandas as pd\n",
    "lst=[[10,20,30,40,50],[\"RS\",\"TR\",\"SS\",\"DR\",\"JH\"],[1.2,2.3,4.5,5.6,6.7]]\n",
    "df=pd.DataFrame(lst)\n",
    "print(df)\n",
    "#1. Iterating the DataFrame Object Data by using Row Indices\n",
    "for rec in df.iterrows():\n",
    "    print(\"Row Index:{}\".format(rec[0]))\n",
    "    print(\"\\tRecord Values:{}\".format(rec[1].values))  "
   ]
  },
  {
   "cell_type": "code",
   "execution_count": 11,
   "id": "b09a5ce6-7ade-446a-9512-13870fb4919b",
   "metadata": {},
   "outputs": [
    {
     "name": "stdout",
     "output_type": "stream",
     "text": [
      "Row Index:0\n",
      "\tRecord Values:[10 20 30 40 50]\n",
      "Row Index:1\n",
      "\tRecord Values:['RS' 'TR' 'SS' 'DR' 'JH']\n",
      "Row Index:2\n",
      "\tRecord Values:[1.2 2.3 4.5 5.6 6.7]\n"
     ]
    }
   ],
   "source": [
    "#1. Iterating the DataFrame Object Data by using Row Indices\n",
    "for (rind,rvals) in df.iterrows():\n",
    "    print(\"Row Index:{}\".format(rind))\n",
    "    print(\"\\tRecord Values:{}\".format(rvals.values)) "
   ]
  },
  {
   "cell_type": "code",
   "execution_count": 13,
   "id": "b8117751-d9e1-4001-afbd-d54a3d5751f2",
   "metadata": {},
   "outputs": [
    {
     "name": "stdout",
     "output_type": "stream",
     "text": [
      "     0    1    2    3    4\n",
      "0   10   20   30   40   50\n",
      "1   RS   TR   SS   DR   JH\n",
      "2  1.2  2.3  4.5  5.6  6.7\n"
     ]
    }
   ],
   "source": [
    "import numpy as np\n",
    "import pandas as pd\n",
    "lst=[[10,20,30,40,50],[\"RS\",\"TR\",\"SS\",\"DR\",\"JH\"],[1.2,2.3,4.5,5.6,6.7]]\n",
    "df=pd.DataFrame(lst)\n",
    "print(df)"
   ]
  },
  {
   "cell_type": "code",
   "execution_count": 15,
   "id": "4b2c760e-ca1e-4234-a2d7-29d42e933b93",
   "metadata": {},
   "outputs": [
    {
     "name": "stdout",
     "output_type": "stream",
     "text": [
      "Row Index Value= 0\n",
      "\tRow Values= [10 20 30 40 50]\n",
      "Row Index Value= 1\n",
      "\tRow Values= ['RS' 'TR' 'SS' 'DR' 'JH']\n",
      "Row Index Value= 2\n",
      "\tRow Values= [1.2 2.3 4.5 5.6 6.7]\n"
     ]
    }
   ],
   "source": [
    "#1. Iterating the DataFrame Object Data by using Row Indices\n",
    "for i in range(df.shape[0]):\n",
    "    print(\"Row Index Value=\",i)\n",
    "    print(\"\\tRow Values=\",df.iloc[i].values)"
   ]
  },
  {
   "cell_type": "code",
   "execution_count": 17,
   "id": "b6289bcf-4bb9-4421-ae94-9db844471971",
   "metadata": {},
   "outputs": [
    {
     "name": "stdout",
     "output_type": "stream",
     "text": [
      "  Rec1 Rec2 Rec3 Rec4 Rec5\n",
      "0   10   20   30   40   50\n",
      "1   RS   TR   SS   DR   JH\n",
      "2  1.2  2.3  4.5  5.6  6.7\n"
     ]
    }
   ],
   "source": [
    "#3.Iterating the DataFrame Object Data by using  Col Names\n",
    "lst=[[10,20,30,40,50],[\"RS\",\"TR\",\"SS\",\"DR\",\"JH\"],[1.2,2.3,4.5,5.6,6.7]]\n",
    "df=pd.DataFrame(lst,columns=[\"Rec1\",\"Rec2\",\"Rec3\",\"Rec4\",\"Rec5\"])\n",
    "print(df)"
   ]
  },
  {
   "cell_type": "code",
   "execution_count": 29,
   "id": "2fb7b4c2-b030-4ddb-8e20-b346e10c0cfe",
   "metadata": {},
   "outputs": [
    {
     "name": "stdout",
     "output_type": "stream",
     "text": [
      "colnames name:Rec1\n",
      "colnames values:[10 'RS' 1.2]\n",
      "colnames name:Rec2\n",
      "colnames values:[20 'TR' 2.3]\n",
      "colnames name:Rec3\n",
      "colnames values:[30 'SS' 4.5]\n",
      "colnames name:Rec4\n",
      "colnames values:[40 'DR' 5.6]\n",
      "colnames name:Rec5\n",
      "colnames values:[50 'JH' 6.7]\n"
     ]
    }
   ],
   "source": [
    "for colname in df.columns:\n",
    "    print(\"colnames name:{}\".format(colname))\n",
    "    print(\"colnames values:{}\".format(df[colname].values))"
   ]
  },
  {
   "cell_type": "code",
   "execution_count": 37,
   "id": "2d195dc2-53c6-46a9-a642-4c8f555d3631",
   "metadata": {},
   "outputs": [
    {
     "name": "stdout",
     "output_type": "stream",
     "text": [
      "Column Index:0\n",
      "\tColumn Data=[10 'RS' 1.2]\n",
      "Column Index:1\n",
      "\tColumn Data=[20 'TR' 2.3]\n",
      "Column Index:2\n",
      "\tColumn Data=[30 'SS' 4.5]\n",
      "Column Index:3\n",
      "\tColumn Data=[40 'DR' 5.6]\n",
      "Column Index:4\n",
      "\tColumn Data=[50 'JH' 6.7]\n"
     ]
    }
   ],
   "source": [
    "#4. Iterating the DataFrame Object Data by using Column  Indices\n",
    "for colindex in range(df.shape[1]):\n",
    "    print(\"Column Index:{}\".format(colindex))\n",
    "    print(\"\\tColumn Data={}\".format(df.iloc[:,colindex].values))"
   ]
  },
  {
   "cell_type": "code",
   "execution_count": 41,
   "id": "50997ced-96cb-4b84-8f68-9cb294e899f5",
   "metadata": {},
   "outputs": [
    {
     "data": {
      "text/plain": [
       "(3, 5)"
      ]
     },
     "execution_count": 41,
     "metadata": {},
     "output_type": "execute_result"
    }
   ],
   "source": [
    "df.shape"
   ]
  },
  {
   "cell_type": "code",
   "execution_count": null,
   "id": "ff743a49-44a9-43fc-9d2d-ba83a25ac4a2",
   "metadata": {},
   "outputs": [],
   "source": []
  }
 ],
 "metadata": {
  "kernelspec": {
   "display_name": "Python [conda env:base] *",
   "language": "python",
   "name": "conda-base-py"
  },
  "language_info": {
   "codemirror_mode": {
    "name": "ipython",
    "version": 3
   },
   "file_extension": ".py",
   "mimetype": "text/x-python",
   "name": "python",
   "nbconvert_exporter": "python",
   "pygments_lexer": "ipython3",
   "version": "3.12.7"
  }
 },
 "nbformat": 4,
 "nbformat_minor": 5
}
