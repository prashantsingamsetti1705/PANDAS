{
 "cells": [
  {
   "cell_type": "code",
   "execution_count": 3,
   "id": "c97d2cdc-87d1-4438-bc79-b273b69fef6c",
   "metadata": {},
   "outputs": [
    {
     "name": "stdout",
     "output_type": "stream",
     "text": [
      "   ID     Name  Age    City  Experience\n",
      "0  11     Jack   44  Sydney          19\n",
      "1  12     Riti   41   Delhi          17\n",
      "2  13     Aadi   46  Mumbai          11\n",
      "3  14    Mohit   45   Delhi          15\n",
      "4  15    Veena   43   Delhi          14\n",
      "5  16  Shaunak   42  Mumbai          17\n",
      "6  17    Manik   42  Sydney          14\n",
      "7  18    Vikas   42   Delhi          11\n",
      "8  19    Samir   42  Mumbai          15\n",
      "9  20  Shobhit   40  Sydney          12\n"
     ]
    }
   ],
   "source": [
    "import pandas as pd\n",
    "import numpy as np\n",
    "df=pd.read_csv(\"C:\\\\Users\\\\prash\\\\OneDrive\\\\Desktop\\\\Pandas\\\\PANDAS CLASS NOTES ON 26-02-2025\\\\anil.csv\")\n",
    "print(df)"
   ]
  },
  {
   "cell_type": "code",
   "execution_count": 7,
   "id": "a924be8c-d4c5-4232-9476-3b64393d4a59",
   "metadata": {},
   "outputs": [
    {
     "name": "stdout",
     "output_type": "stream",
     "text": [
      "<pandas.core.groupby.generic.DataFrameGroupBy object at 0x0000023B59CCEFF0>\n"
     ]
    }
   ],
   "source": [
    "pg=df.groupby(\"City\")\n",
    "print(pg)"
   ]
  },
  {
   "cell_type": "code",
   "execution_count": 11,
   "id": "811464d0-9d12-4797-a50f-e78288c3a622",
   "metadata": {},
   "outputs": [
    {
     "name": "stdout",
     "output_type": "stream",
     "text": [
      "Delhi\n",
      "   ID   Name  Age   City  Experience\n",
      "1  12   Riti   41  Delhi          17\n",
      "3  14  Mohit   45  Delhi          15\n",
      "4  15  Veena   43  Delhi          14\n",
      "7  18  Vikas   42  Delhi          11\n",
      "Mumbai\n",
      "   ID     Name  Age    City  Experience\n",
      "2  13     Aadi   46  Mumbai          11\n",
      "5  16  Shaunak   42  Mumbai          17\n",
      "8  19    Samir   42  Mumbai          15\n",
      "Sydney\n",
      "   ID     Name  Age    City  Experience\n",
      "0  11     Jack   44  Sydney          19\n",
      "6  17    Manik   42  Sydney          14\n",
      "9  20  Shobhit   40  Sydney          12\n"
     ]
    }
   ],
   "source": [
    "for groupname,groupdata in pg:\n",
    "    print(groupname)\n",
    "    print(groupdata)"
   ]
  },
  {
   "cell_type": "code",
   "execution_count": 13,
   "id": "243a4394-0b60-49ca-ac1f-f1386d8215ac",
   "metadata": {},
   "outputs": [
    {
     "name": "stdout",
     "output_type": "stream",
     "text": [
      "              Age  Experience\n",
      "City                         \n",
      "Delhi   42.750000          57\n",
      "Mumbai  43.333333          43\n",
      "Sydney  42.000000          45\n"
     ]
    }
   ],
   "source": [
    "values = df.groupby('City').agg( {'Age': 'mean', 'Experience': 'sum'})\n",
    "print(values)"
   ]
  },
  {
   "cell_type": "code",
   "execution_count": 27,
   "id": "399f807e-d6bb-4c33-b90e-f8496ad60b92",
   "metadata": {},
   "outputs": [
    {
     "name": "stdout",
     "output_type": "stream",
     "text": [
      "        Age\n",
      "City       \n",
      "Delhi   171\n",
      "Mumbai  130\n",
      "Sydney  126\n"
     ]
    }
   ],
   "source": [
    "values = df.groupby('City').agg( {'Age': 'mean','Age':'sum'})\n",
    "print(values)"
   ]
  },
  {
   "cell_type": "code",
   "execution_count": 35,
   "id": "6510c13d-6b5f-4f6d-8c32-f71f3170db68",
   "metadata": {},
   "outputs": [
    {
     "name": "stdout",
     "output_type": "stream",
     "text": [
      "        size  sum       mean  median\n",
      "City                                \n",
      "Delhi      4  171  42.750000    42.5\n",
      "Mumbai     3  130  43.333333    42.0\n",
      "Sydney     3  126  42.000000    42.0\n"
     ]
    }
   ],
   "source": [
    "\n",
    "values = df.groupby('City')[\"Age\"].agg(['size', 'sum', 'mean','median'])\n",
    "print(values)"
   ]
  },
  {
   "cell_type": "code",
   "execution_count": 37,
   "id": "9e646caf-30fb-4273-9198-365a174999f8",
   "metadata": {},
   "outputs": [
    {
     "name": "stdout",
     "output_type": "stream",
     "text": [
      "-------The DataFrame is-------\n",
      "   A  B  C\n",
      "0  1  4  7\n",
      "1  2  5  8\n",
      "2  3  6  9\n"
     ]
    }
   ],
   "source": [
    "import pandas as pd\n",
    "#creating the DataFrame\n",
    "df = pd.DataFrame({\"A\": [1, 2, 3], \"B\": [4, 5, 6],\"C\": [7,8,9]})\n",
    "print(\"-------The DataFrame is-------\")\n",
    "print(df)"
   ]
  },
  {
   "cell_type": "code",
   "execution_count": 47,
   "id": "931e7cf9-1806-4329-bcac-97724ca5c070",
   "metadata": {},
   "outputs": [
    {
     "name": "stdout",
     "output_type": "stream",
     "text": [
      "   a  b  c\n",
      "0  1  4  7\n",
      "1  2  5  8\n",
      "2  3  6  9\n"
     ]
    }
   ],
   "source": [
    "print(df.rename(columns={'A':'a','B':'b','C':'c'}))"
   ]
  },
  {
   "cell_type": "code",
   "execution_count": 49,
   "id": "47557290-8532-4d01-9e3d-6a6ed92a7468",
   "metadata": {},
   "outputs": [
    {
     "name": "stdout",
     "output_type": "stream",
     "text": [
      "   A  B  C\n",
      "a  1  4  7\n",
      "b  2  5  8\n",
      "c  3  6  9\n"
     ]
    }
   ],
   "source": [
    "print(df.rename(index={0:'a',1:'b',2:'c'}))"
   ]
  },
  {
   "cell_type": "code",
   "execution_count": 51,
   "id": "a44ab9b3-0515-4e82-b6c1-32ba61e06287",
   "metadata": {},
   "outputs": [
    {
     "name": "stdout",
     "output_type": "stream",
     "text": [
      "-------The DataFrame is-------\n",
      "   A  B  C\n",
      "0  1  4  7\n",
      "1  2  5  8\n",
      "2  3  6  9\n",
      "----------------------------------\n",
      "         A  B  C\n",
      "index_1  1  4  7\n",
      "index_2  2  5  8\n",
      "index_3  3  6  9\n"
     ]
    }
   ],
   "source": [
    "#Changing OR Renaming Indices (Row Indexes)\n",
    "import pandas as pd\n",
    "#creating the DataFrame\n",
    "df = pd.DataFrame({\"A\": [1, 2, 3], \"B\": [4, 5, 6],\"C\": [7,8,9]})\n",
    "print(\"-------The DataFrame is-------\")\n",
    "print(df)\n",
    "print(\"----------------------------------\")\n",
    "print(df.rename(index={0: \"index_1\", 1: \"index_2\", 2:\"index_3\"}))"
   ]
  },
  {
   "cell_type": "code",
   "execution_count": 53,
   "id": "d371f5a2-af48-463f-93ad-410d6d0ab828",
   "metadata": {},
   "outputs": [
    {
     "name": "stdout",
     "output_type": "stream",
     "text": [
      "  team  points\n",
      "0    A      30\n",
      "1    A      22\n",
      "2    A      19\n",
      "3    A      14\n",
      "4    B      14\n",
      "5    B      11\n",
      "6    B      20\n",
      "7    B      28\n"
     ]
    }
   ],
   "source": [
    "import pandas as pd\n",
    "import numpy as np\n",
    "#create DataFrame\n",
    "df = pd.DataFrame({'team': ['A', 'A', 'A', 'A', 'B', 'B', 'B', 'B'],\n",
    "                   'points': [30, 22, 19, 14, 14, 11, 20, 28]})\n",
    "\n",
    "#view DataFrame\n",
    "print(df)"
   ]
  },
  {
   "cell_type": "code",
   "execution_count": 55,
   "id": "c18b9b1b-ead7-418c-9b1d-ca29c174a48a",
   "metadata": {},
   "outputs": [
    {
     "name": "stdout",
     "output_type": "stream",
     "text": [
      "Group Name: A\n",
      "  team  points\n",
      "0    A      30\n",
      "1    A      22\n",
      "2    A      19\n",
      "3    A      14\n",
      "----------------------------------\n",
      "Group Name: B\n",
      "  team  points\n",
      "4    B      14\n",
      "5    B      11\n",
      "6    B      20\n",
      "7    B      28\n",
      "----------------------------------\n"
     ]
    }
   ],
   "source": [
    "tgb=df.groupby(\"team\")\n",
    "for grpname,grpdata in tgb:\n",
    "    print(\"Group Name:\",grpname)\n",
    "    print(grpdata)\n",
    "    print(\"----------------------------------\")"
   ]
  },
  {
   "cell_type": "code",
   "execution_count": 57,
   "id": "bce5537e-ce44-4be8-a6db-935d36fd45f7",
   "metadata": {},
   "outputs": [],
   "source": [
    "#Calculate the Mean Points of each Time\n",
    "df[\"Mean-Points\"]=df.groupby(\"team\")[\"points\"].transform(\"mean\")"
   ]
  },
  {
   "cell_type": "code",
   "execution_count": 59,
   "id": "b6098f23-f796-41d7-bbb5-33f8c9994c52",
   "metadata": {},
   "outputs": [
    {
     "name": "stdout",
     "output_type": "stream",
     "text": [
      "  team  points  Mean-Points\n",
      "0    A      30        21.25\n",
      "1    A      22        21.25\n",
      "2    A      19        21.25\n",
      "3    A      14        21.25\n",
      "4    B      14        18.25\n",
      "5    B      11        18.25\n",
      "6    B      20        18.25\n",
      "7    B      28        18.25\n"
     ]
    }
   ],
   "source": [
    "print(df)"
   ]
  },
  {
   "cell_type": "code",
   "execution_count": 61,
   "id": "2902ae3d-df45-4ba6-91f4-24a568005942",
   "metadata": {},
   "outputs": [],
   "source": [
    "#Calculate the Mean Points of each Time\n",
    "df[\"sum-Points\"]=df.groupby(\"team\")[\"points\"].transform(\"sum\")"
   ]
  },
  {
   "cell_type": "code",
   "execution_count": 63,
   "id": "cebc3600-b289-404c-a4de-7029f4337029",
   "metadata": {},
   "outputs": [
    {
     "name": "stdout",
     "output_type": "stream",
     "text": [
      "  team  points  Mean-Points  sum-Points\n",
      "0    A      30        21.25          85\n",
      "1    A      22        21.25          85\n",
      "2    A      19        21.25          85\n",
      "3    A      14        21.25          85\n",
      "4    B      14        18.25          73\n",
      "5    B      11        18.25          73\n",
      "6    B      20        18.25          73\n",
      "7    B      28        18.25          73\n"
     ]
    }
   ],
   "source": [
    "print(df)"
   ]
  },
  {
   "cell_type": "code",
   "execution_count": 65,
   "id": "db883df7-7fd9-473e-a79f-b1a534c3173b",
   "metadata": {},
   "outputs": [
    {
     "name": "stdout",
     "output_type": "stream",
     "text": [
      "  team  points  Mean-Points  sum-Points  percent_of_points\n",
      "0    A      30        21.25          85           0.352941\n",
      "1    A      22        21.25          85           0.258824\n",
      "2    A      19        21.25          85           0.223529\n",
      "3    A      14        21.25          85           0.164706\n",
      "4    B      14        18.25          73           0.191781\n",
      "5    B      11        18.25          73           0.150685\n",
      "6    B      20        18.25          73           0.273973\n",
      "7    B      28        18.25          73           0.383562\n"
     ]
    }
   ],
   "source": [
    "#create new column called percent_of_points\n",
    "df['percent_of_points'] = df.groupby('team')['points'].transform(lambda x: x/x.sum())\n",
    "print(df)"
   ]
  },
  {
   "cell_type": "code",
   "execution_count": 67,
   "id": "3d675534-54ab-44e8-8699-61663dfc00a5",
   "metadata": {},
   "outputs": [
    {
     "name": "stdout",
     "output_type": "stream",
     "text": [
      "  team  points  Mean-Points  sum-Points  percent_of_points\n",
      "0    A      30        21.25          85          35.294118\n",
      "1    A      22        21.25          85          25.882353\n",
      "2    A      19        21.25          85          22.352941\n",
      "3    A      14        21.25          85          16.470588\n",
      "4    B      14        18.25          73          19.178082\n",
      "5    B      11        18.25          73          15.068493\n",
      "6    B      20        18.25          73          27.397260\n",
      "7    B      28        18.25          73          38.356164\n"
     ]
    }
   ],
   "source": [
    "#create new column called percent_of_points\n",
    "df['percent_of_points'] = df.groupby('team')['points'].transform(lambda x: x/x.sum()*100)\n",
    "print(df)"
   ]
  },
  {
   "cell_type": "code",
   "execution_count": 69,
   "id": "4ca5d990-00c0-42f2-94dc-bd0b84f684ea",
   "metadata": {},
   "outputs": [
    {
     "data": {
      "text/html": [
       "<div>\n",
       "<style scoped>\n",
       "    .dataframe tbody tr th:only-of-type {\n",
       "        vertical-align: middle;\n",
       "    }\n",
       "\n",
       "    .dataframe tbody tr th {\n",
       "        vertical-align: top;\n",
       "    }\n",
       "\n",
       "    .dataframe thead tr th {\n",
       "        text-align: left;\n",
       "    }\n",
       "\n",
       "    .dataframe thead tr:last-of-type th {\n",
       "        text-align: right;\n",
       "    }\n",
       "</style>\n",
       "<table border=\"1\" class=\"dataframe\">\n",
       "  <thead>\n",
       "    <tr>\n",
       "      <th></th>\n",
       "      <th colspan=\"3\" halign=\"left\">Max Speed</th>\n",
       "    </tr>\n",
       "    <tr>\n",
       "      <th></th>\n",
       "      <th>mean</th>\n",
       "      <th>max</th>\n",
       "      <th>min</th>\n",
       "    </tr>\n",
       "    <tr>\n",
       "      <th>Animal</th>\n",
       "      <th></th>\n",
       "      <th></th>\n",
       "      <th></th>\n",
       "    </tr>\n",
       "  </thead>\n",
       "  <tbody>\n",
       "    <tr>\n",
       "      <th>Falcon</th>\n",
       "      <td>375.0</td>\n",
       "      <td>380.0</td>\n",
       "      <td>370.0</td>\n",
       "    </tr>\n",
       "    <tr>\n",
       "      <th>Parrot</th>\n",
       "      <td>25.0</td>\n",
       "      <td>26.0</td>\n",
       "      <td>24.0</td>\n",
       "    </tr>\n",
       "  </tbody>\n",
       "</table>\n",
       "</div>"
      ],
      "text/plain": [
       "       Max Speed              \n",
       "            mean    max    min\n",
       "Animal                        \n",
       "Falcon     375.0  380.0  370.0\n",
       "Parrot      25.0   26.0   24.0"
      ]
     },
     "execution_count": 69,
     "metadata": {},
     "output_type": "execute_result"
    }
   ],
   "source": [
    "import pandas as pd\n",
    "\n",
    "df = pd.DataFrame({'Animal': ['Falcon', 'Falcon', 'Parrot', 'Parrot'], \n",
    "                   'Max Speed': [380., 370., 24., 26.]})\n",
    "df.groupby(['Animal']).agg(['mean', 'max', 'min'])"
   ]
  },
  {
   "cell_type": "code",
   "execution_count": 71,
   "id": "75985e4b-512d-4486-a721-1336be8a0213",
   "metadata": {},
   "outputs": [
    {
     "data": {
      "text/html": [
       "<div>\n",
       "<style scoped>\n",
       "    .dataframe tbody tr th:only-of-type {\n",
       "        vertical-align: middle;\n",
       "    }\n",
       "\n",
       "    .dataframe tbody tr th {\n",
       "        vertical-align: top;\n",
       "    }\n",
       "\n",
       "    .dataframe thead th {\n",
       "        text-align: right;\n",
       "    }\n",
       "</style>\n",
       "<table border=\"1\" class=\"dataframe\">\n",
       "  <thead>\n",
       "    <tr style=\"text-align: right;\">\n",
       "      <th></th>\n",
       "      <th>Animal</th>\n",
       "      <th>Max Speed</th>\n",
       "    </tr>\n",
       "  </thead>\n",
       "  <tbody>\n",
       "    <tr>\n",
       "      <th>0</th>\n",
       "      <td>Falcon</td>\n",
       "      <td>380.0</td>\n",
       "    </tr>\n",
       "    <tr>\n",
       "      <th>1</th>\n",
       "      <td>Falcon</td>\n",
       "      <td>370.0</td>\n",
       "    </tr>\n",
       "  </tbody>\n",
       "</table>\n",
       "</div>"
      ],
      "text/plain": [
       "   Animal  Max Speed\n",
       "0  Falcon      380.0\n",
       "1  Falcon      370.0"
      ]
     },
     "execution_count": 71,
     "metadata": {},
     "output_type": "execute_result"
    }
   ],
   "source": [
    "#Filtering Groups\n",
    "import pandas as pd\n",
    "df = pd.DataFrame({'Animal': ['Falcon', 'Falcon', 'Parrot', 'Parrot'], \n",
    "                   'Max Speed': [380., 370., 24., 26.]})\n",
    "df.groupby(['Animal']).filter(lambda x: x['Max Speed'].mean() > 100)"
   ]
  },
  {
   "cell_type": "raw",
   "id": "ae7d448e-ef95-4954-8cfd-e226b68cf74d",
   "metadata": {},
   "source": []
  },
  {
   "cell_type": "code",
   "execution_count": null,
   "id": "5c152b1c-663f-41b2-8713-e459c879ee11",
   "metadata": {},
   "outputs": [],
   "source": []
  }
 ],
 "metadata": {
  "kernelspec": {
   "display_name": "Python [conda env:base] *",
   "language": "python",
   "name": "conda-base-py"
  },
  "language_info": {
   "codemirror_mode": {
    "name": "ipython",
    "version": 3
   },
   "file_extension": ".py",
   "mimetype": "text/x-python",
   "name": "python",
   "nbconvert_exporter": "python",
   "pygments_lexer": "ipython3",
   "version": "3.12.7"
  }
 },
 "nbformat": 4,
 "nbformat_minor": 5
}
