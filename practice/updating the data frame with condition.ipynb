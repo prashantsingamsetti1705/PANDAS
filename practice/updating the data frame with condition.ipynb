{
 "cells": [
  {
   "cell_type": "code",
   "execution_count": 1,
   "id": "38222ada-71dd-45d5-a2f1-921aad57d251",
   "metadata": {},
   "outputs": [],
   "source": [
    "#now we are undating the condition using the iloc[\"compund condition\"]"
   ]
  },
  {
   "cell_type": "code",
   "execution_count": 3,
   "id": "76a1feaa-d1db-4537-a92b-75bb56b77575",
   "metadata": {},
   "outputs": [
    {
     "name": "stdout",
     "output_type": "stream",
     "text": [
      "    htno     name  telugu  english  hindi  maths  science  social\n",
      "0    100   Ramesh      50       60     66     98       66      55\n",
      "1    101   Rajesh      45       67     34     67       66      78\n",
      "2    102   Rossum      56       88     56     99       44      77\n",
      "3    103     Raji      56       78     34     56       88      55\n",
      "4    104   Kalyan      51       63     62     93       67      51\n",
      "5    105  Karthik      48       62     39     68       65      88\n",
      "6    106   Kambli      53       81     59     92       48      73\n",
      "7    107  Praveen      46       88     74     86       78      45\n",
      "8    108   Ganesh      53       62     76     88       76      35\n",
      "9    109     Nags      55       77     44     77       86      58\n",
      "10   110    Biswa      66       48     86     95       48      47\n",
      "11   111   Ritchi      66       68     64     76       98      75\n",
      "12   104   Kalyan      51       63     62     93       67      51\n",
      "13   112  shareef      50       63     99     90       76      67\n",
      "14   113     sonu      60       89     98     87       77      68\n",
      "15   114   Rajesh      45       67     77     55       66      46\n",
      "16   115   Rakesh      67       78     88     78       67      49\n",
      "    htno     name  telugu  english  hindi  maths  science  social  total\n",
      "0    100   Ramesh      50       60     66     98       66      55    395\n",
      "1    101   Rajesh      45       67     34     67       66      78    357\n",
      "2    102   Rossum      56       88     56     99       44      77    420\n",
      "3    103     Raji      56       78     34     56       88      55    367\n",
      "4    104   Kalyan      51       63     62     93       67      51    387\n",
      "5    105  Karthik      48       62     39     68       65      88    370\n",
      "6    106   Kambli      53       81     59     92       48      73    406\n",
      "7    107  Praveen      46       88     74     86       78      45    417\n",
      "8    108   Ganesh      53       62     76     88       76      35    390\n",
      "9    109     Nags      55       77     44     77       86      58    397\n",
      "10   110    Biswa      66       48     86     95       48      47    390\n",
      "11   111   Ritchi      66       68     64     76       98      75    447\n",
      "12   104   Kalyan      51       63     62     93       67      51    387\n",
      "13   112  shareef      50       63     99     90       76      67    445\n",
      "14   113     sonu      60       89     98     87       77      68    479\n",
      "15   114   Rajesh      45       67     77     55       66      46    356\n",
      "16   115   Rakesh      67       78     88     78       67      49    427\n"
     ]
    }
   ],
   "source": [
    "\n",
    "import pandas as pd\n",
    "df=pd.read_csv(\"C:\\\\Users\\\\prash\\\\OneDrive\\\\Desktop\\\\Pandas\\\\examdet.csv\")\n",
    "print(df)\n",
    "df[\"total\"]=df[\"telugu\"]+df[\"english\"]+df[\"hindi\"]+df[\"maths\"]+df[\"science\"]+df[\"social\"]\n",
    "print(df)"
   ]
  },
  {
   "cell_type": "code",
   "execution_count": 7,
   "id": "129e0201-d873-4c6e-b55b-ee3e97bd029b",
   "metadata": {},
   "outputs": [
    {
     "name": "stdout",
     "output_type": "stream",
     "text": [
      "    htno     name  telugu  english  hindi  maths  science  social  total  \\\n",
      "0    100   Ramesh      50       60     66     98       66      55    395   \n",
      "1    101   Rajesh      45       67     34     67       66      78    357   \n",
      "2    102   Rossum      56       88     56     99       44      77    420   \n",
      "3    103     Raji      56       78     34     56       88      55    367   \n",
      "4    104   Kalyan      51       63     62     93       67      51    387   \n",
      "5    105  Karthik      48       62     39     68       65      88    370   \n",
      "6    106   Kambli      53       81     59     92       48      73    406   \n",
      "7    107  Praveen      46       88     74     86       78      45    417   \n",
      "8    108   Ganesh      53       62     76     88       76      35    390   \n",
      "9    109     Nags      55       77     44     77       86      58    397   \n",
      "10   110    Biswa      66       48     86     95       48      47    390   \n",
      "11   111   Ritchi      66       68     64     76       98      75    447   \n",
      "12   104   Kalyan      51       63     62     93       67      51    387   \n",
      "13   112  shareef      50       63     99     90       76      67    445   \n",
      "14   113     sonu      60       89     98     87       77      68    479   \n",
      "15   114   Rajesh      45       67     77     55       66      46    356   \n",
      "16   115   Rakesh      67       78     88     78       67      49    427   \n",
      "\n",
      "    percentage  \n",
      "0    65.833333  \n",
      "1    59.500000  \n",
      "2    70.000000  \n",
      "3    61.166667  \n",
      "4    64.500000  \n",
      "5    61.666667  \n",
      "6    67.666667  \n",
      "7    69.500000  \n",
      "8    65.000000  \n",
      "9    66.166667  \n",
      "10   65.000000  \n",
      "11   74.500000  \n",
      "12   64.500000  \n",
      "13   74.166667  \n",
      "14   79.833333  \n",
      "15   59.333333  \n",
      "16   71.166667  \n",
      "    htno     name  telugu  english  hindi  maths  science  social  total  \\\n",
      "0    100   Ramesh      50       60     66     98       66      55    395   \n",
      "1    101   Rajesh      45       67     34     67       66      78    357   \n",
      "2    102   Rossum      56       88     56     99       44      77    420   \n",
      "3    103     Raji      56       78     34     56       88      55    367   \n",
      "4    104   Kalyan      51       63     62     93       67      51    387   \n",
      "5    105  Karthik      48       62     39     68       65      88    370   \n",
      "6    106   Kambli      53       81     59     92       48      73    406   \n",
      "7    107  Praveen      46       88     74     86       78      45    417   \n",
      "8    108   Ganesh      53       62     76     88       76      35    390   \n",
      "9    109     Nags      55       77     44     77       86      58    397   \n",
      "10   110    Biswa      66       48     86     95       48      47    390   \n",
      "11   111   Ritchi      66       68     64     76       98      75    447   \n",
      "12   104   Kalyan      51       63     62     93       67      51    387   \n",
      "13   112  shareef      50       63     99     90       76      67    445   \n",
      "14   113     sonu      60       89     98     87       77      68    479   \n",
      "15   114   Rajesh      45       67     77     55       66      46    356   \n",
      "16   115   Rakesh      67       78     88     78       67      49    427   \n",
      "\n",
      "    percentage grade  \n",
      "0    65.833333  None  \n",
      "1    59.500000  None  \n",
      "2    70.000000  None  \n",
      "3    61.166667  None  \n",
      "4    64.500000  None  \n",
      "5    61.666667  None  \n",
      "6    67.666667  None  \n",
      "7    69.500000  None  \n",
      "8    65.000000  None  \n",
      "9    66.166667  None  \n",
      "10   65.000000  None  \n",
      "11   74.500000  None  \n",
      "12   64.500000  None  \n",
      "13   74.166667  None  \n",
      "14   79.833333  None  \n",
      "15   59.333333  None  \n",
      "16   71.166667  None  \n"
     ]
    }
   ],
   "source": [
    "df[\"percentage\"]=df[\"total\"]/600*100\n",
    "print(df)\n",
    "df[\"grade\"]=None\n",
    "print(df)"
   ]
  },
  {
   "cell_type": "code",
   "execution_count": 9,
   "id": "0409701c-a26e-41d9-9c39-0f26903550b2",
   "metadata": {},
   "outputs": [],
   "source": [
    "#Give the Grade to Students with Following Conditions\n",
    "#Distinction Grade----->Percentage >=74\n",
    "#First Grade----------> 74>Percentage>=65\n",
    "#Second Grade--------->65>percentage>=60\n",
    "#Third Grade--------->60>percentage"
   ]
  },
  {
   "cell_type": "code",
   "execution_count": 57,
   "id": "0e1362ce-6941-4edb-8ad7-e306c5324234",
   "metadata": {},
   "outputs": [
    {
     "name": "stdout",
     "output_type": "stream",
     "text": [
      "    htno     name  telugu  english  hindi  maths  science  social  total  \\\n",
      "0    100   Ramesh      50       60     66     98       66      55    395   \n",
      "1    101   Rajesh      45       67     34     67       66      78    357   \n",
      "2    102   Rossum      56       88     56     99       44      77    420   \n",
      "3    103     Raji      56       78     34     56       88      55    367   \n",
      "4    104   Kalyan      51       63     62     93       67      51    387   \n",
      "5    105  Karthik      48       62     39     68       65      88    370   \n",
      "6    106   Kambli      53       81     59     92       48      73    406   \n",
      "7    107  Praveen      46       88     74     86       78      45    417   \n",
      "8    108   Ganesh      53       62     76     88       76      35    390   \n",
      "9    109     Nags      55       77     44     77       86      58    397   \n",
      "10   110    Biswa      66       48     86     95       48      47    390   \n",
      "11   111   Ritchi      66       68     64     76       98      75    447   \n",
      "12   104   Kalyan      51       63     62     93       67      51    387   \n",
      "13   112  shareef      50       63     99     90       76      67    445   \n",
      "14   113     sonu      60       89     98     87       77      68    479   \n",
      "15   114   Rajesh      45       67     77     55       66      46    356   \n",
      "16   115   Rakesh      67       78     88     78       67      49    427   \n",
      "\n",
      "    percentage         grade  \n",
      "0    65.833333   frist grade  \n",
      "1    59.500000   third grade  \n",
      "2    70.000000   frist grade  \n",
      "3    61.166667   third grade  \n",
      "4    64.500000   third grade  \n",
      "5    61.666667   third grade  \n",
      "6    67.666667   frist grade  \n",
      "7    69.500000   frist grade  \n",
      "8    65.000000  second grade  \n",
      "9    66.166667   frist grade  \n",
      "10   65.000000  second grade  \n",
      "11   74.500000   distinction  \n",
      "12   64.500000   third grade  \n",
      "13   74.166667   distinction  \n",
      "14   79.833333   distinction  \n",
      "15   59.333333   third grade  \n",
      "16   71.166667   frist grade  \n"
     ]
    }
   ],
   "source": [
    "df.loc[df[\"percentage\"]>=74,[\"grade\"]]=\"distinction\"\n",
    "print(df)"
   ]
  },
  {
   "cell_type": "code",
   "execution_count": 59,
   "id": "17d1bc1b-6dee-4adf-b1e1-f293399a906a",
   "metadata": {},
   "outputs": [
    {
     "name": "stdout",
     "output_type": "stream",
     "text": [
      "    htno     name  telugu  english  hindi  maths  science  social  total  \\\n",
      "0    100   Ramesh      50       60     66     98       66      55    395   \n",
      "1    101   Rajesh      45       67     34     67       66      78    357   \n",
      "2    102   Rossum      56       88     56     99       44      77    420   \n",
      "3    103     Raji      56       78     34     56       88      55    367   \n",
      "4    104   Kalyan      51       63     62     93       67      51    387   \n",
      "5    105  Karthik      48       62     39     68       65      88    370   \n",
      "6    106   Kambli      53       81     59     92       48      73    406   \n",
      "7    107  Praveen      46       88     74     86       78      45    417   \n",
      "8    108   Ganesh      53       62     76     88       76      35    390   \n",
      "9    109     Nags      55       77     44     77       86      58    397   \n",
      "10   110    Biswa      66       48     86     95       48      47    390   \n",
      "11   111   Ritchi      66       68     64     76       98      75    447   \n",
      "12   104   Kalyan      51       63     62     93       67      51    387   \n",
      "13   112  shareef      50       63     99     90       76      67    445   \n",
      "14   113     sonu      60       89     98     87       77      68    479   \n",
      "15   114   Rajesh      45       67     77     55       66      46    356   \n",
      "16   115   Rakesh      67       78     88     78       67      49    427   \n",
      "\n",
      "    percentage         grade  \n",
      "0    65.833333   frist grade  \n",
      "1    59.500000   third grade  \n",
      "2    70.000000   frist grade  \n",
      "3    61.166667   third grade  \n",
      "4    64.500000   third grade  \n",
      "5    61.666667   third grade  \n",
      "6    67.666667   frist grade  \n",
      "7    69.500000   frist grade  \n",
      "8    65.000000  second grade  \n",
      "9    66.166667   frist grade  \n",
      "10   65.000000  second grade  \n",
      "11   74.500000   frist grade  \n",
      "12   64.500000   third grade  \n",
      "13   74.166667   frist grade  \n",
      "14   79.833333   frist grade  \n",
      "15   59.333333   third grade  \n",
      "16   71.166667   frist grade  \n"
     ]
    }
   ],
   "source": [
    "df.loc[((df[\"percentage\"]>=64)&(df[\"percentage\"]>65)),[\"grade\"]]=\"frist grade\"\n",
    "print(df)\n",
    "# df.loc[((df[\"percent\"]>=65)&(df[\"percent\"]<74)),[\"grade\"]]=\"FIRST\""
   ]
  },
  {
   "cell_type": "code",
   "execution_count": 51,
   "id": "bba1d426-9edf-439d-ae8c-6e239808411c",
   "metadata": {},
   "outputs": [
    {
     "name": "stdout",
     "output_type": "stream",
     "text": [
      "    htno     name  telugu  english  hindi  maths  science  social  total  \\\n",
      "0    100   Ramesh      50       60     66     98       66      55    395   \n",
      "1    101   Rajesh      45       67     34     67       66      78    357   \n",
      "2    102   Rossum      56       88     56     99       44      77    420   \n",
      "3    103     Raji      56       78     34     56       88      55    367   \n",
      "4    104   Kalyan      51       63     62     93       67      51    387   \n",
      "5    105  Karthik      48       62     39     68       65      88    370   \n",
      "6    106   Kambli      53       81     59     92       48      73    406   \n",
      "7    107  Praveen      46       88     74     86       78      45    417   \n",
      "8    108   Ganesh      53       62     76     88       76      35    390   \n",
      "9    109     Nags      55       77     44     77       86      58    397   \n",
      "10   110    Biswa      66       48     86     95       48      47    390   \n",
      "11   111   Ritchi      66       68     64     76       98      75    447   \n",
      "12   104   Kalyan      51       63     62     93       67      51    387   \n",
      "13   112  shareef      50       63     99     90       76      67    445   \n",
      "14   113     sonu      60       89     98     87       77      68    479   \n",
      "15   114   Rajesh      45       67     77     55       66      46    356   \n",
      "16   115   Rakesh      67       78     88     78       67      49    427   \n",
      "\n",
      "    percentage         grade  \n",
      "0    65.833333  second grade  \n",
      "1    59.500000   third grade  \n",
      "2    70.000000  second grade  \n",
      "3    61.166667   third grade  \n",
      "4    64.500000   third grade  \n",
      "5    61.666667   third grade  \n",
      "6    67.666667  second grade  \n",
      "7    69.500000  second grade  \n",
      "8    65.000000  second grade  \n",
      "9    66.166667  second grade  \n",
      "10   65.000000  second grade  \n",
      "11   74.500000  second grade  \n",
      "12   64.500000   third grade  \n",
      "13   74.166667  second grade  \n",
      "14   79.833333  second grade  \n",
      "15   59.333333   third grade  \n",
      "16   71.166667  second grade  \n"
     ]
    }
   ],
   "source": [
    "df.loc[((df[\"percentage\"]>=65)&(df[\"percentage\"]>60)),[\"grade\"]]=\"second grade\"\n",
    "print(df)"
   ]
  },
  {
   "cell_type": "code",
   "execution_count": null,
   "id": "872f1c13-84ad-4ea4-bc9c-dcdf7a53c7d5",
   "metadata": {},
   "outputs": [],
   "source": []
  },
  {
   "cell_type": "code",
   "execution_count": 85,
   "id": "445a2212-4346-4502-aac1-c4630dc83a25",
   "metadata": {},
   "outputs": [
    {
     "name": "stdout",
     "output_type": "stream",
     "text": [
      "Number of student whose passed in DISTINCTION= 2\n"
     ]
    }
   ],
   "source": [
    "#Count Number Students who got Distinction\n",
    "print(\"Number of student whose passed in DISTINCTION=\",\n",
    "      df[df[\"grade\"]==\"second grade\"].shape[0])"
   ]
  },
  {
   "cell_type": "code",
   "execution_count": 87,
   "id": "e0d63145-47e9-4475-aba6-70b14a9d6911",
   "metadata": {},
   "outputs": [
    {
     "name": "stdout",
     "output_type": "stream",
     "text": [
      "Number of student whose passed in DISTINCTION= 6\n"
     ]
    }
   ],
   "source": [
    "print(\"Number of student whose passed in DISTINCTION=\",\n",
    "      df[df[\"grade\"]==\"third grade\"].shape[0])"
   ]
  },
  {
   "cell_type": "code",
   "execution_count": null,
   "id": "5e2471eb-c22a-4df0-a671-aa3e091c3833",
   "metadata": {},
   "outputs": [],
   "source": []
  }
 ],
 "metadata": {
  "kernelspec": {
   "display_name": "Python [conda env:base] *",
   "language": "python",
   "name": "conda-base-py"
  },
  "language_info": {
   "codemirror_mode": {
    "name": "ipython",
    "version": 3
   },
   "file_extension": ".py",
   "mimetype": "text/x-python",
   "name": "python",
   "nbconvert_exporter": "python",
   "pygments_lexer": "ipython3",
   "version": "3.12.7"
  }
 },
 "nbformat": 4,
 "nbformat_minor": 5
}
