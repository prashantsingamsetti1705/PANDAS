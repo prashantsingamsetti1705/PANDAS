{
 "cells": [
  {
   "cell_type": "code",
   "execution_count": 1,
   "id": "1f26601e-c995-44f5-8648-a0cd20c3e21a",
   "metadata": {},
   "outputs": [
    {
     "name": "stdout",
     "output_type": "stream",
     "text": [
      "---------------------------------------\n",
      "DataFrame-1\n",
      "   Name  Age      City  Exp\n",
      "a  Jack   34    Sydney    5\n",
      "b  Riti   31     Delhi    7\n",
      "c  Aadi   46  New York   11\n",
      "---------------------------------------\n",
      "DataFrame-2\n",
      "    Name  Age       City  Exp\n",
      "d  Mohit   34      Tokyo   11\n",
      "e  Veena   31     London   10\n",
      "f  Shaun   36  Las Vegas   12\n",
      "---------------------------------------\n",
      "DataFrame-3\n",
      "   Name  Age      City  Exp\n",
      "g  Mark   47    Mumbai   13\n",
      "h  Jose   43  Yokohama   14\n",
      "i  Ramu   49     Paris   15\n",
      "---------------------------------------\n"
     ]
    }
   ],
   "source": [
    "import numpy as np\n",
    "import pandas as pd\n",
    "# List of Tuples\n",
    "data1= [('Jack', 34, 'Sydney', 5) ,\n",
    "        ('Riti', 31, 'Delhi' , 7) ,\n",
    "        ('Aadi', 46, 'New York', 11)]\n",
    "# List of Tuples\n",
    "data2= [('Mohit', 34, 'Tokyo', 11) ,\n",
    "        ('Veena', 31, 'London' , 10) ,\n",
    "        ('Shaun', 36, 'Las Vegas', 12)]\n",
    "# List of Tuples\n",
    "data3= [('Mark', 47, 'Mumbai',   13) ,\n",
    "        ('Jose', 43, 'Yokohama', 14) ,\n",
    "        ('Ramu', 49, 'Paris',    15)]\n",
    "#Convert data1 , data2 and data3 into DataFrame\n",
    "df1=pd.DataFrame(data1,index=[\"a\",\"b\",\"c\"],columns=[\"Name\",\"Age\",\"City\",\"Exp\"])\n",
    "df2=pd.DataFrame(data2,index=[\"d\",\"e\",\"f\"],columns=[\"Name\",\"Age\",\"City\",\"Exp\"])\n",
    "df3=pd.DataFrame(data3,index=[\"g\",\"h\",\"i\"],columns=[\"Name\",\"Age\",\"City\",\"Exp\"])\n",
    "print(\"---------------------------------------\")\n",
    "print(\"DataFrame-1\") \n",
    "print(df1)\n",
    "print(\"---------------------------------------\")\n",
    "print(\"DataFrame-2\") \n",
    "print(df2)\n",
    "print(\"---------------------------------------\")\n",
    "print(\"DataFrame-3\") \n",
    "print(df3)\n",
    "print(\"---------------------------------------\")"
   ]
  },
  {
   "cell_type": "code",
   "execution_count": 5,
   "id": "d521341d-69ae-4945-90f6-af85da49c1a4",
   "metadata": {},
   "outputs": [
    {
     "name": "stdout",
     "output_type": "stream",
     "text": [
      "    Name  Age       City  Exp\n",
      "a   Jack   34     Sydney    5\n",
      "b   Riti   31      Delhi    7\n",
      "c   Aadi   46   New York   11\n",
      "d  Mohit   34      Tokyo   11\n",
      "e  Veena   31     London   10\n",
      "f  Shaun   36  Las Vegas   12\n",
      "g   Mark   47     Mumbai   13\n",
      "h   Jose   43   Yokohama   14\n",
      "i   Ramu   49      Paris   15\n"
     ]
    }
   ],
   "source": [
    "xdf=pd.concat([df1,df2,df3])\n",
    "print(xdf)"
   ]
  },
  {
   "cell_type": "code",
   "execution_count": 7,
   "id": "1597bd83-d312-4e78-8d24-83821928db46",
   "metadata": {},
   "outputs": [
    {
     "name": "stdout",
     "output_type": "stream",
     "text": [
      "    Name  Age       City  Exp\n",
      "a   Jack   34     Sydney    5\n",
      "b   Riti   31      Delhi    7\n",
      "c   Aadi   46   New York   11\n",
      "d  Mohit   34      Tokyo   11\n",
      "e  Veena   31     London   10\n",
      "f  Shaun   36  Las Vegas   12\n",
      "g   Mark   47     Mumbai   13\n",
      "h   Jose   43   Yokohama   14\n",
      "i   Ramu   49      Paris   15\n"
     ]
    }
   ],
   "source": [
    "xdf=pd.concat([df1,df2,df3],axis=0)\n",
    "print(xdf)"
   ]
  },
  {
   "cell_type": "code",
   "execution_count": 9,
   "id": "cdafee33-fcd2-45c5-99e3-c57cd4d23052",
   "metadata": {},
   "outputs": [
    {
     "name": "stdout",
     "output_type": "stream",
     "text": [
      "   Name   Age      City   Exp   Name   Age       City   Exp  Name   Age  \\\n",
      "a  Jack  34.0    Sydney   5.0    NaN   NaN        NaN   NaN   NaN   NaN   \n",
      "b  Riti  31.0     Delhi   7.0    NaN   NaN        NaN   NaN   NaN   NaN   \n",
      "c  Aadi  46.0  New York  11.0    NaN   NaN        NaN   NaN   NaN   NaN   \n",
      "d   NaN   NaN       NaN   NaN  Mohit  34.0      Tokyo  11.0   NaN   NaN   \n",
      "e   NaN   NaN       NaN   NaN  Veena  31.0     London  10.0   NaN   NaN   \n",
      "f   NaN   NaN       NaN   NaN  Shaun  36.0  Las Vegas  12.0   NaN   NaN   \n",
      "g   NaN   NaN       NaN   NaN    NaN   NaN        NaN   NaN  Mark  47.0   \n",
      "h   NaN   NaN       NaN   NaN    NaN   NaN        NaN   NaN  Jose  43.0   \n",
      "i   NaN   NaN       NaN   NaN    NaN   NaN        NaN   NaN  Ramu  49.0   \n",
      "\n",
      "       City   Exp  \n",
      "a       NaN   NaN  \n",
      "b       NaN   NaN  \n",
      "c       NaN   NaN  \n",
      "d       NaN   NaN  \n",
      "e       NaN   NaN  \n",
      "f       NaN   NaN  \n",
      "g    Mumbai  13.0  \n",
      "h  Yokohama  14.0  \n",
      "i     Paris  15.0  \n"
     ]
    }
   ],
   "source": [
    "xdf=pd.concat([df1,df2,df3],axis=1)\n",
    "print(xdf)#it is not core"
   ]
  },
  {
   "cell_type": "code",
   "execution_count": null,
   "id": "3c1aacb1-028c-4489-b2ee-8d3e0734bda9",
   "metadata": {},
   "outputs": [],
   "source": []
  }
 ],
 "metadata": {
  "kernelspec": {
   "display_name": "Python [conda env:base] *",
   "language": "python",
   "name": "conda-base-py"
  },
  "language_info": {
   "codemirror_mode": {
    "name": "ipython",
    "version": 3
   },
   "file_extension": ".py",
   "mimetype": "text/x-python",
   "name": "python",
   "nbconvert_exporter": "python",
   "pygments_lexer": "ipython3",
   "version": "3.12.7"
  }
 },
 "nbformat": 4,
 "nbformat_minor": 5
}
