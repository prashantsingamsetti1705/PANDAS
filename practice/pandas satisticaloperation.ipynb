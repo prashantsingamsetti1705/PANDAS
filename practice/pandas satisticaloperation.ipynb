{
 "cells": [
  {
   "cell_type": "code",
   "execution_count": 1,
   "id": "15280c29-a388-48f9-bfc9-94ca6cb97170",
   "metadata": {},
   "outputs": [],
   "source": [
    "#there are the different opertion on the sat operation\n",
    "# ther are sum(),cum(),product(),cumprod(),mean(),median(),mode(),vrance(), describe()"
   ]
  },
  {
   "cell_type": "code",
   "execution_count": 3,
   "id": "c05df6db-369f-4ad9-ac48-6d4685958ebd",
   "metadata": {},
   "outputs": [
    {
     "name": "stdout",
     "output_type": "stream",
     "text": [
      "content of the s\n",
      "0    10\n",
      "1    20\n",
      "2    30\n",
      "3    40\n",
      "4    50\n",
      "5    70\n",
      "6    50\n",
      "7    60\n",
      "dtype: int64\n"
     ]
    }
   ],
   "source": [
    "import numpy as np\n",
    "import pandas as pd\n",
    "s=pd.Series([10,20,30,40,50,70,50,60])\n",
    "print(\"content of the s\")\n",
    "print(s)"
   ]
  },
  {
   "cell_type": "code",
   "execution_count": 11,
   "id": "549c9a3f-1318-40c2-b1be-17ed0f0a4d2b",
   "metadata": {},
   "outputs": [
    {
     "name": "stdout",
     "output_type": "stream",
     "text": [
      "content of the s\n",
      "0    10\n",
      "1    20\n",
      "2    30\n",
      "3    40\n",
      "4    50\n",
      "5    70\n",
      "6    50\n",
      "7    60\n",
      "dtype: int64\n",
      "count     8.000000\n",
      "mean     41.250000\n",
      "std      20.310096\n",
      "min      10.000000\n",
      "25%      27.500000\n",
      "50%      45.000000\n",
      "75%      52.500000\n",
      "max      70.000000\n",
      "dtype: float64\n"
     ]
    }
   ],
   "source": [
    "s=pd.Series([10,20,30,40,50,70,50,60])\n",
    "print(\"content of the s\")\n",
    "print(s)\n",
    "b=s.describe()#it will be give the mean,min,max,std,count\n",
    "print(b)"
   ]
  },
  {
   "cell_type": "code",
   "execution_count": 13,
   "id": "4aa2ab4f-b629-4f39-813c-cecd72e07e1e",
   "metadata": {},
   "outputs": [
    {
     "name": "stdout",
     "output_type": "stream",
     "text": [
      "content of the s\n",
      "0    10\n",
      "1    20\n",
      "2    30\n",
      "3    40\n",
      "4    50\n",
      "5    70\n",
      "6    50\n",
      "7    60\n",
      "dtype: int64\n",
      "41.25\n"
     ]
    }
   ],
   "source": [
    "s=pd.Series([10,20,30,40,50,70,50,60])\n",
    "print(\"content of the s\")\n",
    "print(s)\n",
    "b=s.describe()#it will be give the mean,min,max,std,count\n",
    "print(b)"
   ]
  },
  {
   "cell_type": "code",
   "execution_count": 17,
   "id": "110b3dd4-54e6-426c-bd24-172f3616a2b6",
   "metadata": {},
   "outputs": [
    {
     "name": "stdout",
     "output_type": "stream",
     "text": [
      "content of the s\n",
      "0    10\n",
      "1    20\n",
      "2    30\n",
      "3    40\n",
      "4    50\n",
      "5    70\n",
      "6    50\n",
      "7    60\n",
      "dtype: int64\n",
      "0    50\n",
      "dtype: int64\n"
     ]
    }
   ],
   "source": [
    "s=pd.Series([10,20,30,40,50,70,50,60])\n",
    "print(\"content of the s\")\n",
    "print(s)\n",
    "b=s.mode()#it will be give the mode()\n",
    "print(b)"
   ]
  },
  {
   "cell_type": "code",
   "execution_count": 19,
   "id": "c9b33d2c-c049-4ab6-9afb-c8eafc900c2e",
   "metadata": {},
   "outputs": [
    {
     "name": "stdout",
     "output_type": "stream",
     "text": [
      "content of the s\n",
      "0    10\n",
      "1    20\n",
      "2    30\n",
      "3    40\n",
      "4    50\n",
      "5    70\n",
      "6    50\n",
      "7    60\n",
      "dtype: int64\n",
      "412.5\n"
     ]
    }
   ],
   "source": [
    "s=pd.Series([10,20,30,40,50,70,50,60])\n",
    "print(\"content of the s\")\n",
    "print(s)\n",
    "b=s.var()#it will be give the var()\n",
    "print(b)"
   ]
  },
  {
   "cell_type": "code",
   "execution_count": 21,
   "id": "b632d471-eea9-4835-a375-5aeeb374d567",
   "metadata": {},
   "outputs": [
    {
     "name": "stdout",
     "output_type": "stream",
     "text": [
      "content of the s\n",
      "0    10\n",
      "1    20\n",
      "2    30\n",
      "3    40\n",
      "4    50\n",
      "5    70\n",
      "6    50\n",
      "7    60\n",
      "dtype: int64\n",
      "20.310096011589902\n"
     ]
    }
   ],
   "source": [
    "s=pd.Series([10,20,30,40,50,70,50,60])\n",
    "print(\"content of the s\")\n",
    "print(s)\n",
    "b=s.std()#it will be give the std()\n",
    "print(b)"
   ]
  },
  {
   "cell_type": "code",
   "execution_count": 23,
   "id": "6de9423d-ac3b-4d80-9146-b5d8c3a0d9cc",
   "metadata": {},
   "outputs": [
    {
     "name": "stdout",
     "output_type": "stream",
     "text": [
      "content of the s\n",
      "0    10\n",
      "1    20\n",
      "2    30\n",
      "3    40\n",
      "4    50\n",
      "5    70\n",
      "6    50\n",
      "7    60\n",
      "dtype: int64\n",
      "45.0\n"
     ]
    }
   ],
   "source": [
    "s=pd.Series([10,20,30,40,50,70,50,60])\n",
    "print(\"content of the s\")\n",
    "print(s)\n",
    "b=s.median()#it will be give the median()\n",
    "print(b)"
   ]
  },
  {
   "cell_type": "code",
   "execution_count": 27,
   "id": "26100a29-70fb-4a36-b37f-2639b2c2bca5",
   "metadata": {},
   "outputs": [
    {
     "name": "stdout",
     "output_type": "stream",
     "text": [
      "content of the s\n",
      "0    10\n",
      "1    20\n",
      "2    30\n",
      "3    40\n",
      "4    50\n",
      "dtype: int64\n",
      "the product of the values\n",
      "12000000\n"
     ]
    }
   ],
   "source": [
    "#now we are finding the product of the the value in the series\n",
    "import pandas as pd\n",
    "s=pd.Series([10,20,30,40,50])\n",
    "print(\"content of the s\")\n",
    "print(s)\n",
    "print(\"the product of the values\")\n",
    "b=s.product()\n",
    "print(b)"
   ]
  },
  {
   "cell_type": "code",
   "execution_count": 29,
   "id": "7f26cc28-17ee-4dfa-9e68-5108e45189bb",
   "metadata": {},
   "outputs": [
    {
     "name": "stdout",
     "output_type": "stream",
     "text": [
      "content of the s\n",
      "0    10\n",
      "1    20\n",
      "2    30\n",
      "3    40\n",
      "4    50\n",
      "dtype: int64\n",
      "the cumilative product of the values\n",
      "0          10\n",
      "1         200\n",
      "2        6000\n",
      "3      240000\n",
      "4    12000000\n",
      "dtype: int64\n"
     ]
    }
   ],
   "source": [
    "import pandas as pd\n",
    "s=pd.Series([10,20,30,40,50])\n",
    "print(\"content of the s\")\n",
    "print(s)\n",
    "print(\"the cumilative product of the values\")\n",
    "b=s.cumprod()\n",
    "print(b)"
   ]
  },
  {
   "cell_type": "code",
   "execution_count": 31,
   "id": "d646b423-91a4-44b5-ac0b-61787be9e802",
   "metadata": {},
   "outputs": [
    {
     "name": "stdout",
     "output_type": "stream",
     "text": [
      "content of the s\n",
      "0    10\n",
      "1    20\n",
      "2    30\n",
      "3    40\n",
      "4    50\n",
      "dtype: int64\n",
      "the sum of the values\n",
      "150\n"
     ]
    }
   ],
   "source": [
    "import pandas as pd\n",
    "s=pd.Series([10,20,30,40,50])\n",
    "print(\"content of the s\")\n",
    "print(s)\n",
    "print(\"the sum of the values\")\n",
    "b=s.sum()\n",
    "print(b)"
   ]
  },
  {
   "cell_type": "code",
   "execution_count": null,
   "id": "0279202d-be09-46bd-80ed-763f1ff0f969",
   "metadata": {},
   "outputs": [],
   "source": []
  }
 ],
 "metadata": {
  "kernelspec": {
   "display_name": "Python [conda env:base] *",
   "language": "python",
   "name": "conda-base-py"
  },
  "language_info": {
   "codemirror_mode": {
    "name": "ipython",
    "version": 3
   },
   "file_extension": ".py",
   "mimetype": "text/x-python",
   "name": "python",
   "nbconvert_exporter": "python",
   "pygments_lexer": "ipython3",
   "version": "3.12.7"
  }
 },
 "nbformat": 4,
 "nbformat_minor": 5
}
