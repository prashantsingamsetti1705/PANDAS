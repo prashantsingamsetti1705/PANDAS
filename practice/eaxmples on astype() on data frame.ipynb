{
 "cells": [
  {
   "cell_type": "code",
   "execution_count": 1,
   "id": "19b1ba57-2420-4a3c-8e89-405c0d02025b",
   "metadata": {},
   "outputs": [],
   "source": [
    "#data frame we are working with the astype()"
   ]
  },
  {
   "cell_type": "code",
   "execution_count": 19,
   "id": "28dea02d-ed47-4b84-a8bb-ac2e041295c4",
   "metadata": {},
   "outputs": [
    {
     "name": "stdout",
     "output_type": "stream",
     "text": [
      "{'fee': ['10,20,30,40'], 'discount': ['100,200,300,400']}\n"
     ]
    }
   ],
   "source": [
    "import pandas as pd\n",
    "import numpy as np\n",
    "a={'fee':[\"10,20,30,40\"],'discount':[\"100,200,300,400\"]}\n",
    "print(a)"
   ]
  },
  {
   "cell_type": "code",
   "execution_count": 47,
   "id": "3fb67c9b-5a96-4331-917f-6daaf232f599",
   "metadata": {},
   "outputs": [
    {
     "name": "stdout",
     "output_type": "stream",
     "text": [
      "     Fee Discount\n",
      "0  20000     1000\n",
      "1  25000     2300\n",
      "2  26000     1500\n"
     ]
    }
   ],
   "source": [
    "# Create DataFrame from Dictionary\n",
    "import numpy as np\n",
    "import pandas as pd\n",
    "technologies = {'Fee' :[\"20000\",\"25000\",\"26000\"],'Discount':[\"1000\",\"2300\",\"1500\"]  }\n",
    "df = pd.DataFrame(technologies)\n",
    "print(df)"
   ]
  },
  {
   "cell_type": "code",
   "execution_count": 49,
   "id": "01a564d5-85c5-4aba-9759-94bdda9ee18e",
   "metadata": {},
   "outputs": [
    {
     "data": {
      "text/html": [
       "<div>\n",
       "<style scoped>\n",
       "    .dataframe tbody tr th:only-of-type {\n",
       "        vertical-align: middle;\n",
       "    }\n",
       "\n",
       "    .dataframe tbody tr th {\n",
       "        vertical-align: top;\n",
       "    }\n",
       "\n",
       "    .dataframe thead th {\n",
       "        text-align: right;\n",
       "    }\n",
       "</style>\n",
       "<table border=\"1\" class=\"dataframe\">\n",
       "  <thead>\n",
       "    <tr style=\"text-align: right;\">\n",
       "      <th></th>\n",
       "      <th>Fee</th>\n",
       "      <th>Discount</th>\n",
       "    </tr>\n",
       "  </thead>\n",
       "  <tbody>\n",
       "    <tr>\n",
       "      <th>0</th>\n",
       "      <td>20000</td>\n",
       "      <td>1000</td>\n",
       "    </tr>\n",
       "    <tr>\n",
       "      <th>1</th>\n",
       "      <td>25000</td>\n",
       "      <td>2300</td>\n",
       "    </tr>\n",
       "    <tr>\n",
       "      <th>2</th>\n",
       "      <td>26000</td>\n",
       "      <td>1500</td>\n",
       "    </tr>\n",
       "  </tbody>\n",
       "</table>\n",
       "</div>"
      ],
      "text/plain": [
       "     Fee  Discount\n",
       "0  20000      1000\n",
       "1  25000      2300\n",
       "2  26000      1500"
      ]
     },
     "execution_count": 49,
     "metadata": {},
     "output_type": "execute_result"
    }
   ],
   "source": [
    "df.astype(np.int64)"
   ]
  },
  {
   "cell_type": "code",
   "execution_count": 51,
   "id": "e1ae800b-ee41-4931-b396-577588dd1016",
   "metadata": {},
   "outputs": [
    {
     "name": "stdout",
     "output_type": "stream",
     "text": [
      "     Fee Discount\n",
      "0  20000     1000\n",
      "1  25000     2300\n",
      "2  26000     1500\n"
     ]
    }
   ],
   "source": [
    "print(df)"
   ]
  },
  {
   "cell_type": "code",
   "execution_count": 53,
   "id": "c3c39387-fcd4-4af6-85ef-a2e115bf9c60",
   "metadata": {},
   "outputs": [
    {
     "name": "stdout",
     "output_type": "stream",
     "text": [
      "     Fee Discount\n",
      "0  20000     1000\n",
      "1  25000     2300\n",
      "2  26000     1500\n"
     ]
    },
    {
     "data": {
      "text/html": [
       "<div>\n",
       "<style scoped>\n",
       "    .dataframe tbody tr th:only-of-type {\n",
       "        vertical-align: middle;\n",
       "    }\n",
       "\n",
       "    .dataframe tbody tr th {\n",
       "        vertical-align: top;\n",
       "    }\n",
       "\n",
       "    .dataframe thead th {\n",
       "        text-align: right;\n",
       "    }\n",
       "</style>\n",
       "<table border=\"1\" class=\"dataframe\">\n",
       "  <thead>\n",
       "    <tr style=\"text-align: right;\">\n",
       "      <th></th>\n",
       "      <th>Fee</th>\n",
       "      <th>Discount</th>\n",
       "    </tr>\n",
       "  </thead>\n",
       "  <tbody>\n",
       "    <tr>\n",
       "      <th>0</th>\n",
       "      <td>20000.0</td>\n",
       "      <td>1000.0</td>\n",
       "    </tr>\n",
       "    <tr>\n",
       "      <th>1</th>\n",
       "      <td>25000.0</td>\n",
       "      <td>2300.0</td>\n",
       "    </tr>\n",
       "    <tr>\n",
       "      <th>2</th>\n",
       "      <td>26000.0</td>\n",
       "      <td>1500.0</td>\n",
       "    </tr>\n",
       "  </tbody>\n",
       "</table>\n",
       "</div>"
      ],
      "text/plain": [
       "       Fee  Discount\n",
       "0  20000.0    1000.0\n",
       "1  25000.0    2300.0\n",
       "2  26000.0    1500.0"
      ]
     },
     "execution_count": 53,
     "metadata": {},
     "output_type": "execute_result"
    }
   ],
   "source": [
    "# Create DataFrame from Dictionary\n",
    "import numpy as np\n",
    "import pandas as pd\n",
    "technologies = {'Fee' :[\"20000\",\"25000\",\"26000\"],'Discount':[\"1000\",\"2300\",\"1500\"]  }\n",
    "df = pd.DataFrame(technologies)\n",
    "print(df)\n",
    "df.astype(float)"
   ]
  },
  {
   "cell_type": "code",
   "execution_count": 55,
   "id": "20e9d971-ff33-4314-aa20-a559337b1937",
   "metadata": {},
   "outputs": [
    {
     "name": "stdout",
     "output_type": "stream",
     "text": [
      "     Fee Discount\n",
      "0  20000     1000\n",
      "1  25000     2300\n",
      "2  26000     1500\n"
     ]
    },
    {
     "data": {
      "text/html": [
       "<div>\n",
       "<style scoped>\n",
       "    .dataframe tbody tr th:only-of-type {\n",
       "        vertical-align: middle;\n",
       "    }\n",
       "\n",
       "    .dataframe tbody tr th {\n",
       "        vertical-align: top;\n",
       "    }\n",
       "\n",
       "    .dataframe thead th {\n",
       "        text-align: right;\n",
       "    }\n",
       "</style>\n",
       "<table border=\"1\" class=\"dataframe\">\n",
       "  <thead>\n",
       "    <tr style=\"text-align: right;\">\n",
       "      <th></th>\n",
       "      <th>Fee</th>\n",
       "      <th>Discount</th>\n",
       "    </tr>\n",
       "  </thead>\n",
       "  <tbody>\n",
       "    <tr>\n",
       "      <th>0</th>\n",
       "      <td>20000</td>\n",
       "      <td>1000</td>\n",
       "    </tr>\n",
       "    <tr>\n",
       "      <th>1</th>\n",
       "      <td>25000</td>\n",
       "      <td>2300</td>\n",
       "    </tr>\n",
       "    <tr>\n",
       "      <th>2</th>\n",
       "      <td>26000</td>\n",
       "      <td>1500</td>\n",
       "    </tr>\n",
       "  </tbody>\n",
       "</table>\n",
       "</div>"
      ],
      "text/plain": [
       "     Fee Discount\n",
       "0  20000     1000\n",
       "1  25000     2300\n",
       "2  26000     1500"
      ]
     },
     "execution_count": 55,
     "metadata": {},
     "output_type": "execute_result"
    }
   ],
   "source": [
    "# Create DataFrame from Dictionary\n",
    "import numpy as np\n",
    "import pandas as pd\n",
    "technologies = {'Fee' :[\"20000\",\"25000\",\"26000\"],'Discount':[\"1000\",\"2300\",\"1500\"]  }\n",
    "df = pd.DataFrame(technologies)\n",
    "print(df)\n",
    "df.astype('str')"
   ]
  },
  {
   "cell_type": "code",
   "execution_count": 57,
   "id": "652639ed-fe98-4d60-bfb1-8d22b999c50c",
   "metadata": {},
   "outputs": [
    {
     "name": "stdout",
     "output_type": "stream",
     "text": [
      "------------------------------------------\n",
      "   Courses    Fee Duration Discount\n",
      "0    Spark  20000    30day     1000\n",
      "1  PySpark  25000   40days     2300\n",
      "2   Hadoop  26000   35days     1500\n",
      "------------------------------------------\n",
      "Courses     object\n",
      "Fee         object\n",
      "Duration    object\n",
      "Discount    object\n",
      "dtype: object\n"
     ]
    }
   ],
   "source": [
    "technologies = {'Courses':[\"Spark\",\"PySpark\",\"Hadoop\"],\n",
    "    'Fee' :[\"20000\",\"25000\",\"26000\"],\n",
    "    'Duration':['30day','40days','35days'],\n",
    "    'Discount':[\"1000\",\"2300\",\"1500\"]\n",
    "              }\n",
    "df = pd.DataFrame(technologies)\n",
    "print(\"------------------------------------------\")\n",
    "print(df)\n",
    "print(\"------------------------------------------\")\n",
    "print(df.dtypes)"
   ]
  },
  {
   "cell_type": "code",
   "execution_count": 59,
   "id": "cc0539f8-0cec-43b8-89da-95d7a2d2a146",
   "metadata": {},
   "outputs": [
    {
     "data": {
      "text/html": [
       "<div>\n",
       "<style scoped>\n",
       "    .dataframe tbody tr th:only-of-type {\n",
       "        vertical-align: middle;\n",
       "    }\n",
       "\n",
       "    .dataframe tbody tr th {\n",
       "        vertical-align: top;\n",
       "    }\n",
       "\n",
       "    .dataframe thead th {\n",
       "        text-align: right;\n",
       "    }\n",
       "</style>\n",
       "<table border=\"1\" class=\"dataframe\">\n",
       "  <thead>\n",
       "    <tr style=\"text-align: right;\">\n",
       "      <th></th>\n",
       "      <th>Courses</th>\n",
       "      <th>Fee</th>\n",
       "      <th>Duration</th>\n",
       "      <th>Discount</th>\n",
       "    </tr>\n",
       "  </thead>\n",
       "  <tbody>\n",
       "    <tr>\n",
       "      <th>0</th>\n",
       "      <td>Spark</td>\n",
       "      <td>20000</td>\n",
       "      <td>30day</td>\n",
       "      <td>1000.0</td>\n",
       "    </tr>\n",
       "    <tr>\n",
       "      <th>1</th>\n",
       "      <td>PySpark</td>\n",
       "      <td>25000</td>\n",
       "      <td>40days</td>\n",
       "      <td>2300.0</td>\n",
       "    </tr>\n",
       "    <tr>\n",
       "      <th>2</th>\n",
       "      <td>Hadoop</td>\n",
       "      <td>26000</td>\n",
       "      <td>35days</td>\n",
       "      <td>1500.0</td>\n",
       "    </tr>\n",
       "  </tbody>\n",
       "</table>\n",
       "</div>"
      ],
      "text/plain": [
       "   Courses    Fee Duration  Discount\n",
       "0    Spark  20000    30day    1000.0\n",
       "1  PySpark  25000   40days    2300.0\n",
       "2   Hadoop  26000   35days    1500.0"
      ]
     },
     "execution_count": 59,
     "metadata": {},
     "output_type": "execute_result"
    }
   ],
   "source": [
    "df.astype({'Courses':'str','Fee':int,'Duration':'str','Discount':float})"
   ]
  },
  {
   "cell_type": "code",
   "execution_count": 63,
   "id": "22d6b6d5-48ec-473b-8d82-46f68156fe68",
   "metadata": {},
   "outputs": [
    {
     "data": {
      "text/plain": [
       "0      Spark\n",
       "1    PySpark\n",
       "2     Hadoop\n",
       "Name: Courses, dtype: object"
      ]
     },
     "execution_count": 63,
     "metadata": {},
     "output_type": "execute_result"
    }
   ],
   "source": [
    "s1=df.Courses.astype(int,errors='ignore')\n",
    "pr"
   ]
  },
  {
   "cell_type": "code",
   "execution_count": null,
   "id": "b05555a9-e4cc-4e06-91be-87ac10447b53",
   "metadata": {},
   "outputs": [],
   "source": []
  }
 ],
 "metadata": {
  "kernelspec": {
   "display_name": "Python [conda env:base] *",
   "language": "python",
   "name": "conda-base-py"
  },
  "language_info": {
   "codemirror_mode": {
    "name": "ipython",
    "version": 3
   },
   "file_extension": ".py",
   "mimetype": "text/x-python",
   "name": "python",
   "nbconvert_exporter": "python",
   "pygments_lexer": "ipython3",
   "version": "3.12.7"
  }
 },
 "nbformat": 4,
 "nbformat_minor": 5
}
