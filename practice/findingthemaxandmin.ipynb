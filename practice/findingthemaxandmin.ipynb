{
 "cells": [
  {
   "cell_type": "code",
   "execution_count": 9,
   "id": "efda6ee4-e4b7-4bfb-95da-d23689a036c7",
   "metadata": {},
   "outputs": [
    {
     "name": "stdout",
     "output_type": "stream",
     "text": [
      "the maxelemnt= 101\n"
     ]
    }
   ],
   "source": [
    "#write the python program of the max and min values\n",
    "import pandas as pd\n",
    "a=pd.Series([10,30,40,80,90,101])\n",
    "b=a.nlargest()\n",
    "print(\"the maxelemnt=\",b.values[0])"
   ]
  },
  {
   "cell_type": "code",
   "execution_count": 11,
   "id": "a0cea0d4-4680-4dc2-ad39-9dcbd018e8bf",
   "metadata": {},
   "outputs": [
    {
     "name": "stdout",
     "output_type": "stream",
     "text": [
      "5    101\n",
      "4     90\n",
      "3     80\n",
      "2     40\n",
      "1     30\n",
      "dtype: int64\n"
     ]
    }
   ],
   "source": [
    "#write the python program of the max and min values\n",
    "import pandas as pd\n",
    "a=pd.Series([10,30,40,80,90,101])\n",
    "b=a.nlargest()\n",
    "print(b)"
   ]
  },
  {
   "cell_type": "code",
   "execution_count": 13,
   "id": "93123431-b092-4546-9586-6678765f35bd",
   "metadata": {},
   "outputs": [
    {
     "name": "stdout",
     "output_type": "stream",
     "text": [
      "0    10\n",
      "1    30\n",
      "2    40\n",
      "3    80\n",
      "4    90\n",
      "dtype: int64\n"
     ]
    }
   ],
   "source": [
    "#write the python program of the max and min values\n",
    "import pandas as pd\n",
    "a=pd.Series([10,30,40,80,90,101])\n",
    "b=a.nsmallest()\n",
    "print(b)"
   ]
  },
  {
   "cell_type": "code",
   "execution_count": 21,
   "id": "83c15bd6-f34e-4df7-a1c8-d851caaf121a",
   "metadata": {},
   "outputs": [
    {
     "name": "stdout",
     "output_type": "stream",
     "text": [
      "smallest values= [10 30]\n"
     ]
    }
   ],
   "source": [
    "#write the python program of the max and min values\n",
    "import pandas as pd\n",
    "a=pd.Series([10,30,40,80,90,101])\n",
    "b=a.nsmallest()\n",
    "print(\"smallest values=\",b.values[0:2])"
   ]
  },
  {
   "cell_type": "code",
   "execution_count": 23,
   "id": "bd219a8b-b769-4531-b297-29f867a0a6b7",
   "metadata": {},
   "outputs": [
    {
     "name": "stdout",
     "output_type": "stream",
     "text": [
      "----------------------------------\n",
      "Original Series-1\n",
      "0     10\n",
      "1      2\n",
      "2     -3\n",
      "3     23\n",
      "4      5\n",
      "5      0\n",
      "6     12\n",
      "7     14\n",
      "8     34\n",
      "9     12\n",
      "10    11\n",
      "11     7\n",
      "12    16\n",
      "13     7\n",
      "14     1\n",
      "15     5\n",
      "16     3\n",
      "dtype: int64\n",
      "----------------------------------\n",
      "5 Max Element\n",
      "[34 23 16 14 12]\n"
     ]
    }
   ],
   "source": [
    "#Find Max Element by using seriesobj.nlargest(n)\n",
    "a=pd.Series([10,2,-3,23,5,0,12,14,34,12,11,7,16,7,1,5,3])\n",
    "print(\"----------------------------------\")\n",
    "print(\"Original Series-1\")\n",
    "print(a)\n",
    "print(\"----------------------------------\")\n",
    "maxv=a.nlargest() # By default It Gives 5 Largest Elements\n",
    "print(\"{} Max Element\\n{}\".format(maxv.size,maxv.values))"
   ]
  },
  {
   "cell_type": "code",
   "execution_count": 25,
   "id": "6c7ec7e1-bc61-412d-9f17-037c16a11635",
   "metadata": {},
   "outputs": [
    {
     "name": "stdout",
     "output_type": "stream",
     "text": [
      "----------------------------------\n",
      "Original Series-1\n",
      "0     10\n",
      "1      2\n",
      "2     -3\n",
      "3     23\n",
      "4      5\n",
      "5      0\n",
      "6     12\n",
      "7     14\n",
      "8     34\n",
      "9     12\n",
      "10    11\n",
      "11     7\n",
      "12    16\n",
      "13     7\n",
      "14     1\n",
      "15     5\n",
      "16     3\n",
      "dtype: int64\n",
      "----------------------------------\n",
      "5 Max Element\n",
      "[-3  0  1  2  3]\n"
     ]
    }
   ],
   "source": [
    "#Find Min Element by using seriesobj.nlargest(n)\n",
    "a=pd.Series([10,2,-3,23,5,0,12,14,34,12,11,7,16,7,1,5,3])\n",
    "print(\"----------------------------------\")\n",
    "print(\"Original Series-1\")\n",
    "print(a)\n",
    "print(\"----------------------------------\")\n",
    "minv=a.nsmallest() # By default It Gives 5 samllest Elements\n",
    "print(\"{} Max Element\\n{}\".format(minv.size,minv.values))"
   ]
  },
  {
   "cell_type": "code",
   "execution_count": 27,
   "id": "5c00596a-e5a5-4696-a096-4b1a6b291ce9",
   "metadata": {},
   "outputs": [
    {
     "name": "stdout",
     "output_type": "stream",
     "text": [
      "----------------------------------\n",
      "Original Series-1\n",
      "0     10\n",
      "1      2\n",
      "2     -3\n",
      "3     23\n",
      "4      5\n",
      "5      0\n",
      "6     12\n",
      "7     14\n",
      "8     34\n",
      "9     12\n",
      "10    11\n",
      "11     7\n",
      "12    16\n",
      "13     7\n",
      "14     1\n",
      "15     5\n",
      "16     3\n",
      "dtype: int64\n",
      "-3\n"
     ]
    }
   ],
   "source": [
    "#Find Min Element by using seriesobj.nlargest(n)\n",
    "a=pd.Series([10,2,-3,23,5,0,12,14,34,12,11,7,16,7,1,5,3])\n",
    "print(\"----------------------------------\")\n",
    "print(\"Original Series-1\")\n",
    "print(a)\n",
    "b=a.min()\n",
    "print(b)"
   ]
  },
  {
   "cell_type": "code",
   "execution_count": null,
   "id": "35b973ec-00fe-40b7-9e08-05d2344a8a3a",
   "metadata": {},
   "outputs": [],
   "source": [
    "#Find Max Element by using seriesobj.nlargest(n)\n",
    "a=pd.Series([10,2,-3,23,5,0,12,14,34,12,11,7,16,7,1,5,3])\n",
    "print(\"----------------------------------\")\n",
    "print(\"Original Series-1\")\n",
    "print(a)\n",
    "b=a.min()\n",
    "print(b)"
   ]
  }
 ],
 "metadata": {
  "kernelspec": {
   "display_name": "Python [conda env:base] *",
   "language": "python",
   "name": "conda-base-py"
  },
  "language_info": {
   "codemirror_mode": {
    "name": "ipython",
    "version": 3
   },
   "file_extension": ".py",
   "mimetype": "text/x-python",
   "name": "python",
   "nbconvert_exporter": "python",
   "pygments_lexer": "ipython3",
   "version": "3.12.7"
  }
 },
 "nbformat": 4,
 "nbformat_minor": 5
}
