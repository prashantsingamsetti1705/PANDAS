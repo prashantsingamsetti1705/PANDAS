{
 "cells": [
  {
   "cell_type": "code",
   "execution_count": 1,
   "id": "8ae54320-8ded-42c4-bb7a-8b3d0911e3d7",
   "metadata": {},
   "outputs": [
    {
     "name": "stdout",
     "output_type": "stream",
     "text": [
      "--------------------------------------------------------\n",
      "series-1\n",
      "a    100.0\n",
      "b    200.0\n",
      "c      NaN\n",
      "d    400.0\n",
      "e      NaN\n",
      "dtype: float64\n",
      "----------------------------------------------------------\n"
     ]
    }
   ],
   "source": [
    "import numpy as np \n",
    "import pandas as pd\n",
    "a=pd.Series([100,200,np.NaN,400,None],index=[\"a\",\"b\",\"c\",\"d\",\"e\"])\n",
    "print(\"--------------------------------------------------------\")\n",
    "print(\"series-1\")\n",
    "print(a)\n",
    "print(\"----------------------------------------------------------\")"
   ]
  },
  {
   "cell_type": "code",
   "execution_count": 9,
   "id": "f665acdf-6ec2-4f9d-9b2f-d10df535d16c",
   "metadata": {},
   "outputs": [
    {
     "name": "stdout",
     "output_type": "stream",
     "text": [
      "--------------------------------------------------------\n",
      "series-1\n",
      "the missing values are: 2\n",
      "----------------------------------------------------------\n"
     ]
    }
   ],
   "source": [
    "import numpy as np \n",
    "import pandas as pd\n",
    "a=pd.Series([100,200,np.NaN,400,None],index=[\"a\",\"b\",\"c\",\"d\",\"e\"])\n",
    "print(\"--------------------------------------------------------\")\n",
    "print(\"series-1\")\n",
    "print(\"the missing values are:\",a.isna().sum())\n",
    "print(\"----------------------------------------------------------\")"
   ]
  },
  {
   "cell_type": "code",
   "execution_count": 13,
   "id": "63c621fb-0fe8-4986-8aab-b16bdd0bae99",
   "metadata": {},
   "outputs": [
    {
     "name": "stdout",
     "output_type": "stream",
     "text": [
      "number of the missing valuess= (5, 3)\n"
     ]
    }
   ],
   "source": [
    "print(\"the total value and \",(a.size,a.count()))"
   ]
  },
  {
   "cell_type": "code",
   "execution_count": 15,
   "id": "0ec38d7c-a234-4812-a7d5-25a269624c97",
   "metadata": {},
   "outputs": [
    {
     "name": "stdout",
     "output_type": "stream",
     "text": [
      "number of the missing valuess= 2\n"
     ]
    }
   ],
   "source": [
    "print(\"number of the missing valuess=\",(a.size-a.count()))"
   ]
  },
  {
   "cell_type": "code",
   "execution_count": null,
   "id": "853895ce-3139-4065-9dad-ee4d5b12471d",
   "metadata": {},
   "outputs": [],
   "source": []
  }
 ],
 "metadata": {
  "kernelspec": {
   "display_name": "Python [conda env:base] *",
   "language": "python",
   "name": "conda-base-py"
  },
  "language_info": {
   "codemirror_mode": {
    "name": "ipython",
    "version": 3
   },
   "file_extension": ".py",
   "mimetype": "text/x-python",
   "name": "python",
   "nbconvert_exporter": "python",
   "pygments_lexer": "ipython3",
   "version": "3.12.7"
  }
 },
 "nbformat": 4,
 "nbformat_minor": 5
}
