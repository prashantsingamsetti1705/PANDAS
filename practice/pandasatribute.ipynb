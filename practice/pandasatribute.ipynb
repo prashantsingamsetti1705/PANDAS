{
 "cells": [
  {
   "cell_type": "code",
   "execution_count": 1,
   "id": "aa94f739-8152-444c-8c4a-3e063783a9ea",
   "metadata": {},
   "outputs": [],
   "source": [
    "#in pandas here we are 7 attribute they are\n",
    "#name\n",
    "#values\n",
    "#size\n",
    "#empty\n",
    "#firts lement--->indices and label\n",
    "#last element--->indices and label\n",
    "'''subet set of the index/label or slicing'''\n",
    "'''subet set of the random index/label or slicing'''\n",
    "#satter and getter"
   ]
  },
  {
   "cell_type": "code",
   "execution_count": 5,
   "id": "59bf4931-0f1c-487e-8bf7-c101d05716a8",
   "metadata": {},
   "outputs": [
    {
     "name": "stdout",
     "output_type": "stream",
     "text": [
      "0    10\n",
      "1    20\n",
      "2    30\n",
      "3    40\n",
      "4    50\n",
      "5    60\n",
      "dtype: int32\n"
     ]
    }
   ],
   "source": [
    "import numpy as np\n",
    "import pandas as pd\n",
    "a=np.array([10,20,30,40,50,60])\n",
    "s=pd.Series(a)\n",
    "print(s)"
   ]
  },
  {
   "cell_type": "code",
   "execution_count": 7,
   "id": "e5cd6a6d-3720-41b3-9be2-bbe386e5b8d1",
   "metadata": {},
   "outputs": [
    {
     "name": "stdout",
     "output_type": "stream",
     "text": [
      "1    10.0\n",
      "2    20.0\n",
      "3    30.0\n",
      "4    40.0\n",
      "5    50.0\n",
      "6    60.0\n",
      "dtype: float64\n"
     ]
    }
   ],
   "source": [
    "import numpy as np\n",
    "import pandas as pd\n",
    "a=np.array([10,20,30,40,50,60])\n",
    "s=pd.Series(a,[1,2,3,4,5,6],dtype=float)\n",
    "print(s)"
   ]
  },
  {
   "cell_type": "raw",
   "id": "300fa5b3-4041-4982-8dea-21951ebb0fcc",
   "metadata": {},
   "source": []
  },
  {
   "cell_type": "code",
   "execution_count": 9,
   "id": "342e00fc-4688-4687-a695-ae3459eb4310",
   "metadata": {},
   "outputs": [
    {
     "data": {
      "text/plain": [
       "10.0"
      ]
     },
     "execution_count": 9,
     "metadata": {},
     "output_type": "execute_result"
    }
   ],
   "source": [
    "s[1]"
   ]
  },
  {
   "cell_type": "code",
   "execution_count": 11,
   "id": "41b513e3-df17-4285-b9d1-4846af17a4eb",
   "metadata": {},
   "outputs": [
    {
     "ename": "KeyError",
     "evalue": "-1",
     "output_type": "error",
     "traceback": [
      "\u001b[1;31m---------------------------------------------------------------------------\u001b[0m",
      "\u001b[1;31mKeyError\u001b[0m                                  Traceback (most recent call last)",
      "File \u001b[1;32m~\\anaconda3\\Lib\\site-packages\\pandas\\core\\indexes\\base.py:3805\u001b[0m, in \u001b[0;36mIndex.get_loc\u001b[1;34m(self, key)\u001b[0m\n\u001b[0;32m   3804\u001b[0m \u001b[38;5;28;01mtry\u001b[39;00m:\n\u001b[1;32m-> 3805\u001b[0m     \u001b[38;5;28;01mreturn\u001b[39;00m \u001b[38;5;28mself\u001b[39m\u001b[38;5;241m.\u001b[39m_engine\u001b[38;5;241m.\u001b[39mget_loc(casted_key)\n\u001b[0;32m   3806\u001b[0m \u001b[38;5;28;01mexcept\u001b[39;00m \u001b[38;5;167;01mKeyError\u001b[39;00m \u001b[38;5;28;01mas\u001b[39;00m err:\n",
      "File \u001b[1;32mindex.pyx:167\u001b[0m, in \u001b[0;36mpandas._libs.index.IndexEngine.get_loc\u001b[1;34m()\u001b[0m\n",
      "File \u001b[1;32mindex.pyx:196\u001b[0m, in \u001b[0;36mpandas._libs.index.IndexEngine.get_loc\u001b[1;34m()\u001b[0m\n",
      "File \u001b[1;32mpandas\\\\_libs\\\\hashtable_class_helper.pxi:2606\u001b[0m, in \u001b[0;36mpandas._libs.hashtable.Int64HashTable.get_item\u001b[1;34m()\u001b[0m\n",
      "File \u001b[1;32mpandas\\\\_libs\\\\hashtable_class_helper.pxi:2630\u001b[0m, in \u001b[0;36mpandas._libs.hashtable.Int64HashTable.get_item\u001b[1;34m()\u001b[0m\n",
      "\u001b[1;31mKeyError\u001b[0m: -1",
      "\nThe above exception was the direct cause of the following exception:\n",
      "\u001b[1;31mKeyError\u001b[0m                                  Traceback (most recent call last)",
      "Cell \u001b[1;32mIn[11], line 1\u001b[0m\n\u001b[1;32m----> 1\u001b[0m s[\u001b[38;5;241m-\u001b[39m\u001b[38;5;241m1\u001b[39m]\n",
      "File \u001b[1;32m~\\anaconda3\\Lib\\site-packages\\pandas\\core\\series.py:1121\u001b[0m, in \u001b[0;36mSeries.__getitem__\u001b[1;34m(self, key)\u001b[0m\n\u001b[0;32m   1118\u001b[0m     \u001b[38;5;28;01mreturn\u001b[39;00m \u001b[38;5;28mself\u001b[39m\u001b[38;5;241m.\u001b[39m_values[key]\n\u001b[0;32m   1120\u001b[0m \u001b[38;5;28;01melif\u001b[39;00m key_is_scalar:\n\u001b[1;32m-> 1121\u001b[0m     \u001b[38;5;28;01mreturn\u001b[39;00m \u001b[38;5;28mself\u001b[39m\u001b[38;5;241m.\u001b[39m_get_value(key)\n\u001b[0;32m   1123\u001b[0m \u001b[38;5;66;03m# Convert generator to list before going through hashable part\u001b[39;00m\n\u001b[0;32m   1124\u001b[0m \u001b[38;5;66;03m# (We will iterate through the generator there to check for slices)\u001b[39;00m\n\u001b[0;32m   1125\u001b[0m \u001b[38;5;28;01mif\u001b[39;00m is_iterator(key):\n",
      "File \u001b[1;32m~\\anaconda3\\Lib\\site-packages\\pandas\\core\\series.py:1237\u001b[0m, in \u001b[0;36mSeries._get_value\u001b[1;34m(self, label, takeable)\u001b[0m\n\u001b[0;32m   1234\u001b[0m     \u001b[38;5;28;01mreturn\u001b[39;00m \u001b[38;5;28mself\u001b[39m\u001b[38;5;241m.\u001b[39m_values[label]\n\u001b[0;32m   1236\u001b[0m \u001b[38;5;66;03m# Similar to Index.get_value, but we do not fall back to positional\u001b[39;00m\n\u001b[1;32m-> 1237\u001b[0m loc \u001b[38;5;241m=\u001b[39m \u001b[38;5;28mself\u001b[39m\u001b[38;5;241m.\u001b[39mindex\u001b[38;5;241m.\u001b[39mget_loc(label)\n\u001b[0;32m   1239\u001b[0m \u001b[38;5;28;01mif\u001b[39;00m is_integer(loc):\n\u001b[0;32m   1240\u001b[0m     \u001b[38;5;28;01mreturn\u001b[39;00m \u001b[38;5;28mself\u001b[39m\u001b[38;5;241m.\u001b[39m_values[loc]\n",
      "File \u001b[1;32m~\\anaconda3\\Lib\\site-packages\\pandas\\core\\indexes\\base.py:3812\u001b[0m, in \u001b[0;36mIndex.get_loc\u001b[1;34m(self, key)\u001b[0m\n\u001b[0;32m   3807\u001b[0m     \u001b[38;5;28;01mif\u001b[39;00m \u001b[38;5;28misinstance\u001b[39m(casted_key, \u001b[38;5;28mslice\u001b[39m) \u001b[38;5;129;01mor\u001b[39;00m (\n\u001b[0;32m   3808\u001b[0m         \u001b[38;5;28misinstance\u001b[39m(casted_key, abc\u001b[38;5;241m.\u001b[39mIterable)\n\u001b[0;32m   3809\u001b[0m         \u001b[38;5;129;01mand\u001b[39;00m \u001b[38;5;28many\u001b[39m(\u001b[38;5;28misinstance\u001b[39m(x, \u001b[38;5;28mslice\u001b[39m) \u001b[38;5;28;01mfor\u001b[39;00m x \u001b[38;5;129;01min\u001b[39;00m casted_key)\n\u001b[0;32m   3810\u001b[0m     ):\n\u001b[0;32m   3811\u001b[0m         \u001b[38;5;28;01mraise\u001b[39;00m InvalidIndexError(key)\n\u001b[1;32m-> 3812\u001b[0m     \u001b[38;5;28;01mraise\u001b[39;00m \u001b[38;5;167;01mKeyError\u001b[39;00m(key) \u001b[38;5;28;01mfrom\u001b[39;00m \u001b[38;5;21;01merr\u001b[39;00m\n\u001b[0;32m   3813\u001b[0m \u001b[38;5;28;01mexcept\u001b[39;00m \u001b[38;5;167;01mTypeError\u001b[39;00m:\n\u001b[0;32m   3814\u001b[0m     \u001b[38;5;66;03m# If we have a listlike key, _check_indexing_error will raise\u001b[39;00m\n\u001b[0;32m   3815\u001b[0m     \u001b[38;5;66;03m#  InvalidIndexError. Otherwise we fall through and re-raise\u001b[39;00m\n\u001b[0;32m   3816\u001b[0m     \u001b[38;5;66;03m#  the TypeError.\u001b[39;00m\n\u001b[0;32m   3817\u001b[0m     \u001b[38;5;28mself\u001b[39m\u001b[38;5;241m.\u001b[39m_check_indexing_error(key)\n",
      "\u001b[1;31mKeyError\u001b[0m: -1"
     ]
    }
   ],
   "source": [
    "s[-1]#here we get the key error"
   ]
  },
  {
   "cell_type": "code",
   "execution_count": 13,
   "id": "527e8244-68fa-42ce-a899-18fd497ed392",
   "metadata": {},
   "outputs": [
    {
     "name": "stdout",
     "output_type": "stream",
     "text": [
      "1    10.0\n",
      "2    20.0\n",
      "3    30.0\n",
      "4    40.0\n",
      "5    50.0\n",
      "6    60.0\n",
      "Name: prash, dtype: float64\n"
     ]
    }
   ],
   "source": [
    "import numpy as np\n",
    "import pandas as pd\n",
    "a=np.array([10,20,30,40,50,60])\n",
    "s=pd.Series(a,[1,2,3,4,5,6],name=\"prash\",dtype=float)\n",
    "print(s)"
   ]
  },
  {
   "cell_type": "code",
   "execution_count": 15,
   "id": "e803b565-e588-4a34-8226-365fcf222586",
   "metadata": {},
   "outputs": [
    {
     "data": {
      "text/plain": [
       "'prash'"
      ]
     },
     "execution_count": 15,
     "metadata": {},
     "output_type": "execute_result"
    }
   ],
   "source": [
    "s.name#here name is the attribute in pandas"
   ]
  },
  {
   "cell_type": "code",
   "execution_count": 19,
   "id": "38bce9c5-cdcf-4475-97f1-6621857e0b60",
   "metadata": {},
   "outputs": [
    {
     "name": "stdout",
     "output_type": "stream",
     "text": [
      "1    10.0\n",
      "2    20.0\n",
      "3    30.0\n",
      "4    40.0\n",
      "5    50.0\n",
      "6    60.0\n",
      "dtype: float64\n",
      "the values of the a\n",
      "[10. 20. 30. 40. 50. 60.]\n"
     ]
    }
   ],
   "source": [
    "import numpy as np\n",
    "import pandas as pd\n",
    "a=np.array([10,20,30,40,50,60])\n",
    "s=pd.Series(a,[1,2,3,4,5,6],dtype=float)\n",
    "print(s)\n",
    "print(\"the values of the a\")\n",
    "b=s.values#here values is the attribute\n",
    "print(b)"
   ]
  },
  {
   "cell_type": "code",
   "execution_count": 21,
   "id": "2fe4622d-586d-49d3-864d-d9603850b07d",
   "metadata": {},
   "outputs": [
    {
     "name": "stdout",
     "output_type": "stream",
     "text": [
      "1    10.0\n",
      "2    20.0\n",
      "3    30.0\n",
      "4    40.0\n",
      "5    50.0\n",
      "6    60.0\n",
      "dtype: float64\n",
      "the size of the a\n",
      "6\n"
     ]
    }
   ],
   "source": [
    "import numpy as np\n",
    "import pandas as pd\n",
    "a=np.array([10,20,30,40,50,60])\n",
    "s=pd.Series(a,[1,2,3,4,5,6],dtype=float)\n",
    "print(s) \n",
    "print(\"the size of the a\")\n",
    "b=s.size#size we finding out\n",
    "print(b)"
   ]
  },
  {
   "cell_type": "code",
   "execution_count": 37,
   "id": "01d71a78-3bb0-459c-abf2-047f3a8b8e9e",
   "metadata": {},
   "outputs": [
    {
     "name": "stdout",
     "output_type": "stream",
     "text": [
      "0    10.0\n",
      "1    20.0\n",
      "2    30.0\n",
      "3     NaN\n",
      "4    40.0\n",
      "5    60.0\n",
      "dtype: float64\n",
      "the size of the a\n",
      "the given a is empy or notFalse\n"
     ]
    }
   ],
   "source": [
    "import pandas as pd\n",
    "a=[10,20,30,None,40,60]\n",
    "s=pd.Series(a,dtype=float)\n",
    "print(s) \n",
    "print(\"the size of the a\")\n",
    "b=s.empty#size we finding out\n",
    "print(\"the given a is empy{}\".format(b))"
   ]
  },
  {
   "cell_type": "code",
   "execution_count": 39,
   "id": "a588284e-156b-439c-998e-75ac8a8e6e2f",
   "metadata": {},
   "outputs": [
    {
     "name": "stdout",
     "output_type": "stream",
     "text": [
      "Series([], dtype: object)\n",
      "the given a is empyTrue\n"
     ]
    }
   ],
   "source": [
    "import pandas as pd\n",
    "s=pd.Series()\n",
    "print(s) \n",
    "b=s.empty#size we finding out\n",
    "print(\"the given a is empy{}\".format(b))"
   ]
  },
  {
   "cell_type": "code",
   "execution_count": 43,
   "id": "5b3671f6-d499-4284-b74b-d001fcfd8835",
   "metadata": {},
   "outputs": [
    {
     "name": "stdout",
     "output_type": "stream",
     "text": [
      "name         10\n",
      "name1      anil\n",
      "name2    python\n",
      "name3      30.0\n",
      "name4       hyd\n",
      "dtype: object\n"
     ]
    }
   ],
   "source": [
    "import pandas as pd\n",
    "a=[10,\"anil\",\"python\",30.0,\"hyd\"]\n",
    "s=pd.Series(a,[\"name\",\"name1\",\"name2\",\"name3\",\"name4\"])\n",
    "print(s)"
   ]
  },
  {
   "cell_type": "code",
   "execution_count": 45,
   "id": "4943f783-78f7-4ab6-98e3-8514283fb94a",
   "metadata": {},
   "outputs": [
    {
     "name": "stderr",
     "output_type": "stream",
     "text": [
      "C:\\Users\\prash\\AppData\\Local\\Temp\\ipykernel_21648\\878419959.py:1: FutureWarning: Series.__getitem__ treating keys as positions is deprecated. In a future version, integer keys will always be treated as labels (consistent with DataFrame behavior). To access a value by position, use `ser.iloc[pos]`\n",
      "  s[1]\n"
     ]
    },
    {
     "data": {
      "text/plain": [
       "'anil'"
      ]
     },
     "execution_count": 45,
     "metadata": {},
     "output_type": "execute_result"
    }
   ],
   "source": [
    "s[1]"
   ]
  },
  {
   "cell_type": "code",
   "execution_count": 49,
   "id": "835d2085-db6c-427d-aa51-bf82a78c4a58",
   "metadata": {},
   "outputs": [
    {
     "data": {
      "text/plain": [
       "10"
      ]
     },
     "execution_count": 49,
     "metadata": {},
     "output_type": "execute_result"
    }
   ],
   "source": [
    "s[\"name\"]"
   ]
  },
  {
   "cell_type": "code",
   "execution_count": 55,
   "id": "a09ab5da-ed3f-4b7a-bc46-db34fbddd68d",
   "metadata": {},
   "outputs": [
    {
     "name": "stdout",
     "output_type": "stream",
     "text": [
      "111     10\n",
      "222     20\n",
      "333     30\n",
      "444     40\n",
      "555     50\n",
      "666     60\n",
      "777     70\n",
      "888     80\n",
      "999     90\n",
      "0      100\n",
      "dtype: int64\n"
     ]
    }
   ],
   "source": [
    "import pandas as pd\n",
    "a=[10,20,30,40,50,60,70,80,90,100]\n",
    "s=pd.Series(a,[111,222,333,444,555,666,777,888,999,000])\n",
    "print(s)"
   ]
  },
  {
   "cell_type": "code",
   "execution_count": 65,
   "id": "f71f53d5-61fe-4a2b-b40c-23b7b551746d",
   "metadata": {},
   "outputs": [],
   "source": [
    "#now we are selceting the first element and replacing the values\n",
    "s[111]=100"
   ]
  },
  {
   "cell_type": "code",
   "execution_count": 67,
   "id": "9ab65347-7c70-451f-a0ff-da214ab85807",
   "metadata": {},
   "outputs": [
    {
     "name": "stdout",
     "output_type": "stream",
     "text": [
      "111    100\n",
      "222     20\n",
      "333     30\n",
      "444     40\n",
      "555     50\n",
      "666     60\n",
      "777     70\n",
      "888     80\n",
      "999     90\n",
      "0      100\n",
      "dtype: object\n"
     ]
    }
   ],
   "source": [
    "print(s)"
   ]
  },
  {
   "cell_type": "code",
   "execution_count": 81,
   "id": "5160128b-656d-402c-9c4d-4e505d69c962",
   "metadata": {},
   "outputs": [
    {
     "name": "stdout",
     "output_type": "stream",
     "text": [
      "222     20\n",
      "444     40\n",
      "666     60\n",
      "888     80\n",
      "0      100\n",
      "dtype: object\n"
     ]
    }
   ],
   "source": [
    "a=s[1::2]\n",
    "print(a)"
   ]
  },
  {
   "cell_type": "code",
   "execution_count": 83,
   "id": "9e45681f-5c7e-4488-a495-38f86afcbbdb",
   "metadata": {},
   "outputs": [
    {
     "name": "stdout",
     "output_type": "stream",
     "text": [
      "name1      10\n",
      "name2      20\n",
      "name3      30\n",
      "name4      40\n",
      "name5      50\n",
      "name6      60\n",
      "name7      70\n",
      "name8      80\n",
      "name9      90\n",
      "name10    100\n",
      "dtype: int64\n"
     ]
    }
   ],
   "source": [
    "import pandas as pd\n",
    "a=[10,20,30,40,50,60,70,80,90,100]\n",
    "s=pd.Series(a,[\"name1\",\"name2\",\"name3\",\"name4\",\"name5\",\"name6\",\"name7\",\"name8\",\"name9\",\"name10\"])\n",
    "print(s)"
   ]
  },
  {
   "cell_type": "code",
   "execution_count": 85,
   "id": "03bbc235-8606-425f-835c-fa32d869bafb",
   "metadata": {},
   "outputs": [
    {
     "data": {
      "text/plain": [
       "name1      10\n",
       "name2      20\n",
       "name3      30\n",
       "name4      40\n",
       "name5      50\n",
       "name6      60\n",
       "name7      70\n",
       "name8      80\n",
       "name9      90\n",
       "name10    100\n",
       "dtype: int64"
      ]
     },
     "execution_count": 85,
     "metadata": {},
     "output_type": "execute_result"
    }
   ],
   "source": [
    "s[\"name1\":]"
   ]
  },
  {
   "cell_type": "code",
   "execution_count": 87,
   "id": "93a2bc90-fd3d-4e1a-bd34-7685379ef9d4",
   "metadata": {},
   "outputs": [
    {
     "data": {
      "text/plain": [
       "name1    10\n",
       "name2    20\n",
       "name3    30\n",
       "name4    40\n",
       "name5    50\n",
       "dtype: int64"
      ]
     },
     "execution_count": 87,
     "metadata": {},
     "output_type": "execute_result"
    }
   ],
   "source": [
    "s[\"name1\":\"name5\"]"
   ]
  },
  {
   "cell_type": "code",
   "execution_count": 89,
   "id": "ef240c49-507e-4684-849f-9025ddf67616",
   "metadata": {},
   "outputs": [
    {
     "name": "stdout",
     "output_type": "stream",
     "text": [
      "name1      12\n",
      "name2      20\n",
      "name3      30\n",
      "name4      40\n",
      "name5      50\n",
      "name6      60\n",
      "name7      70\n",
      "name8      80\n",
      "name9      90\n",
      "name10    100\n",
      "dtype: int64\n"
     ]
    }
   ],
   "source": [
    "s[\"name1\"]=12\n",
    "print(s)"
   ]
  },
  {
   "cell_type": "code",
   "execution_count": 91,
   "id": "f20cc9be-3877-41ad-8893-851d2abc3242",
   "metadata": {},
   "outputs": [
    {
     "name": "stdout",
     "output_type": "stream",
     "text": [
      "Series Object Data\n",
      "0    Rossum\n",
      "1    Travis\n",
      "2    Ritche\n",
      "3    Dennis\n",
      "4    Hunter\n",
      "5     James\n",
      "6      Jhon\n",
      "dtype: object\n"
     ]
    }
   ],
   "source": [
    "import numpy as np\n",
    "import pandas as pd\n",
    "lst=[\"Rossum\",\"Travis\",\"Ritche\",\"Dennis\",\"Hunter\",\"James\",\"Jhon\"]\n",
    "s=pd.Series(lst)\n",
    "print(\"Series Object Data\")\n",
    "print(s)"
   ]
  },
  {
   "cell_type": "code",
   "execution_count": 95,
   "id": "491b9899-7ec5-43ad-be24-b7ed00b6d70e",
   "metadata": {},
   "outputs": [
    {
     "data": {
      "text/plain": [
       "1    Travis\n",
       "5     James\n",
       "6      Jhon\n",
       "dtype: object"
      ]
     },
     "execution_count": 95,
     "metadata": {},
     "output_type": "execute_result"
    }
   ],
   "source": [
    "#random elements\n",
    "s[[1,5,6]]"
   ]
  },
  {
   "cell_type": "code",
   "execution_count": 97,
   "id": "e23203e3-7b8e-49b2-ad76-f2880defd88b",
   "metadata": {},
   "outputs": [],
   "source": [
    "s[[1,5,6]]=[\"sl1\",\"sl2\",\"sl3\"]"
   ]
  },
  {
   "cell_type": "code",
   "execution_count": 99,
   "id": "8c3925ea-ad9b-46a5-ae70-956b35f1f7cd",
   "metadata": {},
   "outputs": [
    {
     "name": "stdout",
     "output_type": "stream",
     "text": [
      "0    Rossum\n",
      "1       sl1\n",
      "2    Ritche\n",
      "3    Dennis\n",
      "4    Hunter\n",
      "5       sl2\n",
      "6       sl3\n",
      "dtype: object\n"
     ]
    }
   ],
   "source": [
    "print(s)"
   ]
  },
  {
   "cell_type": "code",
   "execution_count": null,
   "id": "c730f1d2-e277-4f30-b719-db3c1b5f9c01",
   "metadata": {},
   "outputs": [],
   "source": []
  }
 ],
 "metadata": {
  "kernelspec": {
   "display_name": "Python [conda env:base] *",
   "language": "python",
   "name": "conda-base-py"
  },
  "language_info": {
   "codemirror_mode": {
    "name": "ipython",
    "version": 3
   },
   "file_extension": ".py",
   "mimetype": "text/x-python",
   "name": "python",
   "nbconvert_exporter": "python",
   "pygments_lexer": "ipython3",
   "version": "3.12.7"
  }
 },
 "nbformat": 4,
 "nbformat_minor": 5
}
