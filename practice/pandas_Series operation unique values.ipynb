{
 "cells": [
  {
   "cell_type": "code",
   "execution_count": 3,
   "id": "289c0f12-1691-4379-bead-a524407d56c9",
   "metadata": {},
   "outputs": [
    {
     "name": "stdout",
     "output_type": "stream",
     "text": [
      "the berofre uniue values\n",
      "0    10\n",
      "1    20\n",
      "2    30\n",
      "3    10\n",
      "4    40\n",
      "5    50\n",
      "6    60\n",
      "7    30\n",
      "dtype: int64\n",
      "the after uniue values\n",
      "[10 20 30 40 50 60]\n"
     ]
    }
   ],
   "source": [
    "#the uniuq values on the pandas on the series concept\n",
    "import pandas as pd\n",
    "a=pd.Series([10,20,30,10,40,50,60,30])\n",
    "print(\"the berofre uniue values\")\n",
    "print(a)\n",
    "print(\"the after uniue values\")\n",
    "b=a.unique()\n",
    "print(b)"
   ]
  },
  {
   "cell_type": "code",
   "execution_count": 9,
   "id": "44350f97-4f4a-4b14-92f1-4afb2ea7f23a",
   "metadata": {},
   "outputs": [
    {
     "name": "stdout",
     "output_type": "stream",
     "text": [
      "the berofre uniue values\n",
      "0    10\n",
      "1    20\n",
      "2    30\n",
      "3    10\n",
      "4    40\n",
      "5    50\n",
      "6    60\n",
      "7    30\n",
      "dtype: int64\n",
      "the after uniue values\n",
      "the total number of the n uniue values 6\n"
     ]
    }
   ],
   "source": [
    "#the uniuq values on the pandas on the series concept\n",
    "import pandas as pd\n",
    "a=pd.Series([10,20,30,10,40,50,60,30])\n",
    "print(\"the berofre uniue values\")\n",
    "print(a)\n",
    "print(\"the after uniue values\")\n",
    "b=a.nunique()\n",
    "print(\"the total number of the n uniue values\",b)"
   ]
  },
  {
   "cell_type": "code",
   "execution_count": 21,
   "id": "e8927f05-8b53-4439-9e36-8dc9692d45de",
   "metadata": {},
   "outputs": [
    {
     "name": "stdout",
     "output_type": "stream",
     "text": [
      "the berofre uniue values\n",
      "0    10\n",
      "1    20\n",
      "2    30\n",
      "3    10\n",
      "4    40\n",
      "5    50\n",
      "6    60\n",
      "7    30\n",
      "dtype: int64\n",
      "the after uniue values\n",
      "the total number of the n uniue values 10    2\n",
      "30    2\n",
      "20    1\n",
      "40    1\n",
      "50    1\n",
      "60    1\n",
      "Name: count, dtype: int64\n"
     ]
    }
   ],
   "source": [
    "#the uniuq values on the pandas on the series concept\n",
    "import pandas as pd\n",
    "a=pd.Series([10,20,30,10,40,50,60,30])\n",
    "print(\"the berofre uniue values\")\n",
    "print(a)\n",
    "print(\"the after uniue values\")\n",
    "b=a.value_counts()\n",
    "print(\"the total number of the n uniue values\",b)"
   ]
  },
  {
   "cell_type": "code",
   "execution_count": 23,
   "id": "1aa51e91-e165-49d8-a85a-12dcba236955",
   "metadata": {},
   "outputs": [
    {
     "name": "stdout",
     "output_type": "stream",
     "text": [
      "0    10\n",
      "1    20\n",
      "2    30\n",
      "3    40\n",
      "4    10\n",
      "5    20\n",
      "6    40\n",
      "7    10\n",
      "8    50\n",
      "9    60\n",
      "dtype: int64\n"
     ]
    }
   ],
   "source": [
    "s=pd.Series([10,20,30,40,10,20,40,10,50,60])\n",
    "print(s)"
   ]
  },
  {
   "cell_type": "code",
   "execution_count": 31,
   "id": "bc841950-9840-4c0b-97b8-dbb0bb8cea46",
   "metadata": {},
   "outputs": [
    {
     "name": "stdout",
     "output_type": "stream",
     "text": [
      "---------------------------------\n",
      "\t10\t3\n",
      "\t20\t2\n",
      "\t30\t1\n",
      "\t40\t2\n",
      "\t50\t1\n",
      "\t60\t1\n",
      "---------------------------------\n"
     ]
    }
   ],
   "source": [
    "dictobj={}\n",
    "for val in s:\n",
    "    if val not in dictobj: \n",
    "        dictobj[val]=1\n",
    "    else:\n",
    "        dictobj[val]=dictobj.get(val)+1\n",
    "print(\"---------------------------------\")\n",
    "for key,val in dictobj.items():\n",
    "    print(\"\\t{}\\t{}\".format(key,val))\n",
    "print(\"---------------------------------\")"
   ]
  },
  {
   "cell_type": "code",
   "execution_count": 41,
   "id": "f12aa37d-d629-495e-9b6a-3cdf51518ea6",
   "metadata": {},
   "outputs": [
    {
     "name": "stdout",
     "output_type": "stream",
     "text": [
      "10--3\n",
      "20--2\n",
      "30--1\n",
      "40--2\n",
      "50--1\n",
      "60--1\n"
     ]
    }
   ],
   "source": [
    "dictobj={}\n",
    "for val in s:\n",
    "    if val not in dictobj:\n",
    "        dictobj[val]=1\n",
    "    else:\n",
    "        dictobj[val]=dictobj.get(val)+1\n",
    "for k,v in dictobj.items():\n",
    "    print(\"{}--{}\".format(k,v))"
   ]
  },
  {
   "cell_type": "code",
   "execution_count": null,
   "id": "adbd5197-3db9-43b6-935e-9ec290f6db70",
   "metadata": {},
   "outputs": [],
   "source": []
  }
 ],
 "metadata": {
  "kernelspec": {
   "display_name": "Python [conda env:base] *",
   "language": "python",
   "name": "conda-base-py"
  },
  "language_info": {
   "codemirror_mode": {
    "name": "ipython",
    "version": 3
   },
   "file_extension": ".py",
   "mimetype": "text/x-python",
   "name": "python",
   "nbconvert_exporter": "python",
   "pygments_lexer": "ipython3",
   "version": "3.12.7"
  }
 },
 "nbformat": 4,
 "nbformat_minor": 5
}
