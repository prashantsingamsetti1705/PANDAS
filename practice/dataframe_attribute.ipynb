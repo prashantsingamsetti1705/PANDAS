{
 "cells": [
  {
   "cell_type": "code",
   "execution_count": 1,
   "id": "4a377b97-0c3c-45b4-909e-ffb7ef20f550",
   "metadata": {},
   "outputs": [],
   "source": [
    "#there are 10 attribute are\n",
    "#index,columns,dtype,shape,size,values,empty,axes,T,ndim\n",
    "#we mostly perform in csv file only \n",
    "#dataframe is list,tuple,dict this are used to create mostly we use in csv"
   ]
  },
  {
   "cell_type": "code",
   "execution_count": 7,
   "id": "9d4eb6d9-1e60-4986-a81f-dc0960c360e9",
   "metadata": {},
   "outputs": [
    {
     "name": "stdout",
     "output_type": "stream",
     "text": [
      "   id     name  marks  course\n",
      "0   1  prshant  200.0  python\n",
      "1   2   rosumm  300.0  python\n"
     ]
    }
   ],
   "source": [
    "import pandas as pd\n",
    "s=pd.read_csv(\"C:\\\\Users\\\\prash\\\\OneDrive\\\\Desktop\\\\Pandas\\\\stud.csv\")\n",
    "df=pd.DataFrame(s)\n",
    "print(df)"
   ]
  },
  {
   "cell_type": "code",
   "execution_count": 9,
   "id": "580b96e9-4891-47bd-a4df-11bb92b12a77",
   "metadata": {},
   "outputs": [
    {
     "name": "stdout",
     "output_type": "stream",
     "text": [
      "RangeIndex(start=0, stop=2, step=1)\n"
     ]
    }
   ],
   "source": [
    "#now we are performing the attribute operation they are \n",
    "#uing the index\n",
    "i=s.index\n",
    "print(\"the row inde are\",i)"
   ]
  },
  {
   "cell_type": "code",
   "execution_count": 11,
   "id": "1166169e-5713-416a-ae06-a896c547b652",
   "metadata": {},
   "outputs": [
    {
     "name": "stdout",
     "output_type": "stream",
     "text": [
      "Index(['id', 'name', 'marks', 'course'], dtype='object')\n"
     ]
    }
   ],
   "source": [
    "#uing the columns\n",
    "i=s.columns\n",
    "print(\"the column names are\",i)"
   ]
  },
  {
   "cell_type": "code",
   "execution_count": 19,
   "id": "b37a7c33-76fb-4abe-a5e2-1f4bd7400528",
   "metadata": {},
   "outputs": [
    {
     "name": "stdout",
     "output_type": "stream",
     "text": [
      "id          int64\n",
      "name       object\n",
      "marks     float64\n",
      "course     object\n",
      "dtype: object\n"
     ]
    }
   ],
   "source": [
    "#uing the dtype\n",
    "i=s.dtypes\n",
    "print(\"the dytpes are\",i)"
   ]
  },
  {
   "cell_type": "code",
   "execution_count": 31,
   "id": "59f85316-fd55-49b1-9a62-5eae53c51959",
   "metadata": {},
   "outputs": [
    {
     "name": "stdout",
     "output_type": "stream",
     "text": [
      "the values [[1 'prshant' 200.0 'python']\n",
      " [2 'rosumm' 300.0 'python']]\n",
      "the sahpe is (2, 4)\n",
      "the size is 8\n",
      "the dim of i is  2\n"
     ]
    }
   ],
   "source": [
    "#uing the values\n",
    "i=s.values\n",
    "print(\"the values\",i)\n",
    "#using the shape\n",
    "i=s.shape\n",
    "print(\"the sahpe is\",i)\n",
    "#using the size\n",
    "i=s.size\n",
    "print(\"the size is\",i)\n",
    "#using the ndim\n",
    "i=s.ndim\n",
    "print(\"the dim of i is \",i)"
   ]
  },
  {
   "cell_type": "code",
   "execution_count": 49,
   "id": "537811ac-a26b-49d0-b4fa-4ba91062c1cb",
   "metadata": {},
   "outputs": [
    {
     "name": "stdout",
     "output_type": "stream",
     "text": [
      "the values of the empty False\n",
      "the axes are  RangeIndex(start=0, stop=2, step=1)\n",
      "the axes are  Index(['id', 'name', 'marks', 'course'], dtype='object')\n",
      "the transpose is               0       1\n",
      "id            1       2\n",
      "name    prshant  rosumm\n",
      "marks     200.0   300.0\n",
      "course   python  python\n",
      "--------------------------------------------------\n",
      "the transpose is id             2\n",
      "name      rosumm\n",
      "marks      300.0\n",
      "course    python\n",
      "Name: 1, dtype: object\n"
     ]
    }
   ],
   "source": [
    "#now we are using the empty and axes t\n",
    "#using the empty\n",
    "i=s.empty#we get true or false\n",
    "print(\"the values of the empty\",i)\n",
    "#using the axes\n",
    "i=s.axes[0]#[0]here it is row\n",
    "print(\"the axes are \",i)\n",
    "i=s.axes[1]#[1]here it is columns\n",
    "print(\"the axes are \",i)\n",
    "#now we are using the t as transpose matrix is\n",
    "i=s.T \n",
    "print(\"the transpose is\",i)\n",
    "print(\"-\"*50)\n",
    "#now we are using the t as transpose matrix is\n",
    "i=s.T[1]#[1] is the index we cans tanspose by using the index which row we want to tansprose\n",
    "print(\"the transpose is\",i)"
   ]
  },
  {
   "cell_type": "code",
   "execution_count": 51,
   "id": "2be3726b-37c6-40e0-9688-15b23507a861",
   "metadata": {},
   "outputs": [
    {
     "name": "stdout",
     "output_type": "stream",
     "text": [
      "the values [[1 'prshant' 200.0 'python']\n",
      " [2 'rosumm' 300.0 'python']]\n"
     ]
    }
   ],
   "source": [
    "#uing the values\n",
    "i=s.values\n",
    "print(\"the values\",i)"
   ]
  },
  {
   "cell_type": "code",
   "execution_count": 59,
   "id": "e4d0ec2b-41af-46c0-af73-550fac276f9b",
   "metadata": {},
   "outputs": [
    {
     "name": "stdout",
     "output_type": "stream",
     "text": [
      "\t 1\t prshant\t 200.0\t python\n",
      "\t 2\t rosumm\t 300.0\t python\n"
     ]
    }
   ],
   "source": [
    "for record in i:\n",
    "    for val in record:\n",
    "        print(\"\\t\",val,end=\"\")\n",
    "    print()"
   ]
  },
  {
   "cell_type": "code",
   "execution_count": null,
   "id": "b7b90635-c007-4870-ac88-a41b963df922",
   "metadata": {},
   "outputs": [],
   "source": []
  }
 ],
 "metadata": {
  "kernelspec": {
   "display_name": "Python [conda env:base] *",
   "language": "python",
   "name": "conda-base-py"
  },
  "language_info": {
   "codemirror_mode": {
    "name": "ipython",
    "version": 3
   },
   "file_extension": ".py",
   "mimetype": "text/x-python",
   "name": "python",
   "nbconvert_exporter": "python",
   "pygments_lexer": "ipython3",
   "version": "3.12.7"
  }
 },
 "nbformat": 4,
 "nbformat_minor": 5
}
